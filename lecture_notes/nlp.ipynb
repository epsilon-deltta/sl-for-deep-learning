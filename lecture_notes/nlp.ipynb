{
 "cells": [
  {
   "cell_type": "markdown",
   "id": "generous-knight",
   "metadata": {},
   "source": [
    "## NLP"
   ]
  },
  {
   "cell_type": "code",
   "execution_count": 1,
   "id": "decreased-proposition",
   "metadata": {},
   "outputs": [],
   "source": [
    "from keras.layers import Dense, Dropout, Activation\n",
    "from keras.layers import Embedding ,LSTM , Conv1D, MaxPooling1D"
   ]
  },
  {
   "cell_type": "code",
   "execution_count": null,
   "id": "instrumental-gibraltar",
   "metadata": {},
   "outputs": [],
   "source": [
    "단어를 vectorization 하기 해야하는데.. 😒\n",
    "one hot encodding vs word embedding"
   ]
  },
  {
   "cell_type": "markdown",
   "id": "annual-appeal",
   "metadata": {},
   "source": [
    "## Word embedding  \n",
    "### Based on Frequency \n",
    "- CountVectorizer : 횟수\n",
    "- TfidfVectorizer : TF-IDF (Term Frequency X Inverse Document Frequency)\n",
    "\n",
    "what i dont know :(LSA??),NPLM ?\n",
    "### Based on Prediction \n",
    "- NPLM  : Bengio et al., A Neural Probabilistic Language Model, 2003\n",
    "- Word2Vec (google): Distributed hypothesis : Tomas Mikolov. Distributed Representations of Words and Phrases and their Compositionality. In Proceedings of NIPS, 2013.\n",
    "    - CBow \n",
    "    - Skip-gram  \n",
    "- FastText (facebook)\n",
    "- Glove ()\n"
   ]
  },
  {
   "cell_type": "markdown",
   "id": "destroyed-production",
   "metadata": {},
   "source": [
    "### ABOUT word2vec : Birds of a feather flock together\n",
    "> __비슷한 위치에서 등장하는 단어들은 비슷한 의미를 가진다__   \n",
    "distributed representation < distributional hypothesis\n",
    "- Cbow (Continuous Bag of Words)\n",
    "- Skip-gram (has better perpormance compared to CBOW)\n",
    "[problem](https://inspiringpeople.github.io/data%20analysis/word_embedding/)\n",
    "\n",
    "- [장단점](https://inspiringpeople.github.io/data%20analysis/word_embedding/)"
   ]
  },
  {
   "cell_type": "markdown",
   "id": "arabic-disclosure",
   "metadata": {},
   "source": [
    "##### keras Embedding Layer   \n",
    "Embedding(words set size,embedding vector size,input_dim=)  \n",
    "[ 13,3,5,7 ] - > [ [12,...,12] ,[23,...,44], [12,...,12] ,[23,...,44] ]  \n",
    "Q. [vector,vector,..] 도 인풋으로 들어갈수있는가 ? (pretrained 사용하고 또 임베딩 조질려고)  \n",
    "vector 는 안되고 정수 인코딩만 된단다 : [https://wikidocs.net/33793](https://wikidocs.net/33793)\n"
   ]
  },
  {
   "cell_type": "markdown",
   "id": "communist-nevada",
   "metadata": {},
   "source": [
    "### Pre-trained Embedding Model\n",
    "korean\n",
    "- word2vec :\n",
    "    - [박규병님(2017년 마지막 업데이트,(30185개, 200차원))](https://github.com/Kyubyong/wordvectors)\n",
    "- FastText :\n",
    "    - [model](https://fasttext.cc/docs/en/crawl-vectors.html) , [.whl (pip install file.whl)(fasttext,it doesn't work well in windows)](https://www.lfd.uci.edu/~gohlke/pythonlibs/#fasttext)\n"
   ]
  },
  {
   "cell_type": "code",
   "execution_count": null,
   "id": "martial-console",
   "metadata": {},
   "outputs": [],
   "source": [
    "one hot encoding : 띠발 메모리 넘칠일있냐 \n",
    "word embedding : 그래 먼가 좀 비슷한 놈끼리 벡터 유사도도 갖고 해야지 모델이 이해를 할거 아이가 "
   ]
  },
  {
   "cell_type": "markdown",
   "id": "potential-package",
   "metadata": {},
   "source": [
    "### How to make Word Embedding ..\n",
    "띠부랄 좋아보이긴하는데 어떻게 임베딩 때리냐... ~~원핫인코가 쉽긴한데~~ "
   ]
  },
  {
   "cell_type": "markdown",
   "id": "violent-uniform",
   "metadata": {},
   "source": [
    "### ways of word Embedding\n",
    "LSA, Word2Vec, FastText, Glove"
   ]
  },
  {
   "cell_type": "markdown",
   "id": "dedicated-thermal",
   "metadata": {},
   "source": [
    "Time to Hunt Word2Vec , Doc2Vec  "
   ]
  },
  {
   "cell_type": "markdown",
   "id": "caring-rough",
   "metadata": {},
   "source": [
    "### Sequantial Model "
   ]
  },
  {
   "cell_type": "markdown",
   "id": "respiratory-bikini",
   "metadata": {},
   "source": [
    "- lstm : [S.Hochreiter와 J.Schmidhuber가 1997년에 제안한 셀](https://www.mitpressjournals.org/doi/abs/10.1162/neco.1997.9.8.1735#.WIxuWvErJnw)\n",
    "- GRU : [Learning Phrase Representations using RNN Encoder–Decoder\n",
    "for Statistical Machine Translation](https://arxiv.org/pdf/1406.1078v3.pdf)                 - Seq2Seq    \n",
    "- Seq2Seq with Attention   \n",
    "- Transformer [Attention is All we need](https://arxiv.org/abs/1706.03762)  \n"
   ]
  },
  {
   "cell_type": "code",
   "execution_count": null,
   "id": "catholic-familiar",
   "metadata": {},
   "outputs": [],
   "source": []
  }
 ],
 "metadata": {
  "kernelspec": {
   "display_name": "Python 3",
   "language": "python",
   "name": "python3"
  },
  "language_info": {
   "codemirror_mode": {
    "name": "ipython",
    "version": 3
   },
   "file_extension": ".py",
   "mimetype": "text/x-python",
   "name": "python",
   "nbconvert_exporter": "python",
   "pygments_lexer": "ipython3",
   "version": "3.6.12"
  },
  "widgets": {
   "application/vnd.jupyter.widget-state+json": {
    "state": {},
    "version_major": 2,
    "version_minor": 0
   }
  }
 },
 "nbformat": 4,
 "nbformat_minor": 5
}
