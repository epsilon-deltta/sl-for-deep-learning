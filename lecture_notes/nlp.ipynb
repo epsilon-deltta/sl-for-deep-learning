{
 "cells": [
  {
   "cell_type": "markdown",
   "id": "collectible-bubble",
   "metadata": {},
   "source": [
    "## NLP"
   ]
  },
  {
   "cell_type": "code",
   "execution_count": 1,
   "id": "certified-nebraska",
   "metadata": {},
   "outputs": [],
   "source": [
    "from keras.layers import Dense, Dropout, Activation\n",
    "from keras.layers import Embedding ,LSTM , Conv1D, MaxPooling1D"
   ]
  },
  {
   "cell_type": "code",
   "execution_count": null,
   "id": "induced-amplifier",
   "metadata": {},
   "outputs": [],
   "source": [
    "단어를 vectorization 하기 해야하는데.. 😒\n",
    "one hot encodding vs word embedding"
   ]
  },
  {
   "cell_type": "code",
   "execution_count": null,
   "id": "studied-bandwidth",
   "metadata": {},
   "outputs": [],
   "source": [
    "one hot encoding : 띠발 메모리 넘칠일있냐 \n",
    "word embedding : 그래 먼가 좀 비슷한 놈끼리 벡터 유사도도 갖고 해야지 모델이 이해를 할거 아이가 "
   ]
  },
  {
   "cell_type": "markdown",
   "id": "powered-yield",
   "metadata": {},
   "source": [
    "### How to make Word Embedding ..\n",
    "띠부랄 좋아보이긴하는데 어떻게 임베딩 때리냐... ~~원핫인코가 쉽긴한데~~ "
   ]
  },
  {
   "cell_type": "code",
   "execution_count": null,
   "id": "criminal-poker",
   "metadata": {},
   "outputs": [],
   "source": []
  }
 ],
 "metadata": {
  "kernelspec": {
   "display_name": "Python 3",
   "language": "python",
   "name": "python3"
  },
  "language_info": {
   "codemirror_mode": {
    "name": "ipython",
    "version": 3
   },
   "file_extension": ".py",
   "mimetype": "text/x-python",
   "name": "python",
   "nbconvert_exporter": "python",
   "pygments_lexer": "ipython3",
   "version": "3.6.12"
  }
 },
 "nbformat": 4,
 "nbformat_minor": 5
}
