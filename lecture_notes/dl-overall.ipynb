{
 "cells": [
  {
   "cell_type": "markdown",
   "id": "sudden-height",
   "metadata": {},
   "source": [
    "- lstm : [S.Hochreiter와 J.Schmidhuber가 1997년에 제안한 셀](https://www.mitpressjournals.org/doi/abs/10.1162/neco.1997.9.8.1735#.WIxuWvErJnw)\n",
    "- GRU : [Learning Phrase Representations using RNN Encoder–Decoder\n",
    "for Statistical Machine Translation](https://arxiv.org/pdf/1406.1078v3.pdf)                 - Seq2Seq    \n",
    "- Seq2Seq with Attention   \n",
    "- Transformer [Attention is All we need](https://arxiv.org/abs/1706.03762)  \n"
   ]
  },
  {
   "cell_type": "markdown",
   "id": "protected-archive",
   "metadata": {},
   "source": [
    "### Initialization "
   ]
  },
  {
   "cell_type": "markdown",
   "id": "valued-terminology",
   "metadata": {},
   "source": [
    "- Zero prob : symmetry learning\n",
    "- Random  (Standard normal distribution) :  vanishing gradients problem, exploding gradients problem \n",
    "- Lecun : [Efficiency Backprop](http://yann.lecun.com/exdb/publis/pdf/lecun-98b.pdf)\n",
    "- Xavier initialization :  [Understanding the difficulty of training deep feedforward neural networks](http://proceedings.mlr.press/v9/glorot10a/glorot10a.pdf)\n",
    "- He : [Delving Deep into Rectifiers: Surpassing Human-Level Performance on ImageNet Classification](https://arxiv.org/abs/1502.01852)\n"
   ]
  },
  {
   "cell_type": "code",
   "execution_count": null,
   "id": "mineral-sixth",
   "metadata": {},
   "outputs": [],
   "source": []
  }
 ],
 "metadata": {
  "kernelspec": {
   "display_name": "kera",
   "language": "python",
   "name": "kera"
  },
  "language_info": {
   "codemirror_mode": {
    "name": "ipython",
    "version": 3
   },
   "file_extension": ".py",
   "mimetype": "text/x-python",
   "name": "python",
   "nbconvert_exporter": "python",
   "pygments_lexer": "ipython3",
   "version": "3.6.12"
  },
  "widgets": {
   "application/vnd.jupyter.widget-state+json": {
    "state": {},
    "version_major": 2,
    "version_minor": 0
   }
  }
 },
 "nbformat": 4,
 "nbformat_minor": 5
}
