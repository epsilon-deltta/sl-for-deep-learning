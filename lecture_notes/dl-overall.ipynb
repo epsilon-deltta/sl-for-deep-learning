{
 "cells": [
  {
   "cell_type": "markdown",
   "id": "given-numbers",
   "metadata": {},
   "source": [
    "- lstm : [S.Hochreiter와 J.Schmidhuber가 1997년에 제안한 셀](https://www.mitpressjournals.org/doi/abs/10.1162/neco.1997.9.8.1735#.WIxuWvErJnw)\n",
    "- GRU : [Learning Phrase Representations using RNN Encoder–Decoder\n",
    "for Statistical Machine Translation](https://arxiv.org/pdf/1406.1078v3.pdf)                 - Seq2Seq    \n",
    "- Seq2Seq with Attention   \n",
    "- Transformer [Attention is All we need](https://arxiv.org/abs/1706.03762)  \n"
   ]
  },
  {
   "cell_type": "markdown",
   "id": "excessive-collar",
   "metadata": {},
   "source": [
    "### Initialization "
   ]
  },
  {
   "cell_type": "markdown",
   "id": "pharmaceutical-greek",
   "metadata": {},
   "source": [
    "- Zero prob : symmetry learning\n",
    "- Random  (Standard normal distribution) :  vanishing gradients problem, exploding gradients problem \n",
    "- Lecun : [Efficiency Backprop](http://yann.lecun.com/exdb/publis/pdf/lecun-98b.pdf)\n",
    "- Xavier initialization(2010) :  [Understanding the difficulty of training deep feedforward neural networks](http://proceedings.mlr.press/v9/glorot10a/glorot10a.pdf)\n",
    "- He(2015) : [Delving Deep into Rectifiers: Surpassing Human-Level Performance on ImageNet Classification](https://arxiv.org/abs/1502.01852)\n",
    "- LSUV(Layer-sequential unit-variance,2015) : [All you need is a good init](https://arxiv.org/abs/1511.06422)"
   ]
  },
  {
   "cell_type": "markdown",
   "id": "metallic-glory",
   "metadata": {},
   "source": [
    "### Cross Validation "
   ]
  },
  {
   "cell_type": "code",
   "execution_count": 1,
   "id": "flexible-paris",
   "metadata": {},
   "outputs": [],
   "source": [
    "- hold out\n",
    "- kFold\n",
    "- leave-p-out"
   ]
  },
  {
   "cell_type": "code",
   "execution_count": null,
   "id": "quick-circulation",
   "metadata": {},
   "outputs": [],
   "source": [
    "- 데이터가 독립적이고 동일한 분포를 가진 경우\n",
    "KFold, RepeatedKFold, LeaveOneOut(LOO), LeavePOutLeaveOneOut(LPO)\n",
    "- 동일한 분포가 아닌 경우\n",
    "StratifiedKFold, RepeatedStratifiedKFold, StratifiedShuffleSplit\n",
    "- 그룹화된 데이터의 경우\n",
    "GroupKFold, LeaveOneGroupOut, LeavePGroupsOut, GroupShuffleSplit\n",
    "- 시계열 데이터의 경우\n",
    "TimeSeriesSplit\n"
   ]
  },
  {
   "cell_type": "code",
   "execution_count": null,
   "id": "offshore-capture",
   "metadata": {},
   "outputs": [],
   "source": [
    "= sklearn.model_selection\n",
    "== hyperparameter tunning\n",
    "GridSearchCV\n",
    "RandomizedSearchCV\n",
    "ParameterGrid\n",
    "\n",
    "== cross-validation\n",
    "\n",
    "train_test_split\n",
    "PredefinedSplit\n",
    "ShuffleSplit\n",
    "GroupShuffleSplit\n",
    "StratifiedShuffleSplit\n",
    "TimeSeriesSplit\n",
    "== kFold\n",
    "KFold\n",
    "GroupKFold\n",
    "StratifiedKFold\n",
    "RepeatedKFold\n",
    "RepeatedStratifiedKFold\n",
    "== leave-p-out\n",
    "LeaveOneOut\n",
    "LeaveOneGroupOut\n",
    "LeavePOut\n",
    "LeavePGroupsOut\n",
    "\n",
    "== validation index\n",
    "cross_val_predict\n",
    "cross_val_score # test accuracy \n",
    "cross_validate # fit_time,score_time, test_score,train_score"
   ]
  }
 ],
 "metadata": {
  "kernelspec": {
   "display_name": "kera",
   "language": "python",
   "name": "kera"
  },
  "language_info": {
   "codemirror_mode": {
    "name": "ipython",
    "version": 3
   },
   "file_extension": ".py",
   "mimetype": "text/x-python",
   "name": "python",
   "nbconvert_exporter": "python",
   "pygments_lexer": "ipython3",
   "version": "3.6.12"
  },
  "widgets": {
   "application/vnd.jupyter.widget-state+json": {
    "state": {},
    "version_major": 2,
    "version_minor": 0
   }
  }
 },
 "nbformat": 4,
 "nbformat_minor": 5
}
