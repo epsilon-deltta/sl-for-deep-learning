{
 "cells": [
  {
   "cell_type": "markdown",
   "id": "present-daily",
   "metadata": {},
   "source": [
    "### Functional api"
   ]
  },
  {
   "cell_type": "code",
   "execution_count": 2,
   "id": "hindu-faculty",
   "metadata": {},
   "outputs": [],
   "source": [
    "from tensorflow.keras.layers import Input, Dense, concatenate\n",
    "from tensorflow.keras.models import Model"
   ]
  },
  {
   "cell_type": "code",
   "execution_count": 3,
   "id": "verified-glass",
   "metadata": {},
   "outputs": [],
   "source": [
    "inputA = Input(shape=(64,))\n",
    "inputB = Input(shape=(128,))\n",
    "\n",
    "x = Dense(16, activation=\"relu\")(inputA)\n",
    "x = Dense(8, activation=\"relu\")(x)\n",
    "x = Model(inputs=inputA, outputs=x)\n",
    "\n",
    "y = Dense(64, activation=\"relu\")(inputB)\n",
    "y = Dense(32, activation=\"relu\")(y)\n",
    "y = Dense(8, activation=\"relu\")(y)\n",
    "y = Model(inputs=inputB, outputs=y)\n",
    "\n",
    "result = concatenate([x.output, y.output])\n",
    "\n",
    "z0  = Dense(2, activation=\"relu\")(result)\n",
    "z1  = Dense(2, activation=\"relu\")(z0)\n",
    "z1  = Dense(2, activation=\"sigmoid\")(z1)\n",
    "z = Dense(4, activation=\"linear\")(z0)\n",
    "\n",
    "model = Model(inputs=[x.input, y.input], outputs=[z1,z])"
   ]
  },
  {
   "cell_type": "code",
   "execution_count": 6,
   "id": "comparative-greene",
   "metadata": {},
   "outputs": [],
   "source": [
    "model.save('showme.h5')"
   ]
  },
  {
   "cell_type": "markdown",
   "id": "acceptable-dubai",
   "metadata": {},
   "source": [
    "### subclassing api"
   ]
  },
  {
   "cell_type": "code",
   "execution_count": null,
   "id": "incident-richardson",
   "metadata": {},
   "outputs": [],
   "source": [
    "class MyModel(Model):\n",
    "    def __init__(self):\n",
    "        super(MyModel, self).__init__()\n",
    "        self.conv1 = Conv2D(32, 3, activation='relu')\n",
    "        self.flatten = Flatten()\n",
    "        self.d1 = Dense(128, activation='relu')\n",
    "        self.d2 = Dense(10, activation='softmax')\n",
    "\n",
    "    def call(self, x):\n",
    "        x = self.conv1(x)\n",
    "        x = self.flatten(x)\n",
    "        x = self.d1(x)\n",
    "        return self.d2(x)\n",
    "\n",
    "model = MyModel()"
   ]
  }
 ],
 "metadata": {
  "kernelspec": {
   "display_name": "Python 3",
   "language": "python",
   "name": "python3"
  },
  "language_info": {
   "codemirror_mode": {
    "name": "ipython",
    "version": 3
   },
   "file_extension": ".py",
   "mimetype": "text/x-python",
   "name": "python",
   "nbconvert_exporter": "python",
   "pygments_lexer": "ipython3",
   "version": "3.6.12"
  }
 },
 "nbformat": 4,
 "nbformat_minor": 5
}
