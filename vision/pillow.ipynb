{
 "cells": [
  {
   "cell_type": "markdown",
   "id": "automated-inquiry",
   "metadata": {},
   "source": [
    "## PIL "
   ]
  },
  {
   "cell_type": "code",
   "execution_count": null,
   "id": "occasional-static",
   "metadata": {},
   "outputs": [],
   "source": [
    "from PIL import Image \n",
    "import requests as rq\n",
    "import io\n",
    "url = 'https://www.inews365.com/data/photos/20191144/art_15727556161757.jpg'\n",
    "bimg = rq.get(url).content\n",
    "img = Image.open(io.BytesIO(bimg))\n",
    "\n",
    "url = 'http://www.cbiz.kr/news/photo/202008/19386_25763_5725.jpg'\n",
    "bimg0 = rq.get(url).content\n",
    "img0 = Image.open(io.BytesIO(bimg0))\n",
    "\n",
    "url = 'https://www.cju.ac.kr/DATA/editor/images/20200330/202003301606046080gD.jpg'\n",
    "bimg1 = rq.get(url).content\n",
    "img1 = Image.open(io.BytesIO(bimg1))\n",
    "\n",
    "from torchvision.transforms import ToTensor as tt\n",
    "import torchvision.transforms.functional as FT\n",
    "from PIL import ImageFilter\n",
    "img0 = img.filter(ImageFilter.BLUR)\n",
    "box = (180,75,210,118)\n",
    "img.crop(box)\n",
    "box = (180,75,210,118)\n",
    "hj = img.crop(box)\n",
    "img.paste(hj,(40,86))\n",
    "img.split()[0]\n",
    "a.point(lambda x : 0.5*x)\n",
    "i = 0\n",
    "a = img.split()[i] ; b = img00.split()[i]; c = img11.split()[i]\n",
    "mr = Image.merge('RGB',(c,c,a.point(lambda x: 0.5*x) )  )\n",
    "\n",
    "# convert between img modes\n",
    "mr.convert('L')"
   ]
  },
  {
   "cell_type": "code",
   "execution_count": 4,
   "id": "accomplished-receptor",
   "metadata": {},
   "outputs": [],
   "source": [
    "#  draw rectangles ,text on picture\n",
    "from PIL import Image \n",
    "from PIL import ImageDraw as imd\n",
    "url = 'https://www.cju.ac.kr/DATA/editor/images/20191104/201911041020121314xL.png'\n",
    "import requests as rq\n",
    "import io\n",
    "img = Image.open(io.BytesIO(rq.get(url).content)  )\n",
    "\n",
    "hg_box = 240,75,273,130\n",
    "hj = img.crop(hg_box)\n",
    "\n",
    "img.paste(hj,(40,20))\n",
    "img.paste(hj,(490,20))\n",
    "\n",
    "dr = imd.Draw(img)\n",
    "dr.rectangle(xy=hg_box,outline=(255,255,0)) # xy = (x1,y1,x2,y2) , outline = color (e.g. 'red' ,'yellow', (255,255,255))\n",
    "dr.text((30,30),'celebrate')"
   ]
  },
  {
   "cell_type": "code",
   "execution_count": null,
   "id": "3278a581-5ed2-4efa-83a3-7ebcff89f250",
   "metadata": {},
   "outputs": [],
   "source": [
    "# mode, (size) ,rgb(200,200,200)  \n",
    "im2 = Image.new(\"RGB\", (500,500), (200,200,200))\n"
   ]
  }
 ],
 "metadata": {
  "kernelspec": {
   "display_name": "tor1.9",
   "language": "python",
   "name": "tor1.9"
  },
  "language_info": {
   "codemirror_mode": {
    "name": "ipython",
    "version": 3
   },
   "file_extension": ".py",
   "mimetype": "text/x-python",
   "name": "python",
   "nbconvert_exporter": "python",
   "pygments_lexer": "ipython3",
   "version": "3.6.13"
  },
  "widgets": {
   "application/vnd.jupyter.widget-state+json": {
    "state": {},
    "version_major": 2,
    "version_minor": 0
   }
  }
 },
 "nbformat": 4,
 "nbformat_minor": 5
}
