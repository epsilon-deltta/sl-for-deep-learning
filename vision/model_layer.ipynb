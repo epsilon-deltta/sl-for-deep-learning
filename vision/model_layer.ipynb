{
 "cells": [
  {
   "cell_type": "markdown",
   "id": "09790d5f-99a7-4f41-ae74-dbc7367654b6",
   "metadata": {},
   "source": [
    "### Conv types "
   ]
  },
  {
   "cell_type": "code",
   "execution_count": 8,
   "id": "005387d7-da1b-455a-825d-3ecf07b5ad13",
   "metadata": {},
   "outputs": [],
   "source": [
    "import torch\n",
    "x = torch.rand(1,3,200,210)"
   ]
  },
  {
   "cell_type": "markdown",
   "id": "d5048659-fb0d-493b-8877-0285bbca9eb9",
   "metadata": {},
   "source": [
    "#### Depth-wise Convolution "
   ]
  },
  {
   "cell_type": "markdown",
   "id": "2f95242f-1089-4267-a917-7dc77068e276",
   "metadata": {},
   "source": [
    "![](./fig/depthwise.png)"
   ]
  },
  {
   "cell_type": "code",
   "execution_count": 2,
   "id": "5e6b8062-475d-419d-a69a-feeb53938084",
   "metadata": {},
   "outputs": [],
   "source": [
    "from torch import nn\n",
    "class depthwise_conv(nn.Module):\n",
    "    def __init__(self, nin, kernels_per_layer):\n",
    "        super(depthwise_separable_conv, self).__init__()\n",
    "        self.depthwise = nn.Conv2d(nin, nin * kernels_per_layer, kernel_size=3, padding=1, groups=nin)\n",
    "\n",
    "\n",
    "    def forward(self, x):\n",
    "        out = self.depthwise(x)\n",
    "        return out"
   ]
  },
  {
   "cell_type": "code",
   "execution_count": 38,
   "id": "f71620b0-4bd4-47bf-9682-508c14870c27",
   "metadata": {},
   "outputs": [
    {
     "name": "stdout",
     "output_type": "stream",
     "text": [
      "weight torch.Size([6, 1, 3, 3])\n"
     ]
    }
   ],
   "source": [
    "conv = nn.Conv2d(3,6,kernel_size=3,padding=1,groups=3)\n",
    "\n",
    "print('weight',conv.weight.shape)"
   ]
  },
  {
   "cell_type": "code",
   "execution_count": 39,
   "id": "febe9c43-60d7-438e-ae19-04fbe214e54b",
   "metadata": {},
   "outputs": [
    {
     "data": {
      "text/plain": [
       "torch.Size([1, 6, 200, 210])"
      ]
     },
     "execution_count": 39,
     "metadata": {},
     "output_type": "execute_result"
    }
   ],
   "source": [
    "conv(x).shape"
   ]
  },
  {
   "cell_type": "markdown",
   "id": "a2c41e4b-8a4b-4c4b-b66a-2d3a207454de",
   "metadata": {},
   "source": [
    "#### Point wise Conv (1x1 conv) "
   ]
  },
  {
   "cell_type": "code",
   "execution_count": 40,
   "id": "4677f45e-c2c1-4af8-9abd-03a000f9d2ba",
   "metadata": {},
   "outputs": [],
   "source": [
    "\n",
    "class pointwise_conv(nn.Module):\n",
    "    def __init__(self, nin, nout):\n",
    "        super(depthwise_separable_conv, self).__init__()\n",
    "        self.pointwise = nn.Conv2d(nin, nout, kernel_size=1)\n",
    "\n",
    "    def forward(self, x):\n",
    "        out = self.pointwise(x)\n",
    "        return out"
   ]
  },
  {
   "cell_type": "markdown",
   "id": "40c7deb8-5619-41f3-868b-7ffd0b19643b",
   "metadata": {},
   "source": [
    "#### Depth wise separable conv  "
   ]
  },
  {
   "cell_type": "markdown",
   "id": "cbe2d801-c13a-4a8d-9200-79eaa04db3d6",
   "metadata": {},
   "source": [
    "![](./fig/depth_wise_separable.png)"
   ]
  },
  {
   "cell_type": "code",
   "execution_count": 41,
   "id": "bdd3908d-a503-4ad4-a12c-d6b67ad94eb4",
   "metadata": {},
   "outputs": [],
   "source": [
    "# depth-wise conv + 1x1 conv\n",
    "class depthwise_separable_conv(nn.Module):\n",
    "    def __init__(self, nin, kernels_per_layer, nout):\n",
    "        super(depthwise_separable_conv, self).__init__()\n",
    "        self.depthwise = nn.Conv2d(nin, nin * kernels_per_layer, kernel_size=3, padding=1, groups=nin)\n",
    "        self.pointwise = nn.Conv2d(nin * kernels_per_layer, nout, kernel_size=1)\n",
    "\n",
    "    def forward(self, x):\n",
    "        out = self.depthwise(x)\n",
    "        out = self.pointwise(out)\n",
    "        return out"
   ]
  },
  {
   "cell_type": "markdown",
   "id": "6c2ce932-6b04-407e-a877-dd9905c05667",
   "metadata": {},
   "source": [
    "#### Dilated Conv"
   ]
  },
  {
   "cell_type": "markdown",
   "id": "c88c0047-e69a-4543-bae3-4537ae602924",
   "metadata": {},
   "source": [
    "![](./fig/14.gif)"
   ]
  },
  {
   "cell_type": "code",
   "execution_count": 44,
   "id": "ca059125-4e3e-4e3e-849a-02029c886df2",
   "metadata": {},
   "outputs": [],
   "source": [
    "nn.Conv2d(\n",
    "    in_channels:int,\n",
    "    out_channels:int,\n",
    "    kernel_size:Union[int, Tuple[int, int]],\n",
    "    stride:Union[int, Tuple[int, int]]=1,\n",
    "    padding:Union[str, int, Tuple[int, int]]=0,\n",
    "    dilation:Union[int, Tuple[int, int]]=1,\n",
    "    groups:int=1,\n",
    "    bias:bool=True,\n",
    "    padding_mode:str='zeros',\n",
    "    device=None,\n",
    "    dtype=None,\n",
    ") -> None"
   ]
  },
  {
   "cell_type": "markdown",
   "id": "e3c55d3f-e31a-41bb-bc8e-016d8d600a79",
   "metadata": {},
   "source": [
    "### LKA (Large Kernel Attention) "
   ]
  },
  {
   "cell_type": "code",
   "execution_count": null,
   "id": "73eee4ac-2dad-4728-9f03-bf4f7299b473",
   "metadata": {},
   "outputs": [],
   "source": [
    "class LKA(nn.Module):\n",
    "    def __init__(self, dim):\n",
    "        super().__init__()\n",
    "        self.conv0 = nn.Conv2d(dim, dim, 5, padding=2, groups=dim)\n",
    "        self.conv_spatial = nn.Conv2d(dim, dim, 7, stride=1, padding=9, groups=dim, dilation=3)\n",
    "        self.conv1 = nn.Conv2d(dim, dim, 1)\n",
    "\n",
    "\n",
    "    def forward(self, x):\n",
    "        u = x.clone()        \n",
    "        attn = self.conv0(x)\n",
    "        attn = self.conv_spatial(attn)\n",
    "        attn = self.conv1(attn)\n",
    "\n",
    "        return u * attn"
   ]
  }
 ],
 "metadata": {
  "kernelspec": {
   "display_name": "torch",
   "language": "python",
   "name": "torch"
  },
  "language_info": {
   "codemirror_mode": {
    "name": "ipython",
    "version": 3
   },
   "file_extension": ".py",
   "mimetype": "text/x-python",
   "name": "python",
   "nbconvert_exporter": "python",
   "pygments_lexer": "ipython3",
   "version": "3.6.13"
  }
 },
 "nbformat": 4,
 "nbformat_minor": 5
}
