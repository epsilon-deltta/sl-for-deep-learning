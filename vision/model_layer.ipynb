{
 "cells": [
  {
   "cell_type": "code",
   "execution_count": 8,
   "id": "005387d7-da1b-455a-825d-3ecf07b5ad13",
   "metadata": {},
   "outputs": [],
   "source": [
    "import torch\n",
    "x = torch.rand(1,3,200,210)"
   ]
  },
  {
   "cell_type": "markdown",
   "id": "d5048659-fb0d-493b-8877-0285bbca9eb9",
   "metadata": {},
   "source": [
    "#### Depth-wise Convolution "
   ]
  },
  {
   "cell_type": "code",
   "execution_count": 2,
   "id": "5e6b8062-475d-419d-a69a-feeb53938084",
   "metadata": {},
   "outputs": [],
   "source": [
    "from torch import nn\n",
    "class depthwise_conv(nn.Module):\n",
    "    def __init__(self, nin, kernels_per_layer):\n",
    "        super(depthwise_separable_conv, self).__init__()\n",
    "        self.depthwise = nn.Conv2d(nin, nin * kernels_per_layer, kernel_size=3, padding=1, groups=nin)\n",
    "\n",
    "\n",
    "    def forward(self, x):\n",
    "        out = self.depthwise(x)\n",
    "        return out"
   ]
  },
  {
   "cell_type": "code",
   "execution_count": 38,
   "id": "f71620b0-4bd4-47bf-9682-508c14870c27",
   "metadata": {},
   "outputs": [
    {
     "name": "stdout",
     "output_type": "stream",
     "text": [
      "weight torch.Size([6, 1, 3, 3])\n"
     ]
    }
   ],
   "source": [
    "conv = nn.Conv2d(3,6,kernel_size=3,padding=1,groups=3)\n",
    "\n",
    "print('weight',conv.weight.shape)"
   ]
  },
  {
   "cell_type": "code",
   "execution_count": 39,
   "id": "febe9c43-60d7-438e-ae19-04fbe214e54b",
   "metadata": {},
   "outputs": [
    {
     "data": {
      "text/plain": [
       "torch.Size([1, 6, 200, 210])"
      ]
     },
     "execution_count": 39,
     "metadata": {},
     "output_type": "execute_result"
    }
   ],
   "source": [
    "conv(x).shape"
   ]
  }
 ],
 "metadata": {
  "kernelspec": {
   "display_name": "torch",
   "language": "python",
   "name": "torch"
  },
  "language_info": {
   "codemirror_mode": {
    "name": "ipython",
    "version": 3
   },
   "file_extension": ".py",
   "mimetype": "text/x-python",
   "name": "python",
   "nbconvert_exporter": "python",
   "pygments_lexer": "ipython3",
   "version": "3.6.13"
  }
 },
 "nbformat": 4,
 "nbformat_minor": 5
}
