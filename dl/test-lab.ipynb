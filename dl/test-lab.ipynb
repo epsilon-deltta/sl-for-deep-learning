{
 "cells": [
  {
   "cell_type": "markdown",
   "id": "sitting-quality",
   "metadata": {
    "id": "boolean-toyota"
   },
   "source": [
    "<a href=\"https://colab.research.google.com/github/epsilon-deltta/sl-for-dl/blob/master/dl/test-lab.ipynb\" target=\"_parent\"><img src=\"https://colab.research.google.com/assets/colab-badge.svg\" alt=\"Open In Colab\"/></a>"
   ]
  },
  {
   "cell_type": "markdown",
   "id": "southwest-meditation",
   "metadata": {
    "id": "NTehbmLH92L1"
   },
   "source": [
    "### ml"
   ]
  },
  {
   "cell_type": "markdown",
   "id": "stable-dietary",
   "metadata": {
    "id": "involved-employee"
   },
   "source": [
    "#### sonar "
   ]
  },
  {
   "cell_type": "code",
   "execution_count": null,
   "id": "instant-chess",
   "metadata": {
    "id": "extreme-spray"
   },
   "outputs": [],
   "source": [
    "from keras.models import Sequential\n",
    "from keras.layers.core import Dense\n",
    "from sklearn.preprocessing import LabelEncoder\n",
    "from sklearn.model_selection import StratifiedKFold\n",
    "\n",
    "import numpy\n",
    "import pandas as pd\n",
    "import tensorflow as tf\n",
    "\n",
    "# seed 값 설정\n",
    "seed = 0\n",
    "numpy.random.seed(seed)\n",
    "tf.random.set_seed(3)\n",
    "\n",
    "df = pd.read_csv('../dataset/sonar.csv', header=None)\n",
    "\n",
    "df.info()\n",
    "\n",
    "# dataset = df.values\n",
    "X = df.iloc[:,0:60]\n",
    "Y_obj = df.iloc[:,60]\n",
    "\n",
    "e = LabelEncoder()\n",
    "e.fit(Y_obj)\n",
    "Y = e.transform(Y_obj)\n",
    "# 빈 accuracy 배열\n",
    "accuracy = []\n",
    "X = X.to_numpy()"
   ]
  },
  {
   "cell_type": "code",
   "execution_count": null,
   "id": "hazardous-purse",
   "metadata": {
    "id": "three-subdivision"
   },
   "outputs": [],
   "source": [
    "from sklearn.model_selection import StratifiedKFold\n",
    "# 10개의 파일로 쪼갬\n",
    "n_fold = 2\n",
    "skf = StratifiedKFold(n_splits=n_fold, shuffle=True, random_state=seed)\n",
    "\n",
    "\n",
    "# 모델의 설정, 컴파일, 실행\n",
    "for train, test in skf.split(X, Y):\n",
    "    model = Sequential()\n",
    "    model.add(Dense(24, input_dim=60, activation='relu'))\n",
    "    model.add(Dense(10, activation='relu'))\n",
    "    model.add(Dense(1, activation='sigmoid'))\n",
    "    model.compile(loss='mean_squared_error',\n",
    "                  optimizer='adam',\n",
    "                  metrics=['accuracy'])\n",
    "    model.fit(X[train], Y[train], epochs=100, batch_size=5)\n",
    "    k_accuracy = \"%.4f\" % (model.evaluate(X[test], Y[test])[1])\n",
    "    accuracy.append(k_accuracy)\n",
    "\n",
    "model.save('sonar_model.h5')\n",
    "\n",
    "from keras.models import Sequential, load_model\n",
    "\n",
    "exsonar = load_model('sonar_model.h5')"
   ]
  },
  {
   "cell_type": "markdown",
   "id": "medieval-evening",
   "metadata": {
    "id": "jXjjJ7Ry-ULC"
   },
   "source": [
    "#### iris"
   ]
  },
  {
   "cell_type": "code",
   "execution_count": 44,
   "id": "manual-narrative",
   "metadata": {
    "colab": {
     "base_uri": "https://localhost:8080/"
    },
    "id": "P818Jfj_-g4F",
    "outputId": "1adb4692-209b-41cd-ede4-43094b506540"
   },
   "outputs": [
    {
     "name": "stdout",
     "output_type": "stream",
     "text": [
      "(150,)\n"
     ]
    }
   ],
   "source": [
    "# iris\r\n",
    "from sklearn.datasets import load_iris\r\n",
    "iris = load_iris()\r\n",
    "from sklearn.model_selection import train_test_split\r\n",
    "X_train, X_test, y_train, y_test = train_test_split(iris.data, iris.target)\r\n",
    "\r\n",
    "# iris preprocessing\r\n",
    "from sklearn.datasets import load_iris\r\n",
    "iris = load_iris()\r\n",
    "from sklearn.model_selection import train_test_split\r\n",
    "\r\n",
    "df = pd.DataFrame(data=iris.data,columns=iris.feature_names)\r\n",
    "\r\n",
    "## Standardization\r\n",
    "from sklearn.preprocessing import StandardScaler\r\n",
    "sc = StandardScaler()\r\n",
    "df = sc.fit_transform(df)\r\n",
    "df = pd.DataFrame(df,columns=iris.feature_names)\r\n",
    "\r\n",
    "df['target'] = iris.target\r\n",
    "\r\n",
    "# OnehotEncoder x : lightGBM \r\n",
    "# from sklearn.preprocessing import OneHotEncoder\r\n",
    "# enc = OneHotEncoder()\r\n",
    "# target = enc.fit_transform(iris.target.reshape(-1,1)).toarray()\r\n",
    "print(df['target'].shape)\r\n",
    "xtr,xte, ytr,yte = train_test_split(df.iloc[:,:-1], df['target'])"
   ]
  },
  {
   "cell_type": "code",
   "execution_count": 53,
   "id": "young-match",
   "metadata": {
    "colab": {
     "base_uri": "https://localhost:8080/"
    },
    "id": "UtG2DP6p-xdu",
    "outputId": "274dd5fc-8f22-46b9-aa01-7f2413a94aee"
   },
   "outputs": [
    {
     "name": "stdout",
     "output_type": "stream",
     "text": [
      "|   iter    |  target   |  colSam   | maxDepth  | minChi... | numLeaves | scaleW... | subsample |\n",
      "-------------------------------------------------------------------------------------------------\n",
      "| \u001b[0m 1       \u001b[0m | \u001b[0m 0.3664  \u001b[0m | \u001b[0m 0.8884  \u001b[0m | \u001b[0m 81.73   \u001b[0m | \u001b[0m 56.97   \u001b[0m | \u001b[0m 74.26   \u001b[0m | \u001b[0m 500.9   \u001b[0m | \u001b[0m 0.9632  \u001b[0m |\n",
      "| \u001b[0m 2       \u001b[0m | \u001b[0m 0.3664  \u001b[0m | \u001b[0m 0.8693  \u001b[0m | \u001b[0m 69.57   \u001b[0m | \u001b[0m 23.59   \u001b[0m | \u001b[0m 71.83   \u001b[0m | \u001b[0m 9.401e+0\u001b[0m | \u001b[0m 0.5525  \u001b[0m |\n",
      "| \u001b[0m 3       \u001b[0m | \u001b[0m 0.3664  \u001b[0m | \u001b[0m 0.9294  \u001b[0m | \u001b[0m 73.63   \u001b[0m | \u001b[0m 52.11   \u001b[0m | \u001b[0m 71.83   \u001b[0m | \u001b[0m 2.862e+0\u001b[0m | \u001b[0m 0.5948  \u001b[0m |\n",
      "| \u001b[0m 4       \u001b[0m | \u001b[0m 0.3664  \u001b[0m | \u001b[0m 0.4297  \u001b[0m | \u001b[0m 9.446   \u001b[0m | \u001b[0m 46.3    \u001b[0m | \u001b[0m 64.94   \u001b[0m | \u001b[0m 5e+03   \u001b[0m | \u001b[0m 0.7071  \u001b[0m |\n",
      "| \u001b[0m 5       \u001b[0m | \u001b[0m 0.3664  \u001b[0m | \u001b[0m 0.5744  \u001b[0m | \u001b[0m 71.58   \u001b[0m | \u001b[0m 59.67   \u001b[0m | \u001b[0m 10.59   \u001b[0m | \u001b[0m 2.716e+0\u001b[0m | \u001b[0m 0.4401  \u001b[0m |\n",
      "| \u001b[0m 6       \u001b[0m | \u001b[0m 0.3573  \u001b[0m | \u001b[0m 0.4213  \u001b[0m | \u001b[0m 40.36   \u001b[0m | \u001b[0m 20.4    \u001b[0m | \u001b[0m 8.144   \u001b[0m | \u001b[0m 1e+03   \u001b[0m | \u001b[0m 0.4265  \u001b[0m |\n",
      "| \u001b[0m 7       \u001b[0m | \u001b[0m 0.3664  \u001b[0m | \u001b[0m 0.469   \u001b[0m | \u001b[0m 89.64   \u001b[0m | \u001b[0m 67.47   \u001b[0m | \u001b[0m 7.808   \u001b[0m | \u001b[0m 7.572e+0\u001b[0m | \u001b[0m 0.7674  \u001b[0m |\n",
      "| \u001b[0m 8       \u001b[0m | \u001b[0m 0.3664  \u001b[0m | \u001b[0m 0.7361  \u001b[0m | \u001b[0m 78.73   \u001b[0m | \u001b[0m 66.73   \u001b[0m | \u001b[0m 8.138   \u001b[0m | \u001b[0m 9.957e+0\u001b[0m | \u001b[0m 0.7313  \u001b[0m |\n",
      "| \u001b[0m 9       \u001b[0m | \u001b[0m 0.3664  \u001b[0m | \u001b[0m 0.9356  \u001b[0m | \u001b[0m 87.92   \u001b[0m | \u001b[0m 60.61   \u001b[0m | \u001b[0m 78.71   \u001b[0m | \u001b[0m 4.875e+0\u001b[0m | \u001b[0m 0.6608  \u001b[0m |\n",
      "| \u001b[0m 10      \u001b[0m | \u001b[0m 0.3664  \u001b[0m | \u001b[0m 0.7185  \u001b[0m | \u001b[0m 3.631   \u001b[0m | \u001b[0m 67.51   \u001b[0m | \u001b[0m 68.29   \u001b[0m | \u001b[0m 8.881e+0\u001b[0m | \u001b[0m 0.4477  \u001b[0m |\n",
      "| \u001b[0m 11      \u001b[0m | \u001b[0m 0.3664  \u001b[0m | \u001b[0m 0.7139  \u001b[0m | \u001b[0m 82.04   \u001b[0m | \u001b[0m 67.85   \u001b[0m | \u001b[0m 89.63   \u001b[0m | \u001b[0m 9.895e+0\u001b[0m | \u001b[0m 0.8788  \u001b[0m |\n",
      "| \u001b[0m 12      \u001b[0m | \u001b[0m 0.3664  \u001b[0m | \u001b[0m 0.6226  \u001b[0m | \u001b[0m 86.9    \u001b[0m | \u001b[0m 69.98   \u001b[0m | \u001b[0m 81.62   \u001b[0m | \u001b[0m 6.664e+0\u001b[0m | \u001b[0m 0.6034  \u001b[0m |\n",
      "| \u001b[0m 13      \u001b[0m | \u001b[0m 0.3664  \u001b[0m | \u001b[0m 0.6447  \u001b[0m | \u001b[0m 78.83   \u001b[0m | \u001b[0m 67.94   \u001b[0m | \u001b[0m 63.7    \u001b[0m | \u001b[0m 31.02   \u001b[0m | \u001b[0m 0.46    \u001b[0m |\n",
      "| \u001b[0m 14      \u001b[0m | \u001b[0m 0.3664  \u001b[0m | \u001b[0m 0.9465  \u001b[0m | \u001b[0m 24.46   \u001b[0m | \u001b[0m 66.69   \u001b[0m | \u001b[0m 89.78   \u001b[0m | \u001b[0m 3.679e+0\u001b[0m | \u001b[0m 0.4111  \u001b[0m |\n",
      "| \u001b[0m 15      \u001b[0m | \u001b[0m 0.3664  \u001b[0m | \u001b[0m 0.4921  \u001b[0m | \u001b[0m 83.24   \u001b[0m | \u001b[0m 60.47   \u001b[0m | \u001b[0m 71.87   \u001b[0m | \u001b[0m 491.8   \u001b[0m | \u001b[0m 0.6117  \u001b[0m |\n",
      "| \u001b[0m 16      \u001b[0m | \u001b[0m 0.3664  \u001b[0m | \u001b[0m 0.5786  \u001b[0m | \u001b[0m 89.32   \u001b[0m | \u001b[0m 65.99   \u001b[0m | \u001b[0m 82.66   \u001b[0m | \u001b[0m 3.545e+0\u001b[0m | \u001b[0m 0.6559  \u001b[0m |\n",
      "| \u001b[0m 17      \u001b[0m | \u001b[0m 0.3664  \u001b[0m | \u001b[0m 0.4246  \u001b[0m | \u001b[0m 81.34   \u001b[0m | \u001b[0m 68.36   \u001b[0m | \u001b[0m 69.25   \u001b[0m | \u001b[0m 8.631e+0\u001b[0m | \u001b[0m 0.8707  \u001b[0m |\n",
      "| \u001b[0m 18      \u001b[0m | \u001b[0m 0.3664  \u001b[0m | \u001b[0m 0.9535  \u001b[0m | \u001b[0m 86.99   \u001b[0m | \u001b[0m 68.51   \u001b[0m | \u001b[0m 87.96   \u001b[0m | \u001b[0m 4.351e+0\u001b[0m | \u001b[0m 0.7939  \u001b[0m |\n",
      "| \u001b[0m 19      \u001b[0m | \u001b[0m 0.3664  \u001b[0m | \u001b[0m 0.5328  \u001b[0m | \u001b[0m 14.82   \u001b[0m | \u001b[0m 68.28   \u001b[0m | \u001b[0m 77.62   \u001b[0m | \u001b[0m 9.986e+0\u001b[0m | \u001b[0m 0.7658  \u001b[0m |\n",
      "| \u001b[0m 20      \u001b[0m | \u001b[0m 0.3664  \u001b[0m | \u001b[0m 0.5665  \u001b[0m | \u001b[0m 87.53   \u001b[0m | \u001b[0m 68.27   \u001b[0m | \u001b[0m 69.49   \u001b[0m | \u001b[0m 19.81   \u001b[0m | \u001b[0m 0.6369  \u001b[0m |\n",
      "| \u001b[0m 21      \u001b[0m | \u001b[0m 0.3664  \u001b[0m | \u001b[0m 0.597   \u001b[0m | \u001b[0m 89.86   \u001b[0m | \u001b[0m 69.53   \u001b[0m | \u001b[0m 86.27   \u001b[0m | \u001b[0m 6.037e+0\u001b[0m | \u001b[0m 0.8477  \u001b[0m |\n",
      "| \u001b[0m 22      \u001b[0m | \u001b[0m 0.3664  \u001b[0m | \u001b[0m 0.6885  \u001b[0m | \u001b[0m 82.37   \u001b[0m | \u001b[0m 69.1    \u001b[0m | \u001b[0m 87.71   \u001b[0m | \u001b[0m 2.413e+0\u001b[0m | \u001b[0m 0.8748  \u001b[0m |\n",
      "| \u001b[0m 23      \u001b[0m | \u001b[0m 0.3664  \u001b[0m | \u001b[0m 0.6697  \u001b[0m | \u001b[0m 51.84   \u001b[0m | \u001b[0m 69.0    \u001b[0m | \u001b[0m 89.58   \u001b[0m | \u001b[0m 8.305e+0\u001b[0m | \u001b[0m 0.6502  \u001b[0m |\n",
      "| \u001b[0m 24      \u001b[0m | \u001b[0m 0.3664  \u001b[0m | \u001b[0m 0.7766  \u001b[0m | \u001b[0m 31.1    \u001b[0m | \u001b[0m 67.97   \u001b[0m | \u001b[0m 88.4    \u001b[0m | \u001b[0m 9.407   \u001b[0m | \u001b[0m 0.9229  \u001b[0m |\n",
      "| \u001b[0m 25      \u001b[0m | \u001b[0m 0.3664  \u001b[0m | \u001b[0m 0.5563  \u001b[0m | \u001b[0m 76.67   \u001b[0m | \u001b[0m 68.28   \u001b[0m | \u001b[0m 89.95   \u001b[0m | \u001b[0m 9.872e+0\u001b[0m | \u001b[0m 0.4169  \u001b[0m |\n",
      "| \u001b[0m 26      \u001b[0m | \u001b[0m 0.3664  \u001b[0m | \u001b[0m 0.9514  \u001b[0m | \u001b[0m 89.6    \u001b[0m | \u001b[0m 66.54   \u001b[0m | \u001b[0m 89.17   \u001b[0m | \u001b[0m 3.457e+0\u001b[0m | \u001b[0m 0.6821  \u001b[0m |\n",
      "| \u001b[0m 27      \u001b[0m | \u001b[0m 0.3664  \u001b[0m | \u001b[0m 0.8823  \u001b[0m | \u001b[0m 8.322   \u001b[0m | \u001b[0m 69.73   \u001b[0m | \u001b[0m 8.229   \u001b[0m | \u001b[0m 9.541e+0\u001b[0m | \u001b[0m 0.4124  \u001b[0m |\n",
      "| \u001b[0m 28      \u001b[0m | \u001b[0m 0.3664  \u001b[0m | \u001b[0m 0.4804  \u001b[0m | \u001b[0m 87.65   \u001b[0m | \u001b[0m 69.82   \u001b[0m | \u001b[0m 87.64   \u001b[0m | \u001b[0m 8.472e+0\u001b[0m | \u001b[0m 0.9874  \u001b[0m |\n",
      "| \u001b[0m 29      \u001b[0m | \u001b[0m 0.3664  \u001b[0m | \u001b[0m 0.7058  \u001b[0m | \u001b[0m 6.352   \u001b[0m | \u001b[0m 69.7    \u001b[0m | \u001b[0m 86.34   \u001b[0m | \u001b[0m 6.525e+0\u001b[0m | \u001b[0m 0.4198  \u001b[0m |\n",
      "| \u001b[0m 30      \u001b[0m | \u001b[0m 0.3664  \u001b[0m | \u001b[0m 0.7772  \u001b[0m | \u001b[0m 81.71   \u001b[0m | \u001b[0m 67.86   \u001b[0m | \u001b[0m 83.94   \u001b[0m | \u001b[0m 4.695e+0\u001b[0m | \u001b[0m 0.4096  \u001b[0m |\n",
      "| \u001b[0m 31      \u001b[0m | \u001b[0m 0.3664  \u001b[0m | \u001b[0m 0.8327  \u001b[0m | \u001b[0m 73.43   \u001b[0m | \u001b[0m 66.73   \u001b[0m | \u001b[0m 87.18   \u001b[0m | \u001b[0m 9.998e+0\u001b[0m | \u001b[0m 0.7365  \u001b[0m |\n",
      "| \u001b[0m 32      \u001b[0m | \u001b[0m 0.3664  \u001b[0m | \u001b[0m 0.5136  \u001b[0m | \u001b[0m 87.54   \u001b[0m | \u001b[0m 69.37   \u001b[0m | \u001b[0m 86.9    \u001b[0m | \u001b[0m 4.599e+0\u001b[0m | \u001b[0m 0.7094  \u001b[0m |\n",
      "| \u001b[0m 33      \u001b[0m | \u001b[0m 0.3664  \u001b[0m | \u001b[0m 0.9802  \u001b[0m | \u001b[0m 12.79   \u001b[0m | \u001b[0m 68.73   \u001b[0m | \u001b[0m 14.7    \u001b[0m | \u001b[0m 9.997e+0\u001b[0m | \u001b[0m 0.7454  \u001b[0m |\n",
      "| \u001b[0m 34      \u001b[0m | \u001b[0m 0.3664  \u001b[0m | \u001b[0m 0.6206  \u001b[0m | \u001b[0m 87.19   \u001b[0m | \u001b[0m 68.5    \u001b[0m | \u001b[0m 18.41   \u001b[0m | \u001b[0m 9.185e+0\u001b[0m | \u001b[0m 0.4011  \u001b[0m |\n",
      "| \u001b[0m 35      \u001b[0m | \u001b[0m 0.3664  \u001b[0m | \u001b[0m 0.9214  \u001b[0m | \u001b[0m 13.41   \u001b[0m | \u001b[0m 69.51   \u001b[0m | \u001b[0m 86.93   \u001b[0m | \u001b[0m 8.75e+03\u001b[0m | \u001b[0m 0.7776  \u001b[0m |\n",
      "=================================================================================================\n",
      "[{'target': 0.366403162055336, 'params': {'colSam': 0.8884175472551954, 'maxDepth': 81.7264903774736, 'minChildWeight': 56.971529973168366, 'numLeaves': 74.26301733318945, 'scaleWeight': 500.8972774474204, 'subsample': 0.9631537636279452}}, {'target': 0.366403162055336, 'params': {'colSam': 0.8693402612932425, 'maxDepth': 69.56984743027411, 'minChildWeight': 23.586040676968544, 'numLeaves': 71.8346260396238, 'scaleWeight': 9400.50859343408, 'subsample': 0.552509176206236}}, {'target': 0.366403162055336, 'params': {'colSam': 0.9293719363202916, 'maxDepth': 73.6338103393448, 'minChildWeight': 52.107735641742956, 'numLeaves': 71.82719184809598, 'scaleWeight': 2862.49571966273, 'subsample': 0.5947945163650714}}, {'target': 0.366403162055336, 'params': {'colSam': 0.4297255615013138, 'maxDepth': 9.445875684469389, 'minChildWeight': 46.297658265915814, 'numLeaves': 64.93726476871487, 'scaleWeight': 4999.924686076973, 'subsample': 0.7071177230316961}}, {'target': 0.366403162055336, 'params': {'colSam': 0.5743951529506767, 'maxDepth': 71.58004028943373, 'minChildWeight': 59.6652476429664, 'numLeaves': 10.594460914687993, 'scaleWeight': 2716.2854415796514, 'subsample': 0.4400968876453805}}, {'target': 0.3573122529644269, 'params': {'colSam': 0.4213431581300974, 'maxDepth': 40.361339382597876, 'minChildWeight': 20.404326596035403, 'numLeaves': 8.144391397231246, 'scaleWeight': 1000.3640946044068, 'subsample': 0.4264926116719908}}, {'target': 0.366403162055336, 'params': {'colSam': 0.469017991472653, 'maxDepth': 89.6390239166173, 'minChildWeight': 67.47433038915437, 'numLeaves': 7.807789458486272, 'scaleWeight': 7571.857000718184, 'subsample': 0.7674354181362032}}, {'target': 0.366403162055336, 'params': {'colSam': 0.7360740193620781, 'maxDepth': 78.73101087928161, 'minChildWeight': 66.73142793997175, 'numLeaves': 8.137601120935752, 'scaleWeight': 9956.864202554661, 'subsample': 0.7312899048437467}}, {'target': 0.366403162055336, 'params': {'colSam': 0.9356193887023381, 'maxDepth': 87.91609759582543, 'minChildWeight': 60.607900472179075, 'numLeaves': 78.71099411359042, 'scaleWeight': 4874.507849990159, 'subsample': 0.6608298087556945}}, {'target': 0.366403162055336, 'params': {'colSam': 0.718488323575998, 'maxDepth': 3.63105371248544, 'minChildWeight': 67.50872061252878, 'numLeaves': 68.2870580333909, 'scaleWeight': 8880.864641052422, 'subsample': 0.4476651680517083}}, {'target': 0.366403162055336, 'params': {'colSam': 0.713863985594281, 'maxDepth': 82.03671215429559, 'minChildWeight': 67.85032899817712, 'numLeaves': 89.62938185111616, 'scaleWeight': 9895.35183384942, 'subsample': 0.8787851264959383}}, {'target': 0.366403162055336, 'params': {'colSam': 0.6226115627694904, 'maxDepth': 86.89617639258316, 'minChildWeight': 69.98422798681776, 'numLeaves': 81.62098412802719, 'scaleWeight': 6664.0597951249765, 'subsample': 0.6033862655156124}}, {'target': 0.366403162055336, 'params': {'colSam': 0.6446671139833258, 'maxDepth': 78.83398589892568, 'minChildWeight': 67.93889770362851, 'numLeaves': 63.696459811884885, 'scaleWeight': 31.017076972860014, 'subsample': 0.4599547292632755}}, {'target': 0.366403162055336, 'params': {'colSam': 0.9464886248764557, 'maxDepth': 24.45833387707444, 'minChildWeight': 66.69273053956472, 'numLeaves': 89.77983863961613, 'scaleWeight': 3679.0501998155455, 'subsample': 0.4110539981080072}}, {'target': 0.366403162055336, 'params': {'colSam': 0.49205282101064485, 'maxDepth': 83.24351095482348, 'minChildWeight': 60.46606684634282, 'numLeaves': 71.8709510786531, 'scaleWeight': 491.82403222315884, 'subsample': 0.6116989330459192}}, {'target': 0.366403162055336, 'params': {'colSam': 0.5785683345236269, 'maxDepth': 89.32492565014732, 'minChildWeight': 65.98723944530333, 'numLeaves': 82.65696911412161, 'scaleWeight': 3544.881185751266, 'subsample': 0.6558838776301774}}, {'target': 0.366403162055336, 'params': {'colSam': 0.4246271480184498, 'maxDepth': 81.34492067859883, 'minChildWeight': 68.36184080286094, 'numLeaves': 69.24659955704279, 'scaleWeight': 8631.138597204621, 'subsample': 0.8706913160611245}}, {'target': 0.366403162055336, 'params': {'colSam': 0.9534616088056571, 'maxDepth': 86.99242184747244, 'minChildWeight': 68.50740964951025, 'numLeaves': 87.96483616417352, 'scaleWeight': 4351.427556448602, 'subsample': 0.7938881592702283}}, {'target': 0.366403162055336, 'params': {'colSam': 0.5328240038845329, 'maxDepth': 14.823548570639797, 'minChildWeight': 68.27636266544296, 'numLeaves': 77.62273346730748, 'scaleWeight': 9986.403634707523, 'subsample': 0.7658056678881628}}, {'target': 0.366403162055336, 'params': {'colSam': 0.5665234160583219, 'maxDepth': 87.53046973932106, 'minChildWeight': 68.2720667082046, 'numLeaves': 69.48838428030822, 'scaleWeight': 19.81235772218531, 'subsample': 0.6369159395064568}}, {'target': 0.366403162055336, 'params': {'colSam': 0.5969760068002895, 'maxDepth': 89.85553596602094, 'minChildWeight': 69.53473695908295, 'numLeaves': 86.27441274392399, 'scaleWeight': 6037.485750373739, 'subsample': 0.8477230312906958}}, {'target': 0.366403162055336, 'params': {'colSam': 0.6884517150046618, 'maxDepth': 82.3704774894362, 'minChildWeight': 69.09868704521502, 'numLeaves': 87.709775200856, 'scaleWeight': 2413.0431567292444, 'subsample': 0.8747701204466485}}, {'target': 0.366403162055336, 'params': {'colSam': 0.6697196995985506, 'maxDepth': 51.84407735201946, 'minChildWeight': 68.99681423842092, 'numLeaves': 89.57891659484581, 'scaleWeight': 8304.915769983654, 'subsample': 0.6502369530704575}}, {'target': 0.366403162055336, 'params': {'colSam': 0.776636099519276, 'maxDepth': 31.096259652167372, 'minChildWeight': 67.96505135252455, 'numLeaves': 88.39857750921064, 'scaleWeight': 9.406844223191143, 'subsample': 0.92291126895506}}, {'target': 0.366403162055336, 'params': {'colSam': 0.5562532534037018, 'maxDepth': 76.66503207701115, 'minChildWeight': 68.27602739837982, 'numLeaves': 89.94692694808901, 'scaleWeight': 9872.089571539653, 'subsample': 0.41689562049848516}}, {'target': 0.366403162055336, 'params': {'colSam': 0.9513954062460519, 'maxDepth': 89.60419793742096, 'minChildWeight': 66.54411880384762, 'numLeaves': 89.16880999828399, 'scaleWeight': 3456.713896989857, 'subsample': 0.6821261394264309}}, {'target': 0.366403162055336, 'params': {'colSam': 0.8823016913419861, 'maxDepth': 8.321841150269831, 'minChildWeight': 69.72931824048305, 'numLeaves': 8.22882029557373, 'scaleWeight': 9541.081702762418, 'subsample': 0.4123978741511907}}, {'target': 0.366403162055336, 'params': {'colSam': 0.48035666470781907, 'maxDepth': 87.64930220455767, 'minChildWeight': 69.81825965322021, 'numLeaves': 87.63688231703058, 'scaleWeight': 8472.262466109742, 'subsample': 0.9874449677801983}}, {'target': 0.366403162055336, 'params': {'colSam': 0.7057988995549549, 'maxDepth': 6.351754560405282, 'minChildWeight': 69.69740855455206, 'numLeaves': 86.34344747427846, 'scaleWeight': 6525.248579847696, 'subsample': 0.41984368624884216}}, {'target': 0.366403162055336, 'params': {'colSam': 0.7771676384432951, 'maxDepth': 81.70980943263064, 'minChildWeight': 67.85565627225446, 'numLeaves': 83.94032968340623, 'scaleWeight': 4695.1594484026355, 'subsample': 0.4095968865472596}}, {'target': 0.366403162055336, 'params': {'colSam': 0.8327375840419895, 'maxDepth': 73.43416896793347, 'minChildWeight': 66.73047278593542, 'numLeaves': 87.18430318424123, 'scaleWeight': 9998.219710255105, 'subsample': 0.73647049203746}}, {'target': 0.366403162055336, 'params': {'colSam': 0.5136246679901153, 'maxDepth': 87.53951387659737, 'minChildWeight': 69.36890658658572, 'numLeaves': 86.89845362964492, 'scaleWeight': 4599.280167364312, 'subsample': 0.7093770884187731}}, {'target': 0.366403162055336, 'params': {'colSam': 0.9801764907368481, 'maxDepth': 12.785527563490483, 'minChildWeight': 68.73335318085681, 'numLeaves': 14.695247011457527, 'scaleWeight': 9997.02744756988, 'subsample': 0.745366556222445}}, {'target': 0.366403162055336, 'params': {'colSam': 0.620642261907949, 'maxDepth': 87.19101840748559, 'minChildWeight': 68.50107421475694, 'numLeaves': 18.414459142786857, 'scaleWeight': 9184.940355506842, 'subsample': 0.40112400238720264}}, {'target': 0.366403162055336, 'params': {'colSam': 0.9213919757063327, 'maxDepth': 13.41269968313878, 'minChildWeight': 69.50522390689994, 'numLeaves': 86.93066372499607, 'scaleWeight': 8749.719385320042, 'subsample': 0.7775786065339044}}]\n"
     ]
    }
   ],
   "source": [
    "def lgb_evaluate(numLeaves, maxDepth, scaleWeight, minChildWeight, subsample, colSam, output = 'score'):\r\n",
    "    reg=lgb.LGBMClassifier(num_leaves=31, max_depth= 2,scale_pos_weight= scaleWeight, min_child_weight= minChildWeight, subsample= 0.4, colsample_bytree= 0.4, learning_rate=0.05,   n_estimators=20)\r\n",
    "    scores = cross_val_score(reg, xtr, ytr, cv=5, scoring='accuracy') # cross_val_score\r\n",
    "    # scores = cross_val_score(reg, train_x, train_y, cv=5, scoring='neg_mean_squared_error')\r\n",
    "    \r\n",
    "    if output == 'score' :\r\n",
    "      return np.mean(scores)\r\n",
    "    if output == 'model' :\r\n",
    "      return reg\r\n",
    "\r\n",
    "def bayesOpt(xtr, ytr):\r\n",
    "    lgbBO = BayesianOptimization(lgb_evaluate, {  'numLeaves':  (5, 90),  'maxDepth': (2, 90),   'scaleWeight': (1, 10000),  'minChildWeight': (0.01, 70), 'subsample': (0.4, 1), 'colSam': (0.4, 1) })\r\n",
    "    lgbBO.maximize(init_points=5, n_iter=30)\r\n",
    "    print(lgbBO.res)\r\n",
    "    return lgbBO\r\n",
    "\r\n",
    "lgbBO = bayesOpt(xtr, ytr)\r\n",
    "\r\n",
    "# 최적 파라메터 저장 \r\n",
    "params = lgbBO.max['params']\r\n",
    " \r\n",
    "# 모델에 적용\r\n",
    "model = lgb_evaluate(\r\n",
    "    numLeaves = params['numLeaves'],\r\n",
    "     maxDepth = params['maxDepth'],\r\n",
    "     scaleWeight = params['maxDepth'],\r\n",
    "     minChildWeight = params['minChildWeight'],\r\n",
    "     subsample = params['subsample'],\r\n",
    "     colSam = params['colSam'],\r\n",
    "     output = 'model'\r\n",
    "     )"
   ]
  },
  {
   "cell_type": "markdown",
   "id": "external-willow",
   "metadata": {
    "id": "sQCwNLWsBqB-"
   },
   "source": [
    "#### mpg (reg)"
   ]
  },
  {
   "cell_type": "code",
   "execution_count": null,
   "id": "mental-rugby",
   "metadata": {
    "id": "YhBVSqtiCO9P"
   },
   "outputs": [],
   "source": [
    "import seaborn as sns \r\n",
    "df = sns.load_dataset('mpg') # iris \r\n",
    "\r\n",
    "df.columns = ['mpg','cylinders','displacement','horsepower','weight',\r\n",
    "              'acceleration','model year','origin','name'] \r\n",
    "# horsepower 열의 자료형 변경 (문자열 ->숫자)\r\n",
    "df['horsepower'].replace('?', np.nan, inplace=True)      # '?'을 np.nan으로 변경\r\n",
    "df.dropna(subset=['horsepower'], axis=0, inplace=True)   # 누락데이터 행을 삭제\r\n",
    "df['horsepower'] = df['horsepower'].astype('float')      # 문자열을 실수형으로 변환\r\n",
    "# 분석에 활용할 열(속성)을 선택 (연비, 실린더, 출력, 중량)\r\n",
    "ndf = df[['mpg', 'cylinders', 'horsepower', 'weight']]\r\n",
    "\r\n",
    "X=ndf[['cylinders', 'horsepower', 'weight']]  #독립 변수 X1, X2, X3\r\n",
    "y=ndf['mpg']     #종속 변수 Y\r\n",
    "from sklearn.model_selection import train_test_split\r\n",
    "X_train, X_test, y_train, y_test = train_test_split(X, y, test_size=0.3, random_state=10) \r\n",
    "\r\n",
    "from sklearn.linear_model import LinearRegression\r\n",
    "lr = LinearRegression()   \r\n",
    "lr.fit(X_train, y_train)\r\n",
    "\r\n",
    "r_square = lr.score(X_test, y_test)\r\n",
    "print(r_square) #  결정계수(R-제곱) 계산\r\n",
    "print('X 변수의 계수 a: ', lr.coef_) # 회귀식의 기울기\r\n",
    "print('상수항 b', lr.intercept_) # 회귀식의 y절편\r\n",
    "\r\n",
    "# train data의 산점도와 test data로 예측한 회귀선을 그래프로 출력 \r\n",
    "y_hat = lr.predict(X_test)\r\n",
    "plt.figure(figsize=(10, 5))\r\n",
    "ax1 = sns.distplot(y_test, hist=False, label=\"y_test\")\r\n",
    "ax2 = sns.distplot(y_hat, hist=False, label=\"y_hat\", ax=ax1)\r\n",
    "plt.show()\r\n",
    "plt.close()"
   ]
  },
  {
   "cell_type": "markdown",
   "id": "military-latvia",
   "metadata": {
    "id": "OpSxnhhwCYmF"
   },
   "source": [
    "#### breast_cancel (class)"
   ]
  },
  {
   "cell_type": "code",
   "execution_count": null,
   "id": "graduate-rendering",
   "metadata": {
    "id": "tARZOZp-ClVs"
   },
   "outputs": [],
   "source": [
    "import pandas as pd\r\n",
    "import numpy as np\r\n",
    "from sklearn.datasets import load_breast_cancer\r\n",
    "from sklearn.model_selection import train_test_split\r\n",
    "from lightgbm import plot_importance\r\n",
    "import matplotlib.pyplot as plt\r\n",
    "import Common_Module.CMStat as CO\r\n",
    "\r\n",
    "dataset = load_breast_cancer()\r\n",
    "ftr = dataset.data\r\n",
    "target = dataset.target\r\n",
    "\r\n",
    "X_train, X_test, y_train, y_test = train_test_split(ftr, target, test_size=0.2, random_state=156)\r\n"
   ]
  },
  {
   "cell_type": "code",
   "execution_count": null,
   "id": "three-chicken",
   "metadata": {
    "id": "m28mqQk1CobH"
   },
   "outputs": [],
   "source": [
    "from lightgbm import LGBMClassifier\r\n",
    "\r\n",
    "lgbm_wrapper = LGBMClassifier(n_estimators=400)\r\n",
    "evals = [(X_test, y_test)]\r\n",
    "lgbm_wrapper.fit(X_train, y_train, early_stopping_rounds=100, eval_metric='logloss', eval_set=evals, verbose=True)\r\n",
    "pred = lgbm_wrapper.predict(X_test)\r\n",
    "pred_proba = lgbm_wrapper.predict_proba(X_test)[:1]\r\n",
    "CO.get_clf_eval(y_test, pred)\r\n",
    "\r\n",
    "fig, ax = plt.subplots(figsize=(10,12))\r\n",
    "plot_importance(lgbm_wrapper, ax=ax)\r\n",
    "plt.show()\r\n",
    "# 평가지표 출력하는 함수 설정\r\n",
    "def get_clf_eval(y_test, y_pred=None, pred_proba=None):\r\n",
    "    confusion = confusion_matrix(y_test, y_pred)\r\n",
    "    accuracy = accuracy_score(y_test, y_pred)\r\n",
    "    precision = precision_score(y_test, y_pred)\r\n",
    "    recall = recall_score(y_test, y_pred)\r\n",
    "    F1 = f1_score(y_test, y_pred)\r\n",
    "    AUC = roc_auc_score(y_test, y_pred, pred_proba)\r\n",
    "\r\n",
    "    print('오차행렬:\\n', confusion)\r\n",
    "    print('\\n정확도: {:.4f}'.format(accuracy))\r\n",
    "    print('정밀도: {:.4f}'.format(precision))\r\n",
    "    print('재현율: {:.4f}'.format(recall))\r\n",
    "    print('F1: {:.4f}'.format(F1))\r\n",
    "    print('AUC: {:.4f}'.format(AUC))"
   ]
  },
  {
   "cell_type": "markdown",
   "id": "related-canada",
   "metadata": {},
   "source": [
    "### vision "
   ]
  },
  {
   "cell_type": "markdown",
   "id": "growing-cause",
   "metadata": {},
   "source": [
    "#### cifar-10 "
   ]
  },
  {
   "cell_type": "code",
   "execution_count": null,
   "id": "brazilian-density",
   "metadata": {},
   "outputs": [],
   "source": [
    "# classification "
   ]
  },
  {
   "cell_type": "markdown",
   "id": "pretty-design",
   "metadata": {
    "id": "bc5OP9u2GqgZ"
   },
   "source": [
    "### nlp"
   ]
  },
  {
   "cell_type": "markdown",
   "id": "scientific-picture",
   "metadata": {
    "id": "cognitive-reliance"
   },
   "source": [
    "#### imdb  "
   ]
  },
  {
   "cell_type": "code",
   "execution_count": null,
   "id": "seven-hardwood",
   "metadata": {
    "id": "secondary-weekend"
   },
   "outputs": [],
   "source": [
    "# -*- coding: utf-8 -*-\n",
    "# 코드 내부에 한글을 사용가능 하게 해주는 부분입니다.\n",
    "\n",
    "from keras.preprocessing import sequence\n",
    "from keras.models import Sequential\n",
    "from keras.layers import Dense, Dropout, Activation\n",
    "from keras.layers import Embedding\n",
    "from keras.layers import LSTM\n",
    "from keras.layers import Conv1D, MaxPooling1D\n",
    "from keras.datasets import imdb\n",
    "\n",
    "import numpy as np\n",
    "import numpy\n",
    "import tensorflow as tf\n",
    "import matplotlib.pyplot as plt\n",
    "\n",
    "from tensorflow.keras.layers import Input, Dense, concatenate\n",
    "from tensorflow.keras.models import Model\n",
    "# seed 값 설정\n",
    "seed = 0\n",
    "numpy.random.seed(seed)\n",
    "tf.random.set_seed(3)\n",
    "(x_train, ytr), (x_test, yte) = imdb.load_data(num_words=5000)\n",
    "# x_train = x_train[:12500]\n",
    "# x_test = x_test[:12500]\n",
    "# ytr = ytr[:12500]\n",
    "# yte = yte[:12500]\n",
    "xtr = sequence.pad_sequences(x_train, maxlen=50)\n",
    "xte = sequence.pad_sequences(x_test, maxlen=50)"
   ]
  },
  {
   "cell_type": "code",
   "execution_count": null,
   "id": "august-string",
   "metadata": {
    "id": "current-auditor"
   },
   "outputs": [],
   "source": [
    "# 모델의 설정\n",
    "model = Sequential()\n",
    "model.add(Embedding(5000, 100 )   )\n",
    "model.add(Dropout(0.5))\n",
    "model.add(Conv1D(64, 5, padding='valid', activation='relu',strides=1))\n",
    "model.add(MaxPooling1D(pool_size=4))\n",
    "model.add(LSTM(55))\n",
    "model.add(Dense(1))\n",
    "model.add(Activation('sigmoid'))\n",
    "# model.summary()\n",
    "\n",
    "inputA = Input(shape=(50,) )\n",
    "x = Embedding(5000,50)(inputA)\n",
    "x = Dropout(0.5)(x)\n",
    "x = Conv1D(64, 5, padding='valid', activation='relu',strides=1)(x)\n",
    "x = MaxPooling1D(pool_size=4)(x)\n",
    "x = LSTM(55)(x)\n",
    "x = Dense(1,activation='sigmoid')(x)\n",
    "model1 = Model(inputA,x)\n",
    "\n",
    "\n",
    "import datetime , tensorflow as tf\n",
    "%load_ext tensorboard\n",
    "log_dir = \"logs/fit/\" + datetime.datetime.now().strftime(\"%Y%m%d-%H%M%S\")\n",
    "tensorboard_callback = tf.keras.callbacks.TensorBoard(log_dir=log_dir, histogram_freq=1)\n",
    "\n",
    "# 모델의 컴파일\n",
    "model.compile(loss='binary_crossentropy',\n",
    "              optimizer='adam',\n",
    "              metrics=['accuracy'])\n",
    "\n",
    "# 모델의 실행\n",
    "history = model.fit(xtr, ytr, batch_size=250, epochs=1, validation_data=(xte, yte),callbacks=[tensorboard_callback])\n"
   ]
  },
  {
   "cell_type": "code",
   "execution_count": null,
   "id": "fatty-heating",
   "metadata": {
    "id": "southeast-wiring"
   },
   "outputs": [],
   "source": [
    "%tensorboard --logdir logs/fit"
   ]
  },
  {
   "cell_type": "code",
   "execution_count": null,
   "id": "super-alabama",
   "metadata": {
    "id": "fuzzy-shore"
   },
   "outputs": [],
   "source": [
    "# 테스트 정확도 출력\n",
    "print(\"\\n Test Accuracy: %.4f\" % (model.evaluate(x_test, y_test)[1]))\n",
    "\n",
    "# 테스트 셋의 오차\n",
    "y_vloss = history.history['val_loss']\n",
    "\n",
    "# 학습셋의 오차\n",
    "y_loss = history.history['loss']\n",
    "\n",
    "# 그래프로 표현\n",
    "x_len = numpy.arange(len(y_loss))\n",
    "plt.plot(x_len, y_vloss, marker='.', c=\"red\", label='Testset_loss')\n",
    "plt.plot(x_len, y_loss, marker='.', c=\"blue\", label='Trainset_loss')\n",
    "\n",
    "# 그래프에 그리드를 주고 레이블을 표시\n",
    "plt.legend(loc='upper right')\n",
    "plt.grid()\n",
    "plt.xlabel('epoch')\n",
    "plt.ylabel('loss')\n",
    "plt.show()"
   ]
  }
 ],
 "metadata": {
  "colab": {
   "name": "test-lab.ipynb",
   "provenance": [],
   "toc_visible": true
  },
  "kernelspec": {
   "display_name": "kera",
   "language": "python",
   "name": "kera"
  },
  "language_info": {
   "codemirror_mode": {
    "name": "ipython",
    "version": 3
   },
   "file_extension": ".py",
   "mimetype": "text/x-python",
   "name": "python",
   "nbconvert_exporter": "python",
   "pygments_lexer": "ipython3",
   "version": "3.6.12"
  },
  "widgets": {
   "application/vnd.jupyter.widget-state+json": {
    "state": {},
    "version_major": 2,
    "version_minor": 0
   }
  }
 },
 "nbformat": 4,
 "nbformat_minor": 5
}
