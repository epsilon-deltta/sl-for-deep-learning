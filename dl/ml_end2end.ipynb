{
 "cells": [
  {
   "cell_type": "code",
   "execution_count": null,
   "id": "victorian-ministry",
   "metadata": {},
   "outputs": [],
   "source": [
    "import pandas as pd \n",
    "import matplotlib.pyplot as plt\n",
    "import numpy as np\n",
    "import sklearn as sk\n",
    "import zipfile as zf\n",
    "filename\n",
    "zf.ZipFile(filename).extractall('./')"
   ]
  },
  {
   "cell_type": "code",
   "execution_count": null,
   "id": "unknown-adams",
   "metadata": {},
   "outputs": [],
   "source": [
    "tr  = pd.read_csv('train.csv')\n",
    "te  = pd.read_csv('test.csv')\n",
    "sub = pd.read_csv('sample_submit.csv')"
   ]
  },
  {
   "cell_type": "markdown",
   "id": "talented-spanking",
   "metadata": {},
   "source": [
    "### eda "
   ]
  },
  {
   "cell_type": "code",
   "execution_count": null,
   "id": "bottom-limit",
   "metadata": {},
   "outputs": [],
   "source": [
    "tr.hist(figsize=(20,20))"
   ]
  },
  {
   "cell_type": "code",
   "execution_count": null,
   "id": "mental-minneapolis",
   "metadata": {},
   "outputs": [],
   "source": [
    "# !pip install pandas_profile\n",
    "tr.profile_report()"
   ]
  },
  {
   "cell_type": "markdown",
   "id": "ambient-diagram",
   "metadata": {},
   "source": [
    "### Preprocessing PipeLine "
   ]
  },
  {
   "cell_type": "code",
   "execution_count": null,
   "id": "finnish-tactics",
   "metadata": {},
   "outputs": [],
   "source": [
    "from sklearn.base import BaseEstimator, TransformerMixin\n",
    "\n",
    "class custom_ppr(BaseEstimator, TransformerMixin) :\n",
    "    def __init__(self):\n",
    "        pass\n",
    "    def fit(self,x):\n",
    "        return  self\n",
    "    def transform(self,x):\n",
    "        x = x.drop('index',axis = 1)\n",
    "\n",
    "        return x\n",
    "\n",
    "from sklearn.pipeline import Pipeline \n",
    "from sklearn.impute import SimpleImputer\n",
    "from sklearn.preprocessing import StandardScaler \n",
    "\n",
    "num_pipe = Pipeline([\n",
    "            ('custom',custom_ppr()),\n",
    "            ('impute',SimpleImputer(strategy='median') ),\n",
    "            ('scaler',StandardScaler())\n",
    "])\n",
    "\n",
    "from sklearn.compose import ColumnTransformer\n",
    "from sklearn.preprocessing import OneHotEncoder\n",
    "\n",
    "col_trans = ColumnTransformer([\n",
    "            ('num',num_pipe,num_cols),\n",
    "            ('cat',OneHotEncoder(),cat_cols)\n",
    "])\n"
   ]
  },
  {
   "cell_type": "code",
   "execution_count": null,
   "id": "featured-writer",
   "metadata": {},
   "outputs": [],
   "source": [
    "col_trans.fit(train)\n",
    "trf_tr = col_trans.transform(train)\n",
    "trf_cat = list(col_trans.transformers_[1][1].get_feature_names(cat_cols))\n",
    "pd.DataFrame(trf_tr,columns = num_cols + trf_cat )"
   ]
  },
  {
   "cell_type": "markdown",
   "id": "necessary-denmark",
   "metadata": {},
   "source": [
    "### model  "
   ]
  },
  {
   "cell_type": "code",
   "execution_count": null,
   "id": "boring-being",
   "metadata": {},
   "outputs": [],
   "source": [
    "# !pip install tune-sklearn\n",
    "# !pip install scikit-optimize\n",
    "from pycaret.classification import *\n",
    "clf1 = setup(tr, target='target', session_id=123, log_experiment=True, experiment_name='exam_juice')\n",
    "best_md = compare_models(n_select = 3)\n",
    "tuned_adaboost = tune_model(best_md)\n",
    "ensemble_model(tuned_form,method='Bagging')"
   ]
  }
 ],
 "metadata": {
  "kernelspec": {
   "display_name": "kera",
   "language": "python",
   "name": "kera"
  },
  "language_info": {
   "codemirror_mode": {
    "name": "ipython",
    "version": 3
   },
   "file_extension": ".py",
   "mimetype": "text/x-python",
   "name": "python",
   "nbconvert_exporter": "python",
   "pygments_lexer": "ipython3",
   "version": "3.6.12"
  },
  "widgets": {
   "application/vnd.jupyter.widget-state+json": {
    "state": {},
    "version_major": 2,
    "version_minor": 0
   }
  }
 },
 "nbformat": 4,
 "nbformat_minor": 5
}
