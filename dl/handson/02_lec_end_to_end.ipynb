{
 "cells": [
  {
   "cell_type": "markdown",
   "metadata": {},
   "source": [
    "# 설정"
   ]
  },
  {
   "cell_type": "markdown",
   "metadata": {},
   "source": [
    "먼저 몇 개의 모듈을 임포트합니다. 맷플롯립 그래프를 인라인으로 출력하도록 만들고 그림을 저장하는 함수를 준비합니다. 또한 파이썬 버전이 3.5 이상인지 확인합니다(파이썬 2.x에서도 동작하지만 곧 지원이 중단되므로 파이썬 3을 사용하는 것이 좋습니다). 사이킷런 버전이 0.20 이상인지도 확인합니다."
   ]
  },
  {
   "cell_type": "code",
   "execution_count": 1,
   "metadata": {},
   "outputs": [],
   "source": [
    "# 파이썬 ≥3.5 필수\n",
    "import sys\n",
    "assert sys.version_info >= (3, 5)\n",
    "\n",
    "# 사이킷런 ≥0.20 필수\n",
    "import sklearn\n",
    "assert sklearn.__version__ >= \"0.20\"\n",
    "\n",
    "# 공통 모듈 임포트\n",
    "import numpy as np\n",
    "import os\n",
    "\n",
    "# 깔금한 그래프 출력을 위해\n",
    "%matplotlib inline\n",
    "import matplotlib as mpl\n",
    "import matplotlib.pyplot as plt\n",
    "mpl.rc('axes', labelsize=14)\n",
    "mpl.rc('xtick', labelsize=12)\n",
    "mpl.rc('ytick', labelsize=12)\n",
    "\n",
    "# 그림을 저장할 위치\n",
    "PROJECT_ROOT_DIR = \".\"\n",
    "CHAPTER_ID = \"end_to_end_project\"\n",
    "IMAGES_PATH = os.path.join(PROJECT_ROOT_DIR, \"images\", CHAPTER_ID)\n",
    "os.makedirs(IMAGES_PATH, exist_ok=True)\n",
    "\n",
    "def save_fig(fig_id, tight_layout=True, fig_extension=\"png\", resolution=300):\n",
    "    path = os.path.join(IMAGES_PATH, fig_id + \".\" + fig_extension)\n",
    "    print(\"그림 저장:\", fig_id)\n",
    "    if tight_layout:\n",
    "        plt.tight_layout()\n",
    "    plt.savefig(path, format=fig_extension, dpi=resolution)"
   ]
  },
  {
   "cell_type": "markdown",
   "metadata": {},
   "source": [
    "# 데이터 가져오기"
   ]
  },
  {
   "cell_type": "code",
   "execution_count": 2,
   "metadata": {},
   "outputs": [],
   "source": [
    "import os\n",
    "import tarfile\n",
    "import urllib.request\n",
    "import numpy as np\n",
    "\n",
    "DOWNLOAD_ROOT = \"https://raw.githubusercontent.com/rickiepark/handson-ml2/master/\"\n",
    "HOUSING_PATH = os.path.join(\"datasets\", \"housing\")\n",
    "HOUSING_URL = DOWNLOAD_ROOT + \"datasets/housing/housing.tgz\"\n",
    "\n",
    "import pandas as pd\n",
    "\n",
    "def load_housing_data(housing_path=HOUSING_PATH):\n",
    "    csv_path = os.path.join(housing_path, \"housing.csv\")\n",
    "    return pd.read_csv(csv_path)\n",
    "\n",
    "housing = load_housing_data()\n",
    "# housing.head()"
   ]
  },
  {
   "cell_type": "code",
   "execution_count": 4,
   "metadata": {},
   "outputs": [],
   "source": [
    "housing[\"income_cat\"] = pd.cut(housing[\"median_income\"],\n",
    "                               bins=[0., 1.5, 3.0, 4.5, 6., np.inf],\n",
    "                               labels=[1, 2, 3, 4, 5])\n",
    "\n",
    "from sklearn.model_selection import StratifiedShuffleSplit\n",
    "# StratifiedKFold() test 중복여부\n",
    "split = StratifiedShuffleSplit(n_splits=1, test_size=0.2, random_state=42)\n",
    "for train_index, test_index in split.split(housing, housing[\"income_cat\"]):\n",
    "    strat_train_set = housing.loc[train_index]\n",
    "    strat_test_set = housing.loc[test_index]"
   ]
  },
  {
   "cell_type": "markdown",
   "metadata": {},
   "source": [
    "# 데이터 이해를 위한 탐색과 시각화"
   ]
  },
  {
   "cell_type": "code",
   "execution_count": null,
   "metadata": {},
   "outputs": [],
   "source": [
    "#  single\n",
    "housing.hist(bins=50,figzie=(20,30))"
   ]
  },
  {
   "cell_type": "code",
   "execution_count": null,
   "metadata": {},
   "outputs": [],
   "source": [
    "#  2-wise\n",
    "import  seaborn as  sns\n",
    "attributes = [\"median_house_value\", \"median_income\", \"total_rooms\",\n",
    "              \"housing_median_age\"]\n",
    "sns.pairplot(housing[attributes],plot_kws={'alpha':0.2})\n",
    "#  interpretation 1. tail bomb 2. range meaning 3. distribution shape"
   ]
  },
  {
   "cell_type": "code",
   "execution_count": null,
   "metadata": {},
   "outputs": [],
   "source": [
    "#  depending on data (customizing)\n",
    "housing.plot(kind=\"scatter\", x=\"longitude\", y=\"latitude\", alpha=0.4,\n",
    "             s=housing[\"population\"]/100, label=\"population\", figsize=(10,7),\n",
    "             c=\"median_house_value\", cmap=plt.get_cmap(\"jet\"), colorbar=True,\n",
    "             sharex=False)\n",
    "plt.legend()"
   ]
  },
  {
   "cell_type": "markdown",
   "metadata": {},
   "source": [
    "# Preparing Data for ML"
   ]
  },
  {
   "cell_type": "code",
   "execution_count": 18,
   "metadata": {},
   "outputs": [],
   "source": [
    "housing = strat_train_set.drop(\"median_house_value\", axis=1) # 훈련 세트를 위해 레이블 삭제\n",
    "housing_labels = strat_train_set[\"median_house_value\"].copy()"
   ]
  },
  {
   "cell_type": "markdown",
   "metadata": {},
   "source": [
    "## Pipeline"
   ]
  },
  {
   "cell_type": "code",
   "execution_count": 19,
   "metadata": {},
   "outputs": [],
   "source": [
    "from sklearn.base import BaseEstimator, TransformerMixin\n",
    "\n",
    "# 열 인덱스\n",
    "col_names = \"total_rooms\", \"total_bedrooms\", \"population\", \"households\"\n",
    "rooms_ix, bedrooms_ix, population_ix, households_ix = [\n",
    "    housing.columns.get_loc(c) for c in col_names] # 열 인덱스 구하기\n",
    "# rooms_ix, bedrooms_ix, population_ix, households_ix = 3, 4, 5, 6\n",
    "\n",
    "#  TransformerMixin : fit_transform\n",
    "#  BaseEstimator : set_params , get_params # these funcs are essential to use HyperP -tuning\n",
    "class CombinedAttributesAdder(BaseEstimator, TransformerMixin):\n",
    "    def __init__(self, add_bedrooms_per_room=True): # *args 또는 **kargs 없음\n",
    "        self.add_bedrooms_per_room = add_bedrooms_per_room\n",
    "    def fit(self, X, y=None):\n",
    "        return self  # 아무것도 하지 않습니다\n",
    "    def transform(self, X):\n",
    "        rooms_per_household = X[:, rooms_ix] / X[:, households_ix]\n",
    "        population_per_household = X[:, population_ix] / X[:, households_ix]\n",
    "        if self.add_bedrooms_per_room:\n",
    "            bedrooms_per_room = X[:, bedrooms_ix] / X[:, rooms_ix]\n",
    "            return np.c_[X, rooms_per_household, population_per_household,\n",
    "                         bedrooms_per_room]\n",
    "        else:\n",
    "            return np.c_[X, rooms_per_household, population_per_household]\n",
    "\n",
    "# attr_adder = CombinedAttributesAdder(add_bedrooms_per_room=False)\n",
    "# housing_extra_attribs = attr_adder.transform(housing.to_numpy())\n",
    "# 또한 `housing_extra_attribs`는 넘파이 배열이기 때문에 열 이름이 없습니다(안타깝지만 사이킷런을 사용할 때 생기는 문제입니다). `DataFrame`으로 복원하려면 다음과 같이 할 수 있습니다:\n",
    "\n",
    "# housing_extra_attribs = pd.DataFrame(\n",
    "#     housing_extra_attribs,\n",
    "#     columns=list(housing.columns)+[\"rooms_per_household\", \"population_per_household\"],\n",
    "#     index=housing.index)\n",
    "# housing_extra_attribs.head()"
   ]
  },
  {
   "cell_type": "code",
   "execution_count": null,
   "metadata": {},
   "outputs": [],
   "source": [
    "housing"
   ]
  },
  {
   "cell_type": "code",
   "execution_count": 35,
   "metadata": {},
   "outputs": [],
   "source": [
    "from sklearn import preprocessing as ppr"
   ]
  },
  {
   "cell_type": "code",
   "execution_count": 37,
   "metadata": {},
   "outputs": [],
   "source": [
    "from sklearn.impute import SimpleImputer\n",
    "from sklearn.pipeline import Pipeline\n",
    "from sklearn.preprocessing import StandardScaler\n",
    "from sklearn.preprocessing import OneHotEncoder\n",
    "\n",
    "num_pipeline = Pipeline([\n",
    "        ('imputer', SimpleImputer(strategy=\"median\")),\n",
    "        ('attribs_adder', CombinedAttributesAdder()),\n",
    "        ('std_scaler', StandardScaler()),\n",
    "    ])\n",
    "\n",
    "# housing_num_tr = num_pipeline.fit_transform(housing_num)\n",
    "\n",
    "from sklearn.compose import ColumnTransformer\n",
    "\n",
    "cat_attribs = [\"ocean_proximity\"]\n",
    "num_attribs = [  x for x in housing.columns if not x in cat_attribs]\n",
    "\n",
    "\n",
    "full_pipeline = ColumnTransformer([\n",
    "        (\"num\", num_pipeline, num_attribs),\n",
    "        (\"cat\", OneHotEncoder(), cat_attribs),\n",
    "    ])\n",
    "\n",
    "housing_prepared = full_pipeline.fit_transform(housing)"
   ]
  },
  {
   "cell_type": "markdown",
   "metadata": {},
   "source": [
    "## old pipe (`DataFrameSelector` , `FeatureUnion`)"
   ]
  },
  {
   "cell_type": "markdown",
   "metadata": {},
   "source": [
    "# 모델 선택과 훈련"
   ]
  },
  {
   "cell_type": "code",
   "execution_count": null,
   "metadata": {},
   "outputs": [],
   "source": [
    "# checking training degree "
   ]
  },
  {
   "cell_type": "code",
   "execution_count": 43,
   "metadata": {},
   "outputs": [
    {
     "data": {
      "text/plain": [
       "68376.64295459937"
      ]
     },
     "execution_count": 43,
     "metadata": {},
     "output_type": "execute_result"
    }
   ],
   "source": [
    "from sklearn.linear_model import LinearRegression\n",
    "from sklearn.metrics import mean_squared_error as mse\n",
    "\n",
    "lin_reg = LinearRegression()\n",
    "lin_reg.fit(housing_prepared, housing_labels)\n",
    "\n",
    "# 훈련 샘플 몇 개를 사용해 전체 파이프라인을 적용해 보겠습니다\n",
    "some_data = housing.iloc[:5]\n",
    "some_labels = housing_labels.iloc[:5]\n",
    "some_data_prepared = full_pipeline.transform(some_data)\n",
    "\n",
    "\n",
    "housing_predictions = lin_reg.predict(housing_prepared)\n",
    "lin_rmse = mse(housing_labels, housing_predictions,squared=False)\n",
    "# lin_rmse = np.sqrt(lin_mse)\n",
    "lin_rmse"
   ]
  },
  {
   "cell_type": "markdown",
   "metadata": {},
   "source": [
    "**노트**: 사이킷런 0.22 버전부터는 `squared=False` 매개변수로 `mean_squared_error()` 함수를 호출하면 RMSE를 바로 얻을 수 있습니다."
   ]
  },
  {
   "cell_type": "code",
   "execution_count": 49,
   "metadata": {
    "tags": []
   },
   "outputs": [
    {
     "data": {
      "text/plain": [
       "0.0"
      ]
     },
     "execution_count": 49,
     "metadata": {},
     "output_type": "execute_result"
    }
   ],
   "source": [
    "from sklearn.tree import DecisionTreeRegressor\n",
    "\n",
    "tree_reg = DecisionTreeRegressor(random_state=42)\n",
    "tree_reg.fit(housing_prepared, housing_labels)\n",
    "\n",
    "housing_predictions = tree_reg.predict(housing_prepared)\n",
    "tree_rmse = mean_squared_error(housing_labels, housing_predictions,squared=False)\n",
    "tree_rmse"
   ]
  },
  {
   "cell_type": "code",
   "execution_count": 99,
   "metadata": {},
   "outputs": [
    {
     "data": {
      "text/plain": [
       "RandomForestRegressor(random_state=42)"
      ]
     },
     "execution_count": 99,
     "metadata": {},
     "output_type": "execute_result"
    }
   ],
   "source": [
    "from sklearn.ensemble import RandomForestRegressor\n",
    "\n",
    "forest_reg = RandomForestRegressor(n_estimators=100, random_state=42)\n",
    "forest_reg.fit(housing_prepared, housing_labels)"
   ]
  },
  {
   "cell_type": "code",
   "execution_count": 100,
   "metadata": {},
   "outputs": [
    {
     "data": {
      "text/plain": [
       "18626.45217719628"
      ]
     },
     "execution_count": 100,
     "metadata": {},
     "output_type": "execute_result"
    }
   ],
   "source": [
    "housing_predictions = forest_reg.predict(housing_prepared)\n",
    "forest_mse = mean_squared_error(housing_labels, housing_predictions)\n",
    "forest_rmse = np.sqrt(forest_mse)\n",
    "forest_rmse"
   ]
  },
  {
   "cell_type": "markdown",
   "metadata": {},
   "source": [
    "# 모델 세부 튜닝"
   ]
  },
  {
   "cell_type": "code",
   "execution_count": null,
   "metadata": {},
   "outputs": [],
   "source": [
    "#  auto ml\n",
    "#  Classification, Regression, Clustering, Anomaly Detection"
   ]
  },
  {
   "cell_type": "markdown",
   "metadata": {},
   "source": [
    "## kfolding"
   ]
  },
  {
   "cell_type": "code",
   "execution_count": 98,
   "metadata": {},
   "outputs": [
    {
     "name": "stdout",
     "output_type": "stream",
     "text": [
      "점수: [70274.7991723  67258.3624668  71350.42593227 68882.91340979\n",
      " 70987.99296566 74177.52037059 70788.57311306 70850.53018019\n",
      " 76430.62239321 70212.6471067 ]\n",
      "평균: 71121.4387110585\n",
      "표준 편차: 2434.3080046605132\n"
     ]
    }
   ],
   "source": [
    "def display_scores(scores):\n",
    "    print(\"점수:\", scores)\n",
    "    print(\"평균:\", scores.mean())\n",
    "    print(\"표준 편차:\", scores.std())\n",
    "from sklearn.model_selection import cross_val_score\n",
    "\n",
    "scores = cross_val_score(tree_reg, housing_prepared, housing_labels,\n",
    "                         scoring=\"neg_mean_squared_error\", cv=10)\n",
    "tree_rmse_scores = np.sqrt(-scores)\n",
    "display_scores(tree_rmse_scores)"
   ]
  },
  {
   "cell_type": "code",
   "execution_count": 117,
   "metadata": {},
   "outputs": [
    {
     "name": "stdout",
     "output_type": "stream",
     "text": [
      "점수: [67410.56758819 68711.95624331 67405.27101218 70383.49370435\n",
      " 70742.46749668 69914.56925342 66298.95788526 69142.09248224\n",
      " 68898.68032691 68834.31004108]\n",
      "평균: 68774.23660336516\n",
      "표준 편차: 1333.5275165319408\n"
     ]
    }
   ],
   "source": [
    "from sklearn.model_selection import StratifiedKFold as skf\n",
    "sk = skf(n_splits=10)\n",
    "lin_scores = cross_val_score(lin_reg, housing_prepared, housing_labels,\n",
    "                             scoring=\"neg_mean_squared_error\", cv=sk)\n",
    "lin_rmse_scores = np.sqrt(-lin_scores)\n",
    "display_scores(lin_rmse_scores)"
   ]
  },
  {
   "cell_type": "markdown",
   "metadata": {},
   "source": [
    "**노트**: 사이킷런 0.22 버전에서 `n_estimators`의 기본값이 100으로 바뀌기 때문에 향후를 위해 `n_estimators=100`로 지정합니다(책에는 등장하지 않습니다)."
   ]
  },
  {
   "cell_type": "code",
   "execution_count": 103,
   "metadata": {},
   "outputs": [
    {
     "name": "stdout",
     "output_type": "stream",
     "text": [
      "점수: [49633.454487   47565.18736589 50034.52343496 52444.25008076\n",
      " 49463.18392461 53515.10766804 48577.59023701 47678.90315126\n",
      " 53433.75372939 49947.64462367]\n",
      "평균: 50229.359870258486\n",
      "표준 편차: 2082.3174179664184\n"
     ]
    }
   ],
   "source": [
    "from sklearn.model_selection import cross_val_score\n",
    "\n",
    "forest_scores = cross_val_score(forest_reg, housing_prepared, housing_labels,\n",
    "                                scoring=\"neg_mean_squared_error\", cv=10)\n",
    "forest_rmse_scores = np.sqrt(-forest_scores)\n",
    "display_scores(forest_rmse_scores)"
   ]
  },
  {
   "cell_type": "markdown",
   "metadata": {},
   "source": [
    "## lin regression "
   ]
  },
  {
   "cell_type": "code",
   "execution_count": 96,
   "metadata": {},
   "outputs": [
    {
     "data": {
      "text/plain": [
       "count       10.000000\n",
       "mean     69052.461363\n",
       "std       2879.437224\n",
       "min      64969.630564\n",
       "25%      67136.363758\n",
       "50%      68156.372635\n",
       "75%      70982.369487\n",
       "max      74739.570526\n",
       "dtype: float64"
      ]
     },
     "execution_count": 96,
     "metadata": {},
     "output_type": "execute_result"
    }
   ],
   "source": [
    "scores = cross_val_score(lin_reg, housing_prepared, housing_labels, scoring=\"neg_mean_squared_error\", cv=10)\n",
    "pd.Series(np.sqrt(-scores)).describe()"
   ]
  },
  {
   "cell_type": "code",
   "execution_count": 107,
   "metadata": {},
   "outputs": [
    {
     "name": "stdout",
     "output_type": "stream",
     "text": [
      "점수: [101753.54978461 108380.51380685 106200.32161595 109301.66402916\n",
      " 106682.29073341 111849.88610827 106534.44353941 110576.7797446\n",
      " 109867.22584371 107754.78897031]\n",
      "평균: 107890.14641762718\n",
      "표준 편차: 2699.4020751918697\n"
     ]
    }
   ],
   "source": [
    "from sklearn.svm import SVR\n",
    "\n",
    "svm_reg = SVR(kernel=\"linear\")\n",
    "# svm_reg.fit(housing_prepared, housing_labels)\n",
    "# housing_predictions = svm_reg.predict(housing_prepared)\n",
    "# svm_mse = mean_squared_error(housing_labels, housing_predictions)\n",
    "svm_mse  = cross_val_score(svm_reg,housing_prepared,housing_labels,scoring='neg_mean_squared_error',cv=10)\n",
    "svm_rmse = np.sqrt(-svm_mse)\n",
    "display_scores(svm_rmse)"
   ]
  },
  {
   "cell_type": "markdown",
   "metadata": {},
   "source": [
    "## auto-tuning "
   ]
  },
  {
   "cell_type": "code",
   "execution_count": null,
   "metadata": {},
   "outputs": [],
   "source": [
    "# pip install bayesian-optimization #if you wanna use bayesian optimizer"
   ]
  },
  {
   "cell_type": "code",
   "execution_count": 118,
   "metadata": {},
   "outputs": [
    {
     "data": {
      "text/plain": [
       "GridSearchCV(cv=5, estimator=RandomForestRegressor(random_state=42),\n",
       "             param_grid=[{'max_features': [2, 4, 6, 8],\n",
       "                          'n_estimators': [3, 10, 30]},\n",
       "                         {'bootstrap': [False], 'max_features': [2, 3, 4],\n",
       "                          'n_estimators': [3, 10]}],\n",
       "             return_train_score=True, scoring='neg_mean_squared_error')"
      ]
     },
     "execution_count": 118,
     "metadata": {},
     "output_type": "execute_result"
    }
   ],
   "source": [
    "from sklearn.model_selection import GridSearchCV\n",
    "\n",
    "param_grid = [\n",
    "    # 12(=3×4)개의 하이퍼파라미터 조합을 시도합니다.\n",
    "    {'n_estimators': [3, 10, 30], 'max_features': [2, 4, 6, 8]},\n",
    "    # bootstrap은 False로 하고 6(=2×3)개의 조합을 시도합니다.\n",
    "    {'bootstrap': [False], 'n_estimators': [3, 10], 'max_features': [2, 3, 4]},\n",
    "  ]\n",
    "\n",
    "forest_reg = RandomForestRegressor(random_state=42)\n",
    "# 다섯 개의 폴드로 훈련하면 총 (12+6)*5=90번의 훈련이 일어납니다.\n",
    "grid_search = GridSearchCV(forest_reg, param_grid, cv=5,\n",
    "                           scoring='neg_mean_squared_error',\n",
    "                           return_train_score=True)\n",
    "grid_search.fit(housing_prepared, housing_labels)"
   ]
  },
  {
   "cell_type": "code",
   "execution_count": 99,
   "metadata": {},
   "outputs": [
    {
     "data": {
      "text/plain": [
       "{'max_features': 8, 'n_estimators': 30}"
      ]
     },
     "execution_count": 99,
     "metadata": {},
     "output_type": "execute_result"
    }
   ],
   "source": [
    "grid_search.best_params_"
   ]
  },
  {
   "cell_type": "code",
   "execution_count": 100,
   "metadata": {},
   "outputs": [
    {
     "data": {
      "text/plain": [
       "RandomForestRegressor(max_features=8, n_estimators=30, random_state=42)"
      ]
     },
     "execution_count": 100,
     "metadata": {},
     "output_type": "execute_result"
    }
   ],
   "source": [
    "grid_search.best_estimator_"
   ]
  },
  {
   "cell_type": "markdown",
   "metadata": {},
   "source": [
    "그리드서치에서 테스트한 하이퍼파라미터 조합의 점수를 확인합니다:"
   ]
  },
  {
   "cell_type": "code",
   "execution_count": 132,
   "metadata": {},
   "outputs": [
    {
     "name": "stdout",
     "output_type": "stream",
     "text": [
      "64246.880700613496 {'max_features': 2, 'n_estimators': 3}\n",
      "55869.85367924813 {'max_features': 2, 'n_estimators': 10}\n",
      "53472.1282558969 {'max_features': 2, 'n_estimators': 30}\n",
      "61376.36445082522 {'max_features': 4, 'n_estimators': 3}\n",
      "53846.329115303764 {'max_features': 4, 'n_estimators': 10}\n",
      "51270.1941502407 {'max_features': 4, 'n_estimators': 30}\n",
      "59860.61532587693 {'max_features': 6, 'n_estimators': 3}\n",
      "53114.42460001889 {'max_features': 6, 'n_estimators': 10}\n",
      "50811.43543872171 {'max_features': 6, 'n_estimators': 30}\n",
      "59220.31563298743 {'max_features': 8, 'n_estimators': 3}\n",
      "52884.78697544277 {'max_features': 8, 'n_estimators': 10}\n",
      "50944.39369116168 {'max_features': 8, 'n_estimators': 30}\n",
      "62805.52917192821 {'bootstrap': False, 'max_features': 2, 'n_estimators': 3}\n",
      "54462.1410888642 {'bootstrap': False, 'max_features': 2, 'n_estimators': 10}\n",
      "61117.32056104296 {'bootstrap': False, 'max_features': 3, 'n_estimators': 3}\n",
      "53022.992252269294 {'bootstrap': False, 'max_features': 3, 'n_estimators': 10}\n",
      "60234.58052562756 {'bootstrap': False, 'max_features': 4, 'n_estimators': 3}\n",
      "52712.989031117104 {'bootstrap': False, 'max_features': 4, 'n_estimators': 10}\n"
     ]
    }
   ],
   "source": [
    "cvres = grid_search.cv_results_\n",
    "for mean_score, params in zip(cvres[\"mean_test_score\"], cvres[\"params\"]):\n",
    "    print(np.sqrt(-mean_score), params)"
   ]
  },
  {
   "cell_type": "code",
   "execution_count": 124,
   "metadata": {},
   "outputs": [
    {
     "data": {
      "text/plain": [
       "RandomizedSearchCV(cv=5, estimator=RandomForestRegressor(random_state=42),\n",
       "                   param_distributions={'max_features': <scipy.stats._distn_infrastructure.rv_frozen object at 0x0000022CD0E40278>,\n",
       "                                        'n_estimators': <scipy.stats._distn_infrastructure.rv_frozen object at 0x0000022CD0E40400>},\n",
       "                   random_state=42, scoring='neg_mean_squared_error')"
      ]
     },
     "execution_count": 124,
     "metadata": {},
     "output_type": "execute_result"
    }
   ],
   "source": [
    "from sklearn.model_selection import RandomizedSearchCV\n",
    "from scipy.stats import randint\n",
    "\n",
    "param_distribs = {\n",
    "        'n_estimators': randint(low=1, high=200),\n",
    "        'max_features': randint(low=1, high=8),\n",
    "    }\n",
    "\n",
    "forest_reg = RandomForestRegressor(random_state=42)\n",
    "rnd_search = RandomizedSearchCV(forest_reg, param_distributions=param_distribs,\n",
    "                                n_iter=10, cv=5, scoring='neg_mean_squared_error', random_state=42)\n",
    "rnd_search.fit(housing_prepared, housing_labels)"
   ]
  },
  {
   "cell_type": "code",
   "execution_count": 104,
   "metadata": {},
   "outputs": [
    {
     "name": "stdout",
     "output_type": "stream",
     "text": [
      "49150.70756927707 {'max_features': 7, 'n_estimators': 180}\n",
      "51389.889203389284 {'max_features': 5, 'n_estimators': 15}\n",
      "50796.155224308866 {'max_features': 3, 'n_estimators': 72}\n",
      "50835.13360315349 {'max_features': 5, 'n_estimators': 21}\n",
      "49280.9449827171 {'max_features': 7, 'n_estimators': 122}\n",
      "50774.90662363929 {'max_features': 3, 'n_estimators': 75}\n",
      "50682.78888164288 {'max_features': 3, 'n_estimators': 88}\n",
      "49608.99608105296 {'max_features': 5, 'n_estimators': 100}\n",
      "50473.61930350219 {'max_features': 3, 'n_estimators': 150}\n",
      "64429.84143294435 {'max_features': 5, 'n_estimators': 2}\n"
     ]
    }
   ],
   "source": [
    "cvres = rnd_search.cv_results_\n",
    "for mean_score, params in zip(cvres[\"mean_test_score\"], cvres[\"params\"]):\n",
    "    print(np.sqrt(-mean_score), params)"
   ]
  },
  {
   "cell_type": "code",
   "execution_count": 105,
   "metadata": {},
   "outputs": [
    {
     "data": {
      "text/plain": [
       "array([7.33442355e-02, 6.29090705e-02, 4.11437985e-02, 1.46726854e-02,\n",
       "       1.41064835e-02, 1.48742809e-02, 1.42575993e-02, 3.66158981e-01,\n",
       "       5.64191792e-02, 1.08792957e-01, 5.33510773e-02, 1.03114883e-02,\n",
       "       1.64780994e-01, 6.02803867e-05, 1.96041560e-03, 2.85647464e-03])"
      ]
     },
     "execution_count": 105,
     "metadata": {},
     "output_type": "execute_result"
    }
   ],
   "source": [
    "feature_importances = grid_search.best_estimator_.feature_importances_\n",
    "feature_importances"
   ]
  },
  {
   "cell_type": "code",
   "execution_count": 164,
   "metadata": {},
   "outputs": [
    {
     "data": {
      "text/plain": [
       "array(['<1H OCEAN', 'INLAND', 'ISLAND', 'NEAR BAY', 'NEAR OCEAN'],\n",
       "      dtype=object)"
      ]
     },
     "execution_count": 164,
     "metadata": {},
     "output_type": "execute_result"
    }
   ],
   "source": [
    "full_pipeline.named_transformers_[\"cat\"].categories_[0]"
   ]
  },
  {
   "cell_type": "code",
   "execution_count": 106,
   "metadata": {},
   "outputs": [
    {
     "data": {
      "text/plain": [
       "[(0.36615898061813423, 'median_income'),\n",
       " (0.16478099356159054, 'INLAND'),\n",
       " (0.10879295677551575, 'pop_per_hhold'),\n",
       " (0.07334423551601243, 'longitude'),\n",
       " (0.06290907048262032, 'latitude'),\n",
       " (0.056419179181954014, 'rooms_per_hhold'),\n",
       " (0.053351077347675815, 'bedrooms_per_room'),\n",
       " (0.04114379847872964, 'housing_median_age'),\n",
       " (0.014874280890402769, 'population'),\n",
       " (0.014672685420543239, 'total_rooms'),\n",
       " (0.014257599323407808, 'households'),\n",
       " (0.014106483453584104, 'total_bedrooms'),\n",
       " (0.010311488326303788, '<1H OCEAN'),\n",
       " (0.0028564746373201584, 'NEAR OCEAN'),\n",
       " (0.0019604155994780706, 'NEAR BAY'),\n",
       " (6.0280386727366e-05, 'ISLAND')]"
      ]
     },
     "execution_count": 106,
     "metadata": {},
     "output_type": "execute_result"
    }
   ],
   "source": [
    "extra_attribs = [\"rooms_per_hhold\", \"pop_per_hhold\", \"bedrooms_per_room\"]\n",
    "#cat_encoder = cat_pipeline.named_steps[\"cat_encoder\"] # 예전 방식\n",
    "cat_encoder = full_pipeline.named_transformers_[\"cat\"]\n",
    "cat_one_hot_attribs = list(cat_encoder.categories_[0])\n",
    "attributes = num_attribs + extra_attribs + cat_one_hot_attribs\n",
    "sorted(zip(feature_importances, attributes), reverse=True)"
   ]
  },
  {
   "cell_type": "code",
   "execution_count": 135,
   "metadata": {
    "tags": []
   },
   "outputs": [],
   "source": [
    "final_model = grid_search.best_estimator_\n",
    "\n",
    "X_test = strat_test_set.drop(\"median_house_value\", axis=1)\n",
    "y_test = strat_test_set[\"median_house_value\"].copy()\n",
    "\n",
    "X_test_prepared = full_pipeline.transform(X_test)\n",
    "final_predictions = final_model.predict(X_test_prepared)\n",
    "\n",
    "final_mse = mean_squared_error(y_test, final_predictions)\n",
    "final_rmse = np.sqrt(final_mse)"
   ]
  },
  {
   "cell_type": "code",
   "execution_count": 136,
   "metadata": {},
   "outputs": [
    {
     "data": {
      "text/plain": [
       "49040.18609727207"
      ]
     },
     "execution_count": 136,
     "metadata": {},
     "output_type": "execute_result"
    }
   ],
   "source": [
    "final_rmse"
   ]
  },
  {
   "cell_type": "markdown",
   "metadata": {},
   "source": [
    "테스트 RMSE에 대한 95% 신뢰 구간을 계산할 수 있습니다:"
   ]
  },
  {
   "cell_type": "code",
   "execution_count": 150,
   "metadata": {},
   "outputs": [],
   "source": [
    "def get_range(prey,y,confidence):\n",
    "    confidence = confidence\n",
    "    squared_errors = (prey - y) ** 2\n",
    "    interval = np.sqrt(stats.t.interval(confidence, len(squared_errors) - 1,\n",
    "                         loc=squared_errors.mean(),\n",
    "                         scale=stats.sem(squared_errors)) )\n",
    "    return interval"
   ]
  },
  {
   "cell_type": "code",
   "execution_count": 148,
   "metadata": {},
   "outputs": [],
   "source": [
    "from scipy import stats\n",
    "\n",
    "confidence = 0.95\n",
    "squared_errors = (final_predictions - y_test) ** 2\n",
    "\n",
    "np.sqrt(stats.t.interval(confidence, len(squared_errors) - 1,\n",
    "                         loc=squared_errors.mean(),\n",
    "                         scale=stats.sem(squared_errors)) )"
   ]
  },
  {
   "cell_type": "markdown",
   "metadata": {},
   "source": [
    "다음과 같이 수동으로 계산할 수도 있습니다:"
   ]
  },
  {
   "cell_type": "code",
   "execution_count": 147,
   "metadata": {},
   "outputs": [
    {
     "data": {
      "text/plain": [
       "(47074.196914247535, 50930.34154400303)"
      ]
     },
     "execution_count": 147,
     "metadata": {},
     "output_type": "execute_result"
    }
   ],
   "source": [
    "m = len(squared_errors)\n",
    "mean = squared_errors.mean()\n",
    "tscore = stats.t.ppf((1 + confidence) / 2, df=m - 1)\n",
    "tmargin = tscore * squared_errors.std(ddof=1) / np.sqrt(m)\n",
    "np.sqrt(mean - tmargin), np.sqrt(mean + tmargin)"
   ]
  },
  {
   "cell_type": "markdown",
   "metadata": {},
   "source": [
    "또는 t-점수 대신 z-점수를 사용할 수도 있습니다:"
   ]
  },
  {
   "cell_type": "code",
   "execution_count": 111,
   "metadata": {},
   "outputs": [
    {
     "data": {
      "text/plain": [
       "(45685.717918136594, 49690.68623889426)"
      ]
     },
     "execution_count": 111,
     "metadata": {},
     "output_type": "execute_result"
    }
   ],
   "source": [
    "zscore = stats.norm.ppf((1 + confidence) / 2)\n",
    "zmargin = zscore * squared_errors.std(ddof=1) / np.sqrt(m)\n",
    "np.sqrt(mean - zmargin), np.sqrt(mean + zmargin)"
   ]
  },
  {
   "cell_type": "markdown",
   "metadata": {},
   "source": [
    "# 추가 내용"
   ]
  },
  {
   "cell_type": "markdown",
   "metadata": {},
   "source": [
    "## 전처리와 예측을 포함한 전체 파이프라인"
   ]
  },
  {
   "cell_type": "code",
   "execution_count": 108,
   "metadata": {},
   "outputs": [
    {
     "data": {
      "text/plain": [
       "array([203682.37379543, 326371.39370781, 204218.64588245,  58685.4770482 ,\n",
       "       194213.06443039])"
      ]
     },
     "execution_count": 108,
     "metadata": {},
     "output_type": "execute_result"
    }
   ],
   "source": [
    "full_pipeline_with_predictor = Pipeline([\n",
    "        (\"preparation\", full_pipeline),\n",
    "        (\"linear\", LinearRegression())\n",
    "    ])\n",
    "\n",
    "full_pipeline_with_predictor.fit(housing, housing_labels)\n",
    "full_pipeline_with_predictor.predict(some_data)"
   ]
  },
  {
   "cell_type": "markdown",
   "metadata": {},
   "source": [
    "## joblib를 사용한 모델 저장"
   ]
  },
  {
   "cell_type": "code",
   "execution_count": 113,
   "metadata": {},
   "outputs": [],
   "source": [
    "my_model = full_pipeline_with_predictor"
   ]
  },
  {
   "cell_type": "code",
   "execution_count": 114,
   "metadata": {},
   "outputs": [],
   "source": [
    "import joblib\n",
    "joblib.dump(my_model, \"my_model.pkl\") # DIFF\n",
    "#...\n",
    "my_model_loaded = joblib.load(\"my_model.pkl\") # DIFF"
   ]
  },
  {
   "cell_type": "markdown",
   "metadata": {},
   "source": [
    "## `RandomizedSearchCV`를 위한 Scipy 분포 함수"
   ]
  },
  {
   "cell_type": "code",
   "execution_count": 115,
   "metadata": {},
   "outputs": [
    {
     "data": {
      "image/png": "[encoded data removed]",
      "text/plain": [
       "<Figure size 432x288 with 1 Axes>"
      ]
     },
     "metadata": {
      "needs_background": "light"
     },
     "output_type": "display_data"
    },
    {
     "data": {
      "image/png": "[encoded data removed]",
      "text/plain": [
       "<Figure size 432x288 with 1 Axes>"
      ]
     },
     "metadata": {
      "needs_background": "light"
     },
     "output_type": "display_data"
    }
   ],
   "source": [
    "from scipy.stats import geom, expon\n",
    "geom_distrib=geom(0.5).rvs(10000, random_state=42)\n",
    "expon_distrib=expon(scale=1).rvs(10000, random_state=42)\n",
    "plt.hist(geom_distrib, bins=50)\n",
    "plt.show()\n",
    "plt.hist(expon_distrib, bins=50)\n",
    "plt.show()"
   ]
  },
  {
   "cell_type": "markdown",
   "metadata": {},
   "source": [
    "# 연습문제 해답"
   ]
  },
  {
   "cell_type": "markdown",
   "metadata": {},
   "source": [
    "## 1."
   ]
  },
  {
   "cell_type": "markdown",
   "metadata": {},
   "source": [
    "질문: 서포트 벡터 머신 회귀(`sklearn.svm.SVR`)를 `kernel=“linear”`(하이퍼파라미터 `C`를 바꿔가며)나 `kernel=“rbf”`(하이퍼파라미터 `C`와 `gamma`를 바꿔가며) 등의 다양한 하이퍼파라미터 설정으로 시도해보세요. 지금은 이 하이퍼파라미터가 무엇을 의미하는지 너무 신경 쓰지 마세요. 최상의 `SVR` 모델은 무엇인가요?\n",
    "\n",
    "**경고**: 사용하는 하드웨어에 따라 다음 셀을 실행하는데 30분 또는 그 이상 걸릴 수 있습니다."
   ]
  },
  {
   "cell_type": "code",
   "execution_count": 116,
   "metadata": {
    "collapsed": true,
    "jupyter": {
     "outputs_hidden": true
    },
    "tags": []
   },
   "outputs": [
    {
     "name": "stdout",
     "output_type": "stream",
     "text": [
      "Fitting 5 folds for each of 50 candidates, totalling 250 fits\n",
      "[CV] END ..............................C=10.0, kernel=linear; total time=   7.6s\n",
      "[CV] END ..............................C=10.0, kernel=linear; total time=   7.5s\n",
      "[CV] END ..............................C=10.0, kernel=linear; total time=   7.5s\n",
      "[CV] END ..............................C=10.0, kernel=linear; total time=   7.6s\n",
      "[CV] END ..............................C=10.0, kernel=linear; total time=   7.4s\n",
      "[CV] END ..............................C=30.0, kernel=linear; total time=   7.2s\n",
      "[CV] END ..............................C=30.0, kernel=linear; total time=   7.6s\n",
      "[CV] END ..............................C=30.0, kernel=linear; total time=   7.6s\n",
      "[CV] END ..............................C=30.0, kernel=linear; total time=   7.6s\n",
      "[CV] END ..............................C=30.0, kernel=linear; total time=   7.7s\n",
      "[CV] END .............................C=100.0, kernel=linear; total time=   7.6s\n",
      "[CV] END .............................C=100.0, kernel=linear; total time=   7.7s\n",
      "[CV] END .............................C=100.0, kernel=linear; total time=   7.6s\n",
      "[CV] END .............................C=100.0, kernel=linear; total time=   7.5s\n",
      "[CV] END .............................C=100.0, kernel=linear; total time=   7.6s\n",
      "[CV] END .............................C=300.0, kernel=linear; total time=   7.6s\n",
      "[CV] END .............................C=300.0, kernel=linear; total time=   7.7s\n",
      "[CV] END .............................C=300.0, kernel=linear; total time=   8.4s\n",
      "[CV] END .............................C=300.0, kernel=linear; total time=   8.1s\n",
      "[CV] END .............................C=300.0, kernel=linear; total time=   7.6s\n",
      "[CV] END ............................C=1000.0, kernel=linear; total time=   7.5s\n",
      "[CV] END ............................C=1000.0, kernel=linear; total time=   7.6s\n",
      "[CV] END ............................C=1000.0, kernel=linear; total time=   7.7s\n",
      "[CV] END ............................C=1000.0, kernel=linear; total time=   7.8s\n",
      "[CV] END ............................C=1000.0, kernel=linear; total time=   7.7s\n",
      "[CV] END ............................C=3000.0, kernel=linear; total time=   8.2s\n",
      "[CV] END ............................C=3000.0, kernel=linear; total time=   8.3s\n",
      "[CV] END ............................C=3000.0, kernel=linear; total time=   8.1s\n",
      "[CV] END ............................C=3000.0, kernel=linear; total time=   8.1s\n",
      "[CV] END ............................C=3000.0, kernel=linear; total time=   7.9s\n",
      "[CV] END ...........................C=10000.0, kernel=linear; total time=   9.7s\n",
      "[CV] END ...........................C=10000.0, kernel=linear; total time=   9.6s\n",
      "[CV] END ...........................C=10000.0, kernel=linear; total time=   9.9s\n",
      "[CV] END ...........................C=10000.0, kernel=linear; total time=   9.5s\n",
      "[CV] END ...........................C=10000.0, kernel=linear; total time=   9.1s\n",
      "[CV] END ...........................C=30000.0, kernel=linear; total time=  13.1s\n",
      "[CV] END ...........................C=30000.0, kernel=linear; total time=  14.6s\n",
      "[CV] END ...........................C=30000.0, kernel=linear; total time=  14.2s\n",
      "[CV] END ...........................C=30000.0, kernel=linear; total time=  14.1s\n",
      "[CV] END ...........................C=30000.0, kernel=linear; total time=  13.9s\n",
      "[CV] END ......................C=1.0, gamma=0.01, kernel=rbf; total time=  14.1s\n",
      "[CV] END ......................C=1.0, gamma=0.01, kernel=rbf; total time=  14.2s\n",
      "[CV] END ......................C=1.0, gamma=0.01, kernel=rbf; total time=  14.1s\n",
      "[CV] END ......................C=1.0, gamma=0.01, kernel=rbf; total time=  14.1s\n",
      "[CV] END ......................C=1.0, gamma=0.01, kernel=rbf; total time=  14.1s\n",
      "[CV] END ......................C=1.0, gamma=0.03, kernel=rbf; total time=  14.0s\n",
      "[CV] END ......................C=1.0, gamma=0.03, kernel=rbf; total time=  14.2s\n",
      "[CV] END ......................C=1.0, gamma=0.03, kernel=rbf; total time=  13.9s\n",
      "[CV] END ......................C=1.0, gamma=0.03, kernel=rbf; total time=  14.1s\n",
      "[CV] END ......................C=1.0, gamma=0.03, kernel=rbf; total time=  14.0s\n",
      "[CV] END .......................C=1.0, gamma=0.1, kernel=rbf; total time=  14.0s\n",
      "[CV] END .......................C=1.0, gamma=0.1, kernel=rbf; total time=  13.7s\n",
      "[CV] END .......................C=1.0, gamma=0.1, kernel=rbf; total time=  14.2s\n",
      "[CV] END .......................C=1.0, gamma=0.1, kernel=rbf; total time=  13.8s\n",
      "[CV] END .......................C=1.0, gamma=0.1, kernel=rbf; total time=  14.5s\n",
      "[CV] END .......................C=1.0, gamma=0.3, kernel=rbf; total time=  13.4s\n",
      "[CV] END .......................C=1.0, gamma=0.3, kernel=rbf; total time=  13.8s\n",
      "[CV] END .......................C=1.0, gamma=0.3, kernel=rbf; total time=  13.6s\n",
      "[CV] END .......................C=1.0, gamma=0.3, kernel=rbf; total time=  14.0s\n",
      "[CV] END .......................C=1.0, gamma=0.3, kernel=rbf; total time=  13.9s\n",
      "[CV] END .......................C=1.0, gamma=1.0, kernel=rbf; total time=  13.2s\n",
      "[CV] END .......................C=1.0, gamma=1.0, kernel=rbf; total time=  13.3s\n",
      "[CV] END .......................C=1.0, gamma=1.0, kernel=rbf; total time=  13.7s\n",
      "[CV] END .......................C=1.0, gamma=1.0, kernel=rbf; total time=  13.4s\n",
      "[CV] END .......................C=1.0, gamma=1.0, kernel=rbf; total time=  13.5s\n",
      "[CV] END .......................C=1.0, gamma=3.0, kernel=rbf; total time=  14.1s\n",
      "[CV] END .......................C=1.0, gamma=3.0, kernel=rbf; total time=  14.0s\n",
      "[CV] END .......................C=1.0, gamma=3.0, kernel=rbf; total time=  14.0s\n",
      "[CV] END .......................C=1.0, gamma=3.0, kernel=rbf; total time=  14.1s\n",
      "[CV] END .......................C=1.0, gamma=3.0, kernel=rbf; total time=  14.0s\n",
      "[CV] END ......................C=3.0, gamma=0.01, kernel=rbf; total time=  14.6s\n",
      "[CV] END ......................C=3.0, gamma=0.01, kernel=rbf; total time=  14.3s\n",
      "[CV] END ......................C=3.0, gamma=0.01, kernel=rbf; total time=  14.6s\n",
      "[CV] END ......................C=3.0, gamma=0.01, kernel=rbf; total time=  14.8s\n",
      "[CV] END ......................C=3.0, gamma=0.01, kernel=rbf; total time=  14.9s\n",
      "[CV] END ......................C=3.0, gamma=0.03, kernel=rbf; total time=  14.8s\n",
      "[CV] END ......................C=3.0, gamma=0.03, kernel=rbf; total time=  14.5s\n",
      "[CV] END ......................C=3.0, gamma=0.03, kernel=rbf; total time=  14.6s\n",
      "[CV] END ......................C=3.0, gamma=0.03, kernel=rbf; total time=  14.7s\n",
      "[CV] END ......................C=3.0, gamma=0.03, kernel=rbf; total time=  14.4s\n",
      "[CV] END .......................C=3.0, gamma=0.1, kernel=rbf; total time=  14.2s\n",
      "[CV] END .......................C=3.0, gamma=0.1, kernel=rbf; total time=  14.0s\n",
      "[CV] END .......................C=3.0, gamma=0.1, kernel=rbf; total time=  14.3s\n",
      "[CV] END .......................C=3.0, gamma=0.1, kernel=rbf; total time=  14.1s\n",
      "[CV] END .......................C=3.0, gamma=0.1, kernel=rbf; total time=  13.8s\n",
      "[CV] END .......................C=3.0, gamma=0.3, kernel=rbf; total time=  13.7s\n",
      "[CV] END .......................C=3.0, gamma=0.3, kernel=rbf; total time=  13.7s\n",
      "[CV] END .......................C=3.0, gamma=0.3, kernel=rbf; total time=  13.5s\n",
      "[CV] END .......................C=3.0, gamma=0.3, kernel=rbf; total time=  13.9s\n",
      "[CV] END .......................C=3.0, gamma=0.3, kernel=rbf; total time=  13.5s\n",
      "[CV] END .......................C=3.0, gamma=1.0, kernel=rbf; total time=  13.3s\n",
      "[CV] END .......................C=3.0, gamma=1.0, kernel=rbf; total time=  13.4s\n",
      "[CV] END .......................C=3.0, gamma=1.0, kernel=rbf; total time=  13.5s\n",
      "[CV] END .......................C=3.0, gamma=1.0, kernel=rbf; total time=  13.6s\n",
      "[CV] END .......................C=3.0, gamma=1.0, kernel=rbf; total time=  13.1s\n",
      "[CV] END .......................C=3.0, gamma=3.0, kernel=rbf; total time=  14.2s\n",
      "[CV] END .......................C=3.0, gamma=3.0, kernel=rbf; total time=  14.0s\n",
      "[CV] END .......................C=3.0, gamma=3.0, kernel=rbf; total time=  14.2s\n",
      "[CV] END .......................C=3.0, gamma=3.0, kernel=rbf; total time=  14.3s\n",
      "[CV] END .......................C=3.0, gamma=3.0, kernel=rbf; total time=  14.4s\n",
      "[CV] END .....................C=10.0, gamma=0.01, kernel=rbf; total time=  14.7s\n",
      "[CV] END .....................C=10.0, gamma=0.01, kernel=rbf; total time=  16.2s\n",
      "[CV] END .....................C=10.0, gamma=0.01, kernel=rbf; total time=  14.0s\n",
      "[CV] END .....................C=10.0, gamma=0.01, kernel=rbf; total time=  14.4s\n",
      "[CV] END .....................C=10.0, gamma=0.01, kernel=rbf; total time=  14.3s\n",
      "[CV] END .....................C=10.0, gamma=0.03, kernel=rbf; total time=  14.3s\n",
      "[CV] END .....................C=10.0, gamma=0.03, kernel=rbf; total time=  14.7s\n",
      "[CV] END .....................C=10.0, gamma=0.03, kernel=rbf; total time=  14.2s\n",
      "[CV] END .....................C=10.0, gamma=0.03, kernel=rbf; total time=  14.2s\n",
      "[CV] END .....................C=10.0, gamma=0.03, kernel=rbf; total time=  14.7s\n",
      "[CV] END ......................C=10.0, gamma=0.1, kernel=rbf; total time=  14.3s\n",
      "[CV] END ......................C=10.0, gamma=0.1, kernel=rbf; total time=  14.2s\n",
      "[CV] END ......................C=10.0, gamma=0.1, kernel=rbf; total time=  14.2s\n",
      "[CV] END ......................C=10.0, gamma=0.1, kernel=rbf; total time=  14.4s\n",
      "[CV] END ......................C=10.0, gamma=0.1, kernel=rbf; total time=  14.0s\n",
      "[CV] END ......................C=10.0, gamma=0.3, kernel=rbf; total time=  13.9s\n",
      "[CV] END ......................C=10.0, gamma=0.3, kernel=rbf; total time=  13.7s\n",
      "[CV] END ......................C=10.0, gamma=0.3, kernel=rbf; total time=  13.9s\n",
      "[CV] END ......................C=10.0, gamma=0.3, kernel=rbf; total time=  13.7s\n",
      "[CV] END ......................C=10.0, gamma=0.3, kernel=rbf; total time=  14.0s\n",
      "[CV] END ......................C=10.0, gamma=1.0, kernel=rbf; total time=  13.4s\n",
      "[CV] END ......................C=10.0, gamma=1.0, kernel=rbf; total time=  13.5s\n",
      "[CV] END ......................C=10.0, gamma=1.0, kernel=rbf; total time=  13.5s\n",
      "[CV] END ......................C=10.0, gamma=1.0, kernel=rbf; total time=  13.9s\n",
      "[CV] END ......................C=10.0, gamma=1.0, kernel=rbf; total time=  13.5s\n",
      "[CV] END ......................C=10.0, gamma=3.0, kernel=rbf; total time=  14.2s\n",
      "[CV] END ......................C=10.0, gamma=3.0, kernel=rbf; total time=  14.3s\n",
      "[CV] END ......................C=10.0, gamma=3.0, kernel=rbf; total time=  14.4s\n",
      "[CV] END ......................C=10.0, gamma=3.0, kernel=rbf; total time=  14.0s\n",
      "[CV] END ......................C=10.0, gamma=3.0, kernel=rbf; total time=  14.1s\n",
      "[CV] END .....................C=30.0, gamma=0.01, kernel=rbf; total time=  14.3s\n",
      "[CV] END .....................C=30.0, gamma=0.01, kernel=rbf; total time=  14.5s\n",
      "[CV] END .....................C=30.0, gamma=0.01, kernel=rbf; total time=  14.6s\n",
      "[CV] END .....................C=30.0, gamma=0.01, kernel=rbf; total time=  14.2s\n",
      "[CV] END .....................C=30.0, gamma=0.01, kernel=rbf; total time=  14.6s\n",
      "[CV] END .....................C=30.0, gamma=0.03, kernel=rbf; total time=  14.8s\n",
      "[CV] END .....................C=30.0, gamma=0.03, kernel=rbf; total time=  14.7s\n",
      "[CV] END .....................C=30.0, gamma=0.03, kernel=rbf; total time=  14.6s\n",
      "[CV] END .....................C=30.0, gamma=0.03, kernel=rbf; total time=  14.3s\n",
      "[CV] END .....................C=30.0, gamma=0.03, kernel=rbf; total time=  14.9s\n",
      "[CV] END ......................C=30.0, gamma=0.1, kernel=rbf; total time=  14.4s\n",
      "[CV] END ......................C=30.0, gamma=0.1, kernel=rbf; total time=  14.2s\n",
      "[CV] END ......................C=30.0, gamma=0.1, kernel=rbf; total time=  14.1s\n",
      "[CV] END ......................C=30.0, gamma=0.1, kernel=rbf; total time=  14.2s\n",
      "[CV] END ......................C=30.0, gamma=0.1, kernel=rbf; total time=  14.2s\n",
      "[CV] END ......................C=30.0, gamma=0.3, kernel=rbf; total time=  13.4s\n",
      "[CV] END ......................C=30.0, gamma=0.3, kernel=rbf; total time=  13.8s\n",
      "[CV] END ......................C=30.0, gamma=0.3, kernel=rbf; total time=  13.5s\n",
      "[CV] END ......................C=30.0, gamma=0.3, kernel=rbf; total time=  13.7s\n",
      "[CV] END ......................C=30.0, gamma=0.3, kernel=rbf; total time=  13.7s\n",
      "[CV] END ......................C=30.0, gamma=1.0, kernel=rbf; total time=  13.5s\n",
      "[CV] END ......................C=30.0, gamma=1.0, kernel=rbf; total time=  13.4s\n",
      "[CV] END ......................C=30.0, gamma=1.0, kernel=rbf; total time=  13.5s\n",
      "[CV] END ......................C=30.0, gamma=1.0, kernel=rbf; total time=  13.5s\n",
      "[CV] END ......................C=30.0, gamma=1.0, kernel=rbf; total time=  13.6s\n",
      "[CV] END ......................C=30.0, gamma=3.0, kernel=rbf; total time=  14.2s\n",
      "[CV] END ......................C=30.0, gamma=3.0, kernel=rbf; total time=  14.2s\n",
      "[CV] END ......................C=30.0, gamma=3.0, kernel=rbf; total time=  14.5s\n",
      "[CV] END ......................C=30.0, gamma=3.0, kernel=rbf; total time=  14.3s\n",
      "[CV] END ......................C=30.0, gamma=3.0, kernel=rbf; total time=  14.2s\n",
      "[CV] END ....................C=100.0, gamma=0.01, kernel=rbf; total time=  14.4s\n",
      "[CV] END ....................C=100.0, gamma=0.01, kernel=rbf; total time=  14.1s\n",
      "[CV] END ....................C=100.0, gamma=0.01, kernel=rbf; total time=  14.4s\n",
      "[CV] END ....................C=100.0, gamma=0.01, kernel=rbf; total time=  14.5s\n",
      "[CV] END ....................C=100.0, gamma=0.01, kernel=rbf; total time=  14.5s\n",
      "[CV] END ....................C=100.0, gamma=0.03, kernel=rbf; total time=  14.7s\n",
      "[CV] END ....................C=100.0, gamma=0.03, kernel=rbf; total time=  14.6s\n",
      "[CV] END ....................C=100.0, gamma=0.03, kernel=rbf; total time=  14.2s\n",
      "[CV] END ....................C=100.0, gamma=0.03, kernel=rbf; total time=  14.1s\n",
      "[CV] END ....................C=100.0, gamma=0.03, kernel=rbf; total time=  14.7s\n",
      "[CV] END .....................C=100.0, gamma=0.1, kernel=rbf; total time=  14.1s\n",
      "[CV] END .....................C=100.0, gamma=0.1, kernel=rbf; total time=  13.9s\n",
      "[CV] END .....................C=100.0, gamma=0.1, kernel=rbf; total time=  13.5s\n",
      "[CV] END .....................C=100.0, gamma=0.1, kernel=rbf; total time=  13.8s\n",
      "[CV] END .....................C=100.0, gamma=0.1, kernel=rbf; total time=  14.0s\n",
      "[CV] END .....................C=100.0, gamma=0.3, kernel=rbf; total time=  13.6s\n",
      "[CV] END .....................C=100.0, gamma=0.3, kernel=rbf; total time=  13.7s\n",
      "[CV] END .....................C=100.0, gamma=0.3, kernel=rbf; total time=  13.4s\n",
      "[CV] END .....................C=100.0, gamma=0.3, kernel=rbf; total time=  13.5s\n",
      "[CV] END .....................C=100.0, gamma=0.3, kernel=rbf; total time=  13.5s\n",
      "[CV] END .....................C=100.0, gamma=1.0, kernel=rbf; total time=  13.2s\n",
      "[CV] END .....................C=100.0, gamma=1.0, kernel=rbf; total time=  13.4s\n",
      "[CV] END .....................C=100.0, gamma=1.0, kernel=rbf; total time=  13.2s\n",
      "[CV] END .....................C=100.0, gamma=1.0, kernel=rbf; total time=  13.1s\n",
      "[CV] END .....................C=100.0, gamma=1.0, kernel=rbf; total time=  13.4s\n",
      "[CV] END .....................C=100.0, gamma=3.0, kernel=rbf; total time=  13.8s\n",
      "[CV] END .....................C=100.0, gamma=3.0, kernel=rbf; total time=  13.9s\n",
      "[CV] END .....................C=100.0, gamma=3.0, kernel=rbf; total time=  14.0s\n",
      "[CV] END .....................C=100.0, gamma=3.0, kernel=rbf; total time=  14.0s\n",
      "[CV] END .....................C=100.0, gamma=3.0, kernel=rbf; total time=  14.1s\n",
      "[CV] END ....................C=300.0, gamma=0.01, kernel=rbf; total time=  14.3s\n",
      "[CV] END ....................C=300.0, gamma=0.01, kernel=rbf; total time=  14.4s\n",
      "[CV] END ....................C=300.0, gamma=0.01, kernel=rbf; total time=  14.2s\n",
      "[CV] END ....................C=300.0, gamma=0.01, kernel=rbf; total time=  14.3s\n",
      "[CV] END ....................C=300.0, gamma=0.01, kernel=rbf; total time=  14.3s\n",
      "[CV] END ....................C=300.0, gamma=0.03, kernel=rbf; total time=  14.0s\n",
      "[CV] END ....................C=300.0, gamma=0.03, kernel=rbf; total time=  13.6s\n",
      "[CV] END ....................C=300.0, gamma=0.03, kernel=rbf; total time=  14.1s\n",
      "[CV] END ....................C=300.0, gamma=0.03, kernel=rbf; total time=  14.1s\n",
      "[CV] END ....................C=300.0, gamma=0.03, kernel=rbf; total time=  14.5s\n",
      "[CV] END .....................C=300.0, gamma=0.1, kernel=rbf; total time=  13.8s\n",
      "[CV] END .....................C=300.0, gamma=0.1, kernel=rbf; total time=  13.7s\n",
      "[CV] END .....................C=300.0, gamma=0.1, kernel=rbf; total time=  13.5s\n",
      "[CV] END .....................C=300.0, gamma=0.1, kernel=rbf; total time=  13.9s\n",
      "[CV] END .....................C=300.0, gamma=0.1, kernel=rbf; total time=  13.7s\n",
      "[CV] END .....................C=300.0, gamma=0.3, kernel=rbf; total time=  14.2s\n",
      "[CV] END .....................C=300.0, gamma=0.3, kernel=rbf; total time=  13.8s\n",
      "[CV] END .....................C=300.0, gamma=0.3, kernel=rbf; total time=  13.7s\n",
      "[CV] END .....................C=300.0, gamma=0.3, kernel=rbf; total time=  13.8s\n",
      "[CV] END .....................C=300.0, gamma=0.3, kernel=rbf; total time=  13.7s\n",
      "[CV] END .....................C=300.0, gamma=1.0, kernel=rbf; total time=  13.1s\n",
      "[CV] END .....................C=300.0, gamma=1.0, kernel=rbf; total time=  13.3s\n",
      "[CV] END .....................C=300.0, gamma=1.0, kernel=rbf; total time=  13.9s\n",
      "[CV] END .....................C=300.0, gamma=1.0, kernel=rbf; total time=  13.7s\n",
      "[CV] END .....................C=300.0, gamma=1.0, kernel=rbf; total time=  14.0s\n",
      "[CV] END .....................C=300.0, gamma=3.0, kernel=rbf; total time=  14.8s\n",
      "[CV] END .....................C=300.0, gamma=3.0, kernel=rbf; total time=  14.6s\n",
      "[CV] END .....................C=300.0, gamma=3.0, kernel=rbf; total time=  14.7s\n",
      "[CV] END .....................C=300.0, gamma=3.0, kernel=rbf; total time=  14.9s\n",
      "[CV] END .....................C=300.0, gamma=3.0, kernel=rbf; total time=  14.7s\n",
      "[CV] END ...................C=1000.0, gamma=0.01, kernel=rbf; total time=  14.3s\n",
      "[CV] END ...................C=1000.0, gamma=0.01, kernel=rbf; total time=  14.4s\n",
      "[CV] END ...................C=1000.0, gamma=0.01, kernel=rbf; total time=  14.7s\n",
      "[CV] END ...................C=1000.0, gamma=0.01, kernel=rbf; total time=  14.6s\n",
      "[CV] END ...................C=1000.0, gamma=0.01, kernel=rbf; total time=  14.3s\n",
      "[CV] END ...................C=1000.0, gamma=0.03, kernel=rbf; total time=  14.1s\n",
      "[CV] END ...................C=1000.0, gamma=0.03, kernel=rbf; total time=  14.3s\n",
      "[CV] END ...................C=1000.0, gamma=0.03, kernel=rbf; total time=  14.8s\n",
      "[CV] END ...................C=1000.0, gamma=0.03, kernel=rbf; total time=  14.1s\n",
      "[CV] END ...................C=1000.0, gamma=0.03, kernel=rbf; total time=  14.3s\n",
      "[CV] END ....................C=1000.0, gamma=0.1, kernel=rbf; total time=  13.9s\n",
      "[CV] END ....................C=1000.0, gamma=0.1, kernel=rbf; total time=  13.9s\n",
      "[CV] END ....................C=1000.0, gamma=0.1, kernel=rbf; total time=  13.6s\n",
      "[CV] END ....................C=1000.0, gamma=0.1, kernel=rbf; total time=  13.8s\n",
      "[CV] END ....................C=1000.0, gamma=0.1, kernel=rbf; total time=  13.8s\n",
      "[CV] END ....................C=1000.0, gamma=0.3, kernel=rbf; total time=  13.6s\n",
      "[CV] END ....................C=1000.0, gamma=0.3, kernel=rbf; total time=  13.5s\n",
      "[CV] END ....................C=1000.0, gamma=0.3, kernel=rbf; total time=  13.5s\n",
      "[CV] END ....................C=1000.0, gamma=0.3, kernel=rbf; total time=  13.7s\n",
      "[CV] END ....................C=1000.0, gamma=0.3, kernel=rbf; total time=  13.8s\n",
      "[CV] END ....................C=1000.0, gamma=1.0, kernel=rbf; total time=  13.4s\n",
      "[CV] END ....................C=1000.0, gamma=1.0, kernel=rbf; total time=  13.5s\n",
      "[CV] END ....................C=1000.0, gamma=1.0, kernel=rbf; total time=  12.9s\n",
      "[CV] END ....................C=1000.0, gamma=1.0, kernel=rbf; total time=  13.1s\n",
      "[CV] END ....................C=1000.0, gamma=1.0, kernel=rbf; total time=  13.1s\n",
      "[CV] END ....................C=1000.0, gamma=3.0, kernel=rbf; total time=  14.3s\n",
      "[CV] END ....................C=1000.0, gamma=3.0, kernel=rbf; total time=  14.5s\n",
      "[CV] END ....................C=1000.0, gamma=3.0, kernel=rbf; total time=  14.5s\n",
      "[CV] END ....................C=1000.0, gamma=3.0, kernel=rbf; total time=  14.7s\n",
      "[CV] END ....................C=1000.0, gamma=3.0, kernel=rbf; total time=  14.3s\n"
     ]
    },
    {
     "data": {
      "text/plain": [
       "GridSearchCV(cv=5, estimator=SVR(),\n",
       "             param_grid=[{'C': [10.0, 30.0, 100.0, 300.0, 1000.0, 3000.0,\n",
       "                                10000.0, 30000.0],\n",
       "                          'kernel': ['linear']},\n",
       "                         {'C': [1.0, 3.0, 10.0, 30.0, 100.0, 300.0, 1000.0],\n",
       "                          'gamma': [0.01, 0.03, 0.1, 0.3, 1.0, 3.0],\n",
       "                          'kernel': ['rbf']}],\n",
       "             scoring='neg_mean_squared_error', verbose=2)"
      ]
     },
     "execution_count": 116,
     "metadata": {},
     "output_type": "execute_result"
    }
   ],
   "source": [
    "from sklearn.model_selection import GridSearchCV\n",
    "\n",
    "param_grid = [\n",
    "        {'kernel': ['linear'], 'C': [10., 30., 100., 300., 1000., 3000., 10000., 30000.0]},\n",
    "        {'kernel': ['rbf'], 'C': [1.0, 3.0, 10., 30., 100., 300., 1000.0],\n",
    "         'gamma': [0.01, 0.03, 0.1, 0.3, 1.0, 3.0]},\n",
    "    ]\n",
    "\n",
    "svm_reg = SVR()\n",
    "grid_search = GridSearchCV(svm_reg, param_grid, cv=5, scoring='neg_mean_squared_error', verbose=2)\n",
    "grid_search.fit(housing_prepared, housing_labels)"
   ]
  },
  {
   "cell_type": "markdown",
   "metadata": {},
   "source": [
    "최상 모델의 (5-폴드 교차 검증으로 평가한) 점수는 다음과 같습니다:"
   ]
  },
  {
   "cell_type": "code",
   "execution_count": 117,
   "metadata": {},
   "outputs": [
    {
     "data": {
      "text/plain": [
       "70363.8400667152"
      ]
     },
     "execution_count": 117,
     "metadata": {},
     "output_type": "execute_result"
    }
   ],
   "source": [
    "negative_mse = grid_search.best_score_\n",
    "rmse = np.sqrt(-negative_mse)\n",
    "rmse"
   ]
  },
  {
   "cell_type": "markdown",
   "metadata": {},
   "source": [
    "`RandomForestRegressor`보다 훨씬 좋지 않네요. 최상의 하이퍼파라미터를 확인해 보겠습니다:"
   ]
  },
  {
   "cell_type": "code",
   "execution_count": 118,
   "metadata": {},
   "outputs": [
    {
     "data": {
      "text/plain": [
       "{'C': 30000.0, 'kernel': 'linear'}"
      ]
     },
     "execution_count": 118,
     "metadata": {},
     "output_type": "execute_result"
    }
   ],
   "source": [
    "grid_search.best_params_"
   ]
  },
  {
   "cell_type": "markdown",
   "metadata": {},
   "source": [
    "선형 커널이 RBF 커널보다 성능이 나은 것 같습니다. `C`는 테스트한 것 중에 최대값이 선택되었습니다. 따라서 (작은 값들은 지우고) 더 큰 값의 `C`로 그리드서치를 다시 실행해 보아야 합니다. 아마도 더 큰 값의 `C`에서 성능이 높아질 것입니다."
   ]
  },
  {
   "cell_type": "markdown",
   "metadata": {},
   "source": [
    "## 2."
   ]
  },
  {
   "cell_type": "markdown",
   "metadata": {},
   "source": [
    "질문: `GridSearchCV`를 `RandomizedSearchCV`로 바꿔보세요.\n",
    "\n",
    "**경고**: 사용하는 하드웨어에 따라 다음 셀을 실행하는데 45분 또는 그 이상 걸릴 수 있습니다."
   ]
  },
  {
   "cell_type": "code",
   "execution_count": 119,
   "metadata": {
    "collapsed": true,
    "jupyter": {
     "outputs_hidden": true
    },
    "tags": []
   },
   "outputs": [
    {
     "name": "stdout",
     "output_type": "stream",
     "text": [
      "Fitting 5 folds for each of 50 candidates, totalling 250 fits\n",
      "[CV] END C=629.782329591372, gamma=3.010121430917521, kernel=linear; total time=   7.6s\n",
      "[CV] END C=629.782329591372, gamma=3.010121430917521, kernel=linear; total time=   7.5s\n",
      "[CV] END C=629.782329591372, gamma=3.010121430917521, kernel=linear; total time=   8.1s\n",
      "[CV] END C=629.782329591372, gamma=3.010121430917521, kernel=linear; total time=   7.4s\n",
      "[CV] END C=629.782329591372, gamma=3.010121430917521, kernel=linear; total time=   7.4s\n",
      "[CV] END C=26290.206464300216, gamma=0.9084469696321253, kernel=rbf; total time=  14.5s\n",
      "[CV] END C=26290.206464300216, gamma=0.9084469696321253, kernel=rbf; total time=  15.0s\n",
      "[CV] END C=26290.206464300216, gamma=0.9084469696321253, kernel=rbf; total time=  14.6s\n",
      "[CV] END C=26290.206464300216, gamma=0.9084469696321253, kernel=rbf; total time=  14.8s\n",
      "[CV] END C=26290.206464300216, gamma=0.9084469696321253, kernel=rbf; total time=  15.0s\n",
      "[CV] END C=84.14107900575871, gamma=0.059838768608680676, kernel=rbf; total time=  13.4s\n",
      "[CV] END C=84.14107900575871, gamma=0.059838768608680676, kernel=rbf; total time=  13.6s\n",
      "[CV] END C=84.14107900575871, gamma=0.059838768608680676, kernel=rbf; total time=  13.3s\n",
      "[CV] END C=84.14107900575871, gamma=0.059838768608680676, kernel=rbf; total time=  13.2s\n",
      "[CV] END C=84.14107900575871, gamma=0.059838768608680676, kernel=rbf; total time=  13.6s\n",
      "[CV] END C=432.37884813148855, gamma=0.15416196746656105, kernel=linear; total time=   8.1s\n",
      "[CV] END C=432.37884813148855, gamma=0.15416196746656105, kernel=linear; total time=   7.5s\n",
      "[CV] END C=432.37884813148855, gamma=0.15416196746656105, kernel=linear; total time=   7.3s\n",
      "[CV] END C=432.37884813148855, gamma=0.15416196746656105, kernel=linear; total time=   7.3s\n",
      "[CV] END C=432.37884813148855, gamma=0.15416196746656105, kernel=linear; total time=   7.5s\n",
      "[CV] END C=24.17508294611391, gamma=3.503557475158312, kernel=rbf; total time=  13.8s\n",
      "[CV] END C=24.17508294611391, gamma=3.503557475158312, kernel=rbf; total time=  14.1s\n",
      "[CV] END C=24.17508294611391, gamma=3.503557475158312, kernel=rbf; total time=  14.1s\n",
      "[CV] END C=24.17508294611391, gamma=3.503557475158312, kernel=rbf; total time=  14.1s\n",
      "[CV] END C=24.17508294611391, gamma=3.503557475158312, kernel=rbf; total time=  13.9s\n",
      "[CV] END C=113564.03940586245, gamma=0.0007790692366582295, kernel=rbf; total time=  13.4s\n",
      "[CV] END C=113564.03940586245, gamma=0.0007790692366582295, kernel=rbf; total time=  13.3s\n",
      "[CV] END C=113564.03940586245, gamma=0.0007790692366582295, kernel=rbf; total time=  13.2s\n",
      "[CV] END C=113564.03940586245, gamma=0.0007790692366582295, kernel=rbf; total time=  13.4s\n",
      "[CV] END C=113564.03940586245, gamma=0.0007790692366582295, kernel=rbf; total time=  13.3s\n",
      "[CV] END C=108.30488238805073, gamma=0.3627537294604771, kernel=rbf; total time=  13.4s\n",
      "[CV] END C=108.30488238805073, gamma=0.3627537294604771, kernel=rbf; total time=  13.0s\n",
      "[CV] END C=108.30488238805073, gamma=0.3627537294604771, kernel=rbf; total time=  13.0s\n",
      "[CV] END C=108.30488238805073, gamma=0.3627537294604771, kernel=rbf; total time=  13.0s\n",
      "[CV] END C=108.30488238805073, gamma=0.3627537294604771, kernel=rbf; total time=  13.2s\n",
      "[CV] END C=21.344953672647435, gamma=0.023332523598323388, kernel=linear; total time=   7.5s\n",
      "[CV] END C=21.344953672647435, gamma=0.023332523598323388, kernel=linear; total time=   7.5s\n",
      "[CV] END C=21.344953672647435, gamma=0.023332523598323388, kernel=linear; total time=   7.3s\n",
      "[CV] END C=21.344953672647435, gamma=0.023332523598323388, kernel=linear; total time=   7.2s\n",
      "[CV] END C=21.344953672647435, gamma=0.023332523598323388, kernel=linear; total time=   7.3s\n",
      "[CV] END C=5603.270317432516, gamma=0.15023452872733867, kernel=rbf; total time=  13.1s\n",
      "[CV] END C=5603.270317432516, gamma=0.15023452872733867, kernel=rbf; total time=  12.8s\n",
      "[CV] END C=5603.270317432516, gamma=0.15023452872733867, kernel=rbf; total time=  12.9s\n",
      "[CV] END C=5603.270317432516, gamma=0.15023452872733867, kernel=rbf; total time=  13.0s\n",
      "[CV] END C=5603.270317432516, gamma=0.15023452872733867, kernel=rbf; total time=  13.0s\n",
      "[CV] END C=157055.10989448498, gamma=0.26497040005002437, kernel=rbf; total time=  24.3s\n",
      "[CV] END C=157055.10989448498, gamma=0.26497040005002437, kernel=rbf; total time=  25.5s\n",
      "[CV] END C=157055.10989448498, gamma=0.26497040005002437, kernel=rbf; total time=  28.5s\n",
      "[CV] END C=157055.10989448498, gamma=0.26497040005002437, kernel=rbf; total time=  23.8s\n",
      "[CV] END C=157055.10989448498, gamma=0.26497040005002437, kernel=rbf; total time=  26.0s\n",
      "[CV] END C=27652.464358739708, gamma=0.2227358621286903, kernel=linear; total time=  13.0s\n",
      "[CV] END C=27652.464358739708, gamma=0.2227358621286903, kernel=linear; total time=  13.3s\n",
      "[CV] END C=27652.464358739708, gamma=0.2227358621286903, kernel=linear; total time=  13.0s\n",
      "[CV] END C=27652.464358739708, gamma=0.2227358621286903, kernel=linear; total time=  13.7s\n",
      "[CV] END C=27652.464358739708, gamma=0.2227358621286903, kernel=linear; total time=  12.7s\n",
      "[CV] END C=171377.39570378003, gamma=0.628789100540856, kernel=linear; total time=  38.9s\n",
      "[CV] END C=171377.39570378003, gamma=0.628789100540856, kernel=linear; total time=  35.5s\n",
      "[CV] END C=171377.39570378003, gamma=0.628789100540856, kernel=linear; total time=  42.5s\n",
      "[CV] END C=171377.39570378003, gamma=0.628789100540856, kernel=linear; total time=  40.2s\n",
      "[CV] END C=171377.39570378003, gamma=0.628789100540856, kernel=linear; total time=  31.2s\n",
      "[CV] END C=5385.293820172355, gamma=0.18696125197741642, kernel=linear; total time=   8.7s\n",
      "[CV] END C=5385.293820172355, gamma=0.18696125197741642, kernel=linear; total time=   8.5s\n",
      "[CV] END C=5385.293820172355, gamma=0.18696125197741642, kernel=linear; total time=   8.5s\n",
      "[CV] END C=5385.293820172355, gamma=0.18696125197741642, kernel=linear; total time=   8.4s\n",
      "[CV] END C=5385.293820172355, gamma=0.18696125197741642, kernel=linear; total time=   8.3s\n",
      "[CV] END C=22.59903216621323, gamma=2.850796878935603, kernel=rbf; total time=  13.4s\n",
      "[CV] END C=22.59903216621323, gamma=2.850796878935603, kernel=rbf; total time=  13.5s\n",
      "[CV] END C=22.59903216621323, gamma=2.850796878935603, kernel=rbf; total time=  13.5s\n",
      "[CV] END C=22.59903216621323, gamma=2.850796878935603, kernel=rbf; total time=  13.7s\n",
      "[CV] END C=22.59903216621323, gamma=2.850796878935603, kernel=rbf; total time=  13.7s\n",
      "[CV] END C=34246.75194632794, gamma=0.3632878599687583, kernel=linear; total time=  14.1s\n",
      "[CV] END C=34246.75194632794, gamma=0.3632878599687583, kernel=linear; total time=  14.4s\n",
      "[CV] END C=34246.75194632794, gamma=0.3632878599687583, kernel=linear; total time=  14.9s\n",
      "[CV] END C=34246.75194632794, gamma=0.3632878599687583, kernel=linear; total time=  13.6s\n",
      "[CV] END C=34246.75194632794, gamma=0.3632878599687583, kernel=linear; total time=  13.8s\n",
      "[CV] END C=167.7278956080511, gamma=0.2757870542258224, kernel=rbf; total time=  13.1s\n",
      "[CV] END C=167.7278956080511, gamma=0.2757870542258224, kernel=rbf; total time=  13.3s\n",
      "[CV] END C=167.7278956080511, gamma=0.2757870542258224, kernel=rbf; total time=  13.2s\n",
      "[CV] END C=167.7278956080511, gamma=0.2757870542258224, kernel=rbf; total time=  13.0s\n",
      "[CV] END C=167.7278956080511, gamma=0.2757870542258224, kernel=rbf; total time=  13.0s\n",
      "[CV] END C=61.54360542501371, gamma=0.6835472281341501, kernel=linear; total time=   7.3s\n",
      "[CV] END C=61.54360542501371, gamma=0.6835472281341501, kernel=linear; total time=   7.4s\n",
      "[CV] END C=61.54360542501371, gamma=0.6835472281341501, kernel=linear; total time=   7.4s\n",
      "[CV] END C=61.54360542501371, gamma=0.6835472281341501, kernel=linear; total time=   7.3s\n",
      "[CV] END C=61.54360542501371, gamma=0.6835472281341501, kernel=linear; total time=   7.1s\n",
      "[CV] END C=98.73897389920914, gamma=0.4960365360493639, kernel=rbf; total time=  12.9s\n",
      "[CV] END C=98.73897389920914, gamma=0.4960365360493639, kernel=rbf; total time=  13.0s\n",
      "[CV] END C=98.73897389920914, gamma=0.4960365360493639, kernel=rbf; total time=  12.8s\n",
      "[CV] END C=98.73897389920914, gamma=0.4960365360493639, kernel=rbf; total time=  13.1s\n",
      "[CV] END C=98.73897389920914, gamma=0.4960365360493639, kernel=rbf; total time=  13.1s\n",
      "[CV] END C=8935.505635947808, gamma=0.37354658165762367, kernel=rbf; total time=  13.3s\n",
      "[CV] END C=8935.505635947808, gamma=0.37354658165762367, kernel=rbf; total time=  12.9s\n",
      "[CV] END C=8935.505635947808, gamma=0.37354658165762367, kernel=rbf; total time=  12.8s\n",
      "[CV] END C=8935.505635947808, gamma=0.37354658165762367, kernel=rbf; total time=  12.7s\n",
      "[CV] END C=8935.505635947808, gamma=0.37354658165762367, kernel=rbf; total time=  12.8s\n",
      "[CV] END C=135.76775824842434, gamma=0.838636245624803, kernel=linear; total time=   7.3s\n",
      "[CV] END C=135.76775824842434, gamma=0.838636245624803, kernel=linear; total time=   7.3s\n",
      "[CV] END C=135.76775824842434, gamma=0.838636245624803, kernel=linear; total time=   7.3s\n",
      "[CV] END C=135.76775824842434, gamma=0.838636245624803, kernel=linear; total time=   7.4s\n",
      "[CV] END C=135.76775824842434, gamma=0.838636245624803, kernel=linear; total time=   7.2s\n",
      "[CV] END C=151136.20282548846, gamma=1.4922453771381408, kernel=rbf; total time= 2.8min\n",
      "[CV] END C=151136.20282548846, gamma=1.4922453771381408, kernel=rbf; total time= 2.1min\n",
      "[CV] END C=151136.20282548846, gamma=1.4922453771381408, kernel=rbf; total time= 1.9min\n",
      "[CV] END C=151136.20282548846, gamma=1.4922453771381408, kernel=rbf; total time= 2.4min\n",
      "[CV] END C=151136.20282548846, gamma=1.4922453771381408, kernel=rbf; total time= 2.4min\n",
      "[CV] END C=761.4316758498783, gamma=2.6126336514161914, kernel=linear; total time=   7.4s\n",
      "[CV] END C=761.4316758498783, gamma=2.6126336514161914, kernel=linear; total time=   7.5s\n",
      "[CV] END C=761.4316758498783, gamma=2.6126336514161914, kernel=linear; total time=   7.6s\n",
      "[CV] END C=761.4316758498783, gamma=2.6126336514161914, kernel=linear; total time=   7.5s\n",
      "[CV] END C=761.4316758498783, gamma=2.6126336514161914, kernel=linear; total time=   7.5s\n",
      "[CV] END C=97392.81883041795, gamma=0.09265545895311562, kernel=linear; total time=  27.4s\n",
      "[CV] END C=97392.81883041795, gamma=0.09265545895311562, kernel=linear; total time=  25.6s\n",
      "[CV] END C=97392.81883041795, gamma=0.09265545895311562, kernel=linear; total time=  42.5s\n",
      "[CV] END C=97392.81883041795, gamma=0.09265545895311562, kernel=linear; total time=  26.2s\n",
      "[CV] END C=97392.81883041795, gamma=0.09265545895311562, kernel=linear; total time=  23.2s\n",
      "[CV] END C=2423.0759984939164, gamma=3.248614270240346, kernel=linear; total time=   8.4s\n",
      "[CV] END C=2423.0759984939164, gamma=3.248614270240346, kernel=linear; total time=   7.9s\n",
      "[CV] END C=2423.0759984939164, gamma=3.248614270240346, kernel=linear; total time=   7.9s\n",
      "[CV] END C=2423.0759984939164, gamma=3.248614270240346, kernel=linear; total time=   8.5s\n",
      "[CV] END C=2423.0759984939164, gamma=3.248614270240346, kernel=linear; total time=   7.7s\n",
      "[CV] END C=717.3632997255095, gamma=0.3165604432088257, kernel=linear; total time=   7.4s\n",
      "[CV] END C=717.3632997255095, gamma=0.3165604432088257, kernel=linear; total time=   7.5s\n",
      "[CV] END C=717.3632997255095, gamma=0.3165604432088257, kernel=linear; total time=   7.7s\n",
      "[CV] END C=717.3632997255095, gamma=0.3165604432088257, kernel=linear; total time=   7.9s\n",
      "[CV] END C=717.3632997255095, gamma=0.3165604432088257, kernel=linear; total time=   8.4s\n",
      "[CV] END C=4446.667521184072, gamma=3.3597284456608496, kernel=rbf; total time=  14.0s\n",
      "[CV] END C=4446.667521184072, gamma=3.3597284456608496, kernel=rbf; total time=  14.1s\n",
      "[CV] END C=4446.667521184072, gamma=3.3597284456608496, kernel=rbf; total time=  14.3s\n",
      "[CV] END C=4446.667521184072, gamma=3.3597284456608496, kernel=rbf; total time=  14.6s\n",
      "[CV] END C=4446.667521184072, gamma=3.3597284456608496, kernel=rbf; total time=  14.3s\n",
      "[CV] END C=2963.564121207815, gamma=0.15189814782062885, kernel=linear; total time=   7.9s\n",
      "[CV] END C=2963.564121207815, gamma=0.15189814782062885, kernel=linear; total time=   8.2s\n",
      "[CV] END C=2963.564121207815, gamma=0.15189814782062885, kernel=linear; total time=   8.4s\n",
      "[CV] END C=2963.564121207815, gamma=0.15189814782062885, kernel=linear; total time=   7.9s\n",
      "[CV] END C=2963.564121207815, gamma=0.15189814782062885, kernel=linear; total time=   7.9s\n",
      "[CV] END C=91.64267381686706, gamma=0.01575994483585621, kernel=linear; total time=   7.4s\n",
      "[CV] END C=91.64267381686706, gamma=0.01575994483585621, kernel=linear; total time=   7.6s\n",
      "[CV] END C=91.64267381686706, gamma=0.01575994483585621, kernel=linear; total time=   7.5s\n",
      "[CV] END C=91.64267381686706, gamma=0.01575994483585621, kernel=linear; total time=   7.7s\n",
      "[CV] END C=91.64267381686706, gamma=0.01575994483585621, kernel=linear; total time=   7.3s\n",
      "[CV] END C=24547.601975705915, gamma=0.22153944050588595, kernel=rbf; total time=  13.3s\n",
      "[CV] END C=24547.601975705915, gamma=0.22153944050588595, kernel=rbf; total time=  13.4s\n",
      "[CV] END C=24547.601975705915, gamma=0.22153944050588595, kernel=rbf; total time=  13.4s\n",
      "[CV] END C=24547.601975705915, gamma=0.22153944050588595, kernel=rbf; total time=  13.1s\n",
      "[CV] END C=24547.601975705915, gamma=0.22153944050588595, kernel=rbf; total time=  13.4s\n",
      "[CV] END C=22.76927941060928, gamma=0.22169760231351215, kernel=rbf; total time=  13.8s\n",
      "[CV] END C=22.76927941060928, gamma=0.22169760231351215, kernel=rbf; total time=  13.5s\n",
      "[CV] END C=22.76927941060928, gamma=0.22169760231351215, kernel=rbf; total time=  13.4s\n",
      "[CV] END C=22.76927941060928, gamma=0.22169760231351215, kernel=rbf; total time=  13.2s\n",
      "[CV] END C=22.76927941060928, gamma=0.22169760231351215, kernel=rbf; total time=  13.3s\n",
      "[CV] END C=16483.850529752886, gamma=1.4752145260435134, kernel=linear; total time=  11.0s\n",
      "[CV] END C=16483.850529752886, gamma=1.4752145260435134, kernel=linear; total time=  11.1s\n",
      "[CV] END C=16483.850529752886, gamma=1.4752145260435134, kernel=linear; total time=  11.0s\n",
      "[CV] END C=16483.850529752886, gamma=1.4752145260435134, kernel=linear; total time=  11.2s\n",
      "[CV] END C=16483.850529752886, gamma=1.4752145260435134, kernel=linear; total time=  10.1s\n",
      "[CV] END C=101445.66881340064, gamma=1.052904084582266, kernel=rbf; total time=  51.2s\n",
      "[CV] END C=101445.66881340064, gamma=1.052904084582266, kernel=rbf; total time=  49.5s\n",
      "[CV] END C=101445.66881340064, gamma=1.052904084582266, kernel=rbf; total time= 1.0min\n",
      "[CV] END C=101445.66881340064, gamma=1.052904084582266, kernel=rbf; total time= 1.1min\n",
      "[CV] END C=101445.66881340064, gamma=1.052904084582266, kernel=rbf; total time=  54.4s\n",
      "[CV] END C=56681.80859029545, gamma=0.9763011917123741, kernel=rbf; total time=  21.6s\n",
      "[CV] END C=56681.80859029545, gamma=0.9763011917123741, kernel=rbf; total time=  21.2s\n",
      "[CV] END C=56681.80859029545, gamma=0.9763011917123741, kernel=rbf; total time=  21.3s\n",
      "[CV] END C=56681.80859029545, gamma=0.9763011917123741, kernel=rbf; total time=  23.2s\n",
      "[CV] END C=56681.80859029545, gamma=0.9763011917123741, kernel=rbf; total time=  23.0s\n",
      "[CV] END C=48.15822390928914, gamma=0.4633351167983427, kernel=rbf; total time=  13.2s\n",
      "[CV] END C=48.15822390928914, gamma=0.4633351167983427, kernel=rbf; total time=  13.2s\n",
      "[CV] END C=48.15822390928914, gamma=0.4633351167983427, kernel=rbf; total time=  13.3s\n",
      "[CV] END C=48.15822390928914, gamma=0.4633351167983427, kernel=rbf; total time=  13.3s\n",
      "[CV] END C=48.15822390928914, gamma=0.4633351167983427, kernel=rbf; total time=  13.2s\n",
      "[CV] END C=399.7268155705774, gamma=1.3078757839577408, kernel=rbf; total time=  13.3s\n",
      "[CV] END C=399.7268155705774, gamma=1.3078757839577408, kernel=rbf; total time=  13.0s\n",
      "[CV] END C=399.7268155705774, gamma=1.3078757839577408, kernel=rbf; total time=  13.1s\n",
      "[CV] END C=399.7268155705774, gamma=1.3078757839577408, kernel=rbf; total time=  12.9s\n",
      "[CV] END C=399.7268155705774, gamma=1.3078757839577408, kernel=rbf; total time=  12.9s\n",
      "[CV] END C=251.14073886281363, gamma=0.8238105204914145, kernel=linear; total time=   7.4s\n",
      "[CV] END C=251.14073886281363, gamma=0.8238105204914145, kernel=linear; total time=   7.4s\n",
      "[CV] END C=251.14073886281363, gamma=0.8238105204914145, kernel=linear; total time=   7.6s\n",
      "[CV] END C=251.14073886281363, gamma=0.8238105204914145, kernel=linear; total time=   7.4s\n",
      "[CV] END C=251.14073886281363, gamma=0.8238105204914145, kernel=linear; total time=   7.3s\n",
      "[CV] END C=60.17373642891687, gamma=1.2491263443165994, kernel=linear; total time=   7.3s\n",
      "[CV] END C=60.17373642891687, gamma=1.2491263443165994, kernel=linear; total time=   7.5s\n",
      "[CV] END C=60.17373642891687, gamma=1.2491263443165994, kernel=linear; total time=   7.4s\n",
      "[CV] END C=60.17373642891687, gamma=1.2491263443165994, kernel=linear; total time=   7.5s\n",
      "[CV] END C=60.17373642891687, gamma=1.2491263443165994, kernel=linear; total time=   7.3s\n",
      "[CV] END C=15415.161544891856, gamma=0.2691677514619319, kernel=rbf; total time=  13.0s\n",
      "[CV] END C=15415.161544891856, gamma=0.2691677514619319, kernel=rbf; total time=  13.2s\n",
      "[CV] END C=15415.161544891856, gamma=0.2691677514619319, kernel=rbf; total time=  13.2s\n",
      "[CV] END C=15415.161544891856, gamma=0.2691677514619319, kernel=rbf; total time=  13.1s\n",
      "[CV] END C=15415.161544891856, gamma=0.2691677514619319, kernel=rbf; total time=  13.1s\n",
      "[CV] END C=1888.9148509967113, gamma=0.739678838777267, kernel=linear; total time=   7.7s\n",
      "[CV] END C=1888.9148509967113, gamma=0.739678838777267, kernel=linear; total time=   7.8s\n",
      "[CV] END C=1888.9148509967113, gamma=0.739678838777267, kernel=linear; total time=   8.0s\n",
      "[CV] END C=1888.9148509967113, gamma=0.739678838777267, kernel=linear; total time=   7.7s\n",
      "[CV] END C=1888.9148509967113, gamma=0.739678838777267, kernel=linear; total time=   7.9s\n",
      "[CV] END C=55.53838911232773, gamma=0.578634378499143, kernel=linear; total time=   7.5s\n",
      "[CV] END C=55.53838911232773, gamma=0.578634378499143, kernel=linear; total time=   7.6s\n",
      "[CV] END C=55.53838911232773, gamma=0.578634378499143, kernel=linear; total time=   7.4s\n",
      "[CV] END C=55.53838911232773, gamma=0.578634378499143, kernel=linear; total time=   7.6s\n",
      "[CV] END C=55.53838911232773, gamma=0.578634378499143, kernel=linear; total time=   7.4s\n",
      "[CV] END C=26.714480823948186, gamma=1.0117295509275495, kernel=rbf; total time=  13.1s\n",
      "[CV] END C=26.714480823948186, gamma=1.0117295509275495, kernel=rbf; total time=  13.2s\n",
      "[CV] END C=26.714480823948186, gamma=1.0117295509275495, kernel=rbf; total time=  13.1s\n",
      "[CV] END C=26.714480823948186, gamma=1.0117295509275495, kernel=rbf; total time=  13.1s\n",
      "[CV] END C=26.714480823948186, gamma=1.0117295509275495, kernel=rbf; total time=  13.5s\n",
      "[CV] END C=3582.0552780489566, gamma=1.1891370222133257, kernel=linear; total time=   8.6s\n",
      "[CV] END C=3582.0552780489566, gamma=1.1891370222133257, kernel=linear; total time=   8.3s\n",
      "[CV] END C=3582.0552780489566, gamma=1.1891370222133257, kernel=linear; total time=   8.3s\n",
      "[CV] END C=3582.0552780489566, gamma=1.1891370222133257, kernel=linear; total time=   8.1s\n",
      "[CV] END C=3582.0552780489566, gamma=1.1891370222133257, kernel=linear; total time=   7.9s\n",
      "[CV] END C=198.7004781812736, gamma=0.5282819748826726, kernel=linear; total time=   7.3s\n",
      "[CV] END C=198.7004781812736, gamma=0.5282819748826726, kernel=linear; total time=   7.5s\n",
      "[CV] END C=198.7004781812736, gamma=0.5282819748826726, kernel=linear; total time=   7.4s\n",
      "[CV] END C=198.7004781812736, gamma=0.5282819748826726, kernel=linear; total time=   7.4s\n",
      "[CV] END C=198.7004781812736, gamma=0.5282819748826726, kernel=linear; total time=   7.2s\n",
      "[CV] END C=129.8000604143307, gamma=2.8621383676481322, kernel=linear; total time=   7.4s\n",
      "[CV] END C=129.8000604143307, gamma=2.8621383676481322, kernel=linear; total time=   7.5s\n",
      "[CV] END C=129.8000604143307, gamma=2.8621383676481322, kernel=linear; total time=   7.4s\n",
      "[CV] END C=129.8000604143307, gamma=2.8621383676481322, kernel=linear; total time=   7.4s\n",
      "[CV] END C=129.8000604143307, gamma=2.8621383676481322, kernel=linear; total time=   7.4s\n",
      "[CV] END C=288.4269299593897, gamma=0.17580835850006285, kernel=rbf; total time=  13.2s\n",
      "[CV] END C=288.4269299593897, gamma=0.17580835850006285, kernel=rbf; total time=  13.1s\n",
      "[CV] END C=288.4269299593897, gamma=0.17580835850006285, kernel=rbf; total time=  13.2s\n",
      "[CV] END C=288.4269299593897, gamma=0.17580835850006285, kernel=rbf; total time=  13.1s\n",
      "[CV] END C=288.4269299593897, gamma=0.17580835850006285, kernel=rbf; total time=  13.5s\n",
      "[CV] END C=6287.039489427172, gamma=0.3504567255332862, kernel=linear; total time=   8.4s\n",
      "[CV] END C=6287.039489427172, gamma=0.3504567255332862, kernel=linear; total time=   8.6s\n",
      "[CV] END C=6287.039489427172, gamma=0.3504567255332862, kernel=linear; total time=   8.8s\n",
      "[CV] END C=6287.039489427172, gamma=0.3504567255332862, kernel=linear; total time=   9.0s\n",
      "[CV] END C=6287.039489427172, gamma=0.3504567255332862, kernel=linear; total time=   8.5s\n",
      "[CV] END C=61217.04421344494, gamma=1.6279689407405564, kernel=rbf; total time=  41.0s\n",
      "[CV] END C=61217.04421344494, gamma=1.6279689407405564, kernel=rbf; total time=  45.7s\n",
      "[CV] END C=61217.04421344494, gamma=1.6279689407405564, kernel=rbf; total time=  43.1s\n",
      "[CV] END C=61217.04421344494, gamma=1.6279689407405564, kernel=rbf; total time=  44.3s\n",
      "[CV] END C=61217.04421344494, gamma=1.6279689407405564, kernel=rbf; total time=  42.1s\n",
      "[CV] END C=926.9787684096649, gamma=2.147979593060577, kernel=rbf; total time=  13.5s\n",
      "[CV] END C=926.9787684096649, gamma=2.147979593060577, kernel=rbf; total time=  13.3s\n",
      "[CV] END C=926.9787684096649, gamma=2.147979593060577, kernel=rbf; total time=  13.2s\n",
      "[CV] END C=926.9787684096649, gamma=2.147979593060577, kernel=rbf; total time=  13.4s\n",
      "[CV] END C=926.9787684096649, gamma=2.147979593060577, kernel=rbf; total time=  13.4s\n",
      "[CV] END C=33946.157064934, gamma=2.2642426492862313, kernel=linear; total time=  14.2s\n",
      "[CV] END C=33946.157064934, gamma=2.2642426492862313, kernel=linear; total time=  14.0s\n",
      "[CV] END C=33946.157064934, gamma=2.2642426492862313, kernel=linear; total time=  14.6s\n",
      "[CV] END C=33946.157064934, gamma=2.2642426492862313, kernel=linear; total time=  14.4s\n",
      "[CV] END C=33946.157064934, gamma=2.2642426492862313, kernel=linear; total time=  13.7s\n",
      "[CV] END C=84789.82947739525, gamma=0.3176359085304841, kernel=linear; total time=  26.5s\n",
      "[CV] END C=84789.82947739525, gamma=0.3176359085304841, kernel=linear; total time=  25.5s\n",
      "[CV] END C=84789.82947739525, gamma=0.3176359085304841, kernel=linear; total time=  35.6s\n",
      "[CV] END C=84789.82947739525, gamma=0.3176359085304841, kernel=linear; total time=  24.1s\n",
      "[CV] END C=84789.82947739525, gamma=0.3176359085304841, kernel=linear; total time=  22.0s\n"
     ]
    },
    {
     "data": {
      "text/plain": [
       "RandomizedSearchCV(cv=5, estimator=SVR(), n_iter=50,\n",
       "                   param_distributions={'C': <scipy.stats._distn_infrastructure.rv_frozen object at 0x7f8176029880>,\n",
       "                                        'gamma': <scipy.stats._distn_infrastructure.rv_frozen object at 0x7f817c173d00>,\n",
       "                                        'kernel': ['linear', 'rbf']},\n",
       "                   random_state=42, scoring='neg_mean_squared_error',\n",
       "                   verbose=2)"
      ]
     },
     "execution_count": 119,
     "metadata": {},
     "output_type": "execute_result"
    }
   ],
   "source": [
    "from sklearn.model_selection import RandomizedSearchCV\n",
    "from scipy.stats import expon, reciprocal\n",
    "\n",
    "# expon(), reciprocal()와 그외 다른 확률 분포 함수에 대해서는\n",
    "# https://docs.scipy.org/doc/scipy/reference/stats.html를 참고하세요.\n",
    "\n",
    "# 노트: kernel 매개변수가 \"linear\"일 때는 gamma가 무시됩니다.\n",
    "param_distribs = {\n",
    "        'kernel': ['linear', 'rbf'],\n",
    "        'C': reciprocal(20, 200000),\n",
    "        'gamma': expon(scale=1.0),\n",
    "    }\n",
    "\n",
    "svm_reg = SVR()\n",
    "rnd_search = RandomizedSearchCV(svm_reg, param_distributions=param_distribs,\n",
    "                                n_iter=50, cv=5, scoring='neg_mean_squared_error',\n",
    "                                verbose=2, random_state=42)\n",
    "rnd_search.fit(housing_prepared, housing_labels)"
   ]
  },
  {
   "cell_type": "markdown",
   "metadata": {},
   "source": [
    "최상 모델의 (5-폴드 교차 검증으로 평가한) 점수는 다음과 같습니다:"
   ]
  },
  {
   "cell_type": "code",
   "execution_count": 120,
   "metadata": {},
   "outputs": [
    {
     "data": {
      "text/plain": [
       "54767.96071008413"
      ]
     },
     "execution_count": 120,
     "metadata": {},
     "output_type": "execute_result"
    }
   ],
   "source": [
    "negative_mse = rnd_search.best_score_\n",
    "rmse = np.sqrt(-negative_mse)\n",
    "rmse"
   ]
  },
  {
   "cell_type": "markdown",
   "metadata": {},
   "source": [
    "이제 `RandomForestRegressor`의 성능에 훨씬 가까워졌습니다(하지만 아직 차이가 납니다). 최상의 하이퍼파라미터를 확인해 보겠습니다:"
   ]
  },
  {
   "cell_type": "code",
   "execution_count": 121,
   "metadata": {},
   "outputs": [
    {
     "data": {
      "text/plain": [
       "{'C': 157055.10989448498, 'gamma': 0.26497040005002437, 'kernel': 'rbf'}"
      ]
     },
     "execution_count": 121,
     "metadata": {},
     "output_type": "execute_result"
    }
   ],
   "source": [
    "rnd_search.best_params_"
   ]
  },
  {
   "cell_type": "markdown",
   "metadata": {},
   "source": [
    "이번에는 RBF 커널에 대해 최적의 하이퍼파라미터 조합을 찾았습니다. 보통 랜덤서치가 같은 시간안에 그리드서치보다 더 좋은 하이퍼파라미터를 찾습니다."
   ]
  },
  {
   "cell_type": "markdown",
   "metadata": {},
   "source": [
    "여기서 사용된 `scale=1.0`인 지수 분포를 살펴보겠습니다. 일부 샘플은 1.0보다 아주 크거나 작습니다. 하지만 로그 분포를 보면 대부분의 값이 exp(-2)와 exp(+2), 즉 0.1과 7.4 사이에 집중되어 있음을 알 수 있습니다."
   ]
  },
  {
   "cell_type": "code",
   "execution_count": 122,
   "metadata": {},
   "outputs": [
    {
     "data": {
      "image/png": "[encoded data removed]",
      "text/plain": [
       "<Figure size 720x288 with 2 Axes>"
      ]
     },
     "metadata": {
      "needs_background": "light"
     },
     "output_type": "display_data"
    }
   ],
   "source": [
    "expon_distrib = expon(scale=1.)\n",
    "samples = expon_distrib.rvs(10000, random_state=42)\n",
    "plt.figure(figsize=(10, 4))\n",
    "plt.subplot(121)\n",
    "plt.title(\"Exponential distribution (scale=1.0)\")\n",
    "plt.hist(samples, bins=50)\n",
    "plt.subplot(122)\n",
    "plt.title(\"Log of this distribution\")\n",
    "plt.hist(np.log(samples), bins=50)\n",
    "plt.show()"
   ]
  },
  {
   "cell_type": "markdown",
   "metadata": {},
   "source": [
    "`C`에 사용된 분포는 매우 다릅니다. 주어진 범위안에서 균등 분포로 샘플링됩니다. 그래서 오른쪽 로그 분포가 거의 일정하게 나타납니다. 이런 분포는 원하는 스케일이 정확이 무엇인지 모를 때 사용하면 좋습니다:"
   ]
  },
  {
   "cell_type": "code",
   "execution_count": 123,
   "metadata": {},
   "outputs": [
    {
     "data": {
      "image/png": "[encoded data removed]",
      "text/plain": [
       "<Figure size 720x288 with 2 Axes>"
      ]
     },
     "metadata": {
      "needs_background": "light"
     },
     "output_type": "display_data"
    }
   ],
   "source": [
    "reciprocal_distrib = reciprocal(20, 200000)\n",
    "samples = reciprocal_distrib.rvs(10000, random_state=42)\n",
    "plt.figure(figsize=(10, 4))\n",
    "plt.subplot(121)\n",
    "plt.title(\"Reciprocal distribution (scale=1.0)\")\n",
    "plt.hist(samples, bins=50)\n",
    "plt.subplot(122)\n",
    "plt.title(\"Log of this distribution\")\n",
    "plt.hist(np.log(samples), bins=50)\n",
    "plt.show()"
   ]
  },
  {
   "cell_type": "markdown",
   "metadata": {},
   "source": [
    "`reciprocal()` 함수는 하이퍼파라미터의 스케일에 대해 전혀 감을 잡을 수 없을 때 사용합니다(오른쪽 그래프에서 볼 수 있듯이 주어진 범위안에서 모든 값이 균등합니다). 반면 지수 분포는 하이퍼파라미터의 스케일을 (어느정도) 알고 있을 때 사용하는 것이 좋습니다."
   ]
  },
  {
   "cell_type": "markdown",
   "metadata": {},
   "source": [
    "## 3."
   ]
  },
  {
   "cell_type": "markdown",
   "metadata": {},
   "source": [
    "질문: 가장 중요한 특성을 선택하는 변환기를 준비 파이프라인에 추가해보세요."
   ]
  },
  {
   "cell_type": "code",
   "execution_count": 124,
   "metadata": {},
   "outputs": [],
   "source": [
    "from sklearn.base import BaseEstimator, TransformerMixin\n",
    "\n",
    "def indices_of_top_k(arr, k):\n",
    "    return np.sort(np.argpartition(np.array(arr), -k)[-k:])\n",
    "\n",
    "class TopFeatureSelector(BaseEstimator, TransformerMixin):\n",
    "    def __init__(self, feature_importances, k):\n",
    "        self.feature_importances = feature_importances\n",
    "        self.k = k\n",
    "    def fit(self, X, y=None):\n",
    "        self.feature_indices_ = indices_of_top_k(self.feature_importances, self.k)\n",
    "        return self\n",
    "    def transform(self, X):\n",
    "        return X[:, self.feature_indices_]"
   ]
  },
  {
   "cell_type": "markdown",
   "metadata": {},
   "source": [
    "노트: 이 특성 선택 클래스는 이미 어떤 식으로든 특성 중요도를 계산했다고 가정합니다(가령 `RandomForestRegressor`을 사용하여). `TopFeatureSelector`의 `fit()` 메서드에서 직접 계산할 수도 있지만 (캐싱을 사용하지 않을 경우) 그리드서치나 랜덤서치의 모든 하이퍼파라미터 조합에 대해 계산이 일어나기 때문에 매우 느려집니다."
   ]
  },
  {
   "cell_type": "markdown",
   "metadata": {},
   "source": [
    "선택할 특성의 개수를 지정합니다:"
   ]
  },
  {
   "cell_type": "code",
   "execution_count": 125,
   "metadata": {},
   "outputs": [],
   "source": [
    "k = 5"
   ]
  },
  {
   "cell_type": "markdown",
   "metadata": {},
   "source": [
    "최상의 k개 특성의 인덱스를 확인해 보겠습니다:"
   ]
  },
  {
   "cell_type": "code",
   "execution_count": 126,
   "metadata": {},
   "outputs": [
    {
     "data": {
      "text/plain": [
       "array([ 0,  1,  7,  9, 12])"
      ]
     },
     "execution_count": 126,
     "metadata": {},
     "output_type": "execute_result"
    }
   ],
   "source": [
    "top_k_feature_indices = indices_of_top_k(feature_importances, k)\n",
    "top_k_feature_indices"
   ]
  },
  {
   "cell_type": "code",
   "execution_count": 127,
   "metadata": {},
   "outputs": [
    {
     "data": {
      "text/plain": [
       "array(['longitude', 'latitude', 'median_income', 'pop_per_hhold',\n",
       "       'INLAND'], dtype='<U18')"
      ]
     },
     "execution_count": 127,
     "metadata": {},
     "output_type": "execute_result"
    }
   ],
   "source": [
    "np.array(attributes)[top_k_feature_indices]"
   ]
  },
  {
   "cell_type": "markdown",
   "metadata": {},
   "source": [
    "최상의 k개 특성이 맞는지 다시 확인합니다:"
   ]
  },
  {
   "cell_type": "code",
   "execution_count": 128,
   "metadata": {},
   "outputs": [
    {
     "data": {
      "text/plain": [
       "[(0.36615898061813423, 'median_income'),\n",
       " (0.16478099356159054, 'INLAND'),\n",
       " (0.10879295677551575, 'pop_per_hhold'),\n",
       " (0.07334423551601243, 'longitude'),\n",
       " (0.06290907048262032, 'latitude')]"
      ]
     },
     "execution_count": 128,
     "metadata": {},
     "output_type": "execute_result"
    }
   ],
   "source": [
    "sorted(zip(feature_importances, attributes), reverse=True)[:k]"
   ]
  },
  {
   "cell_type": "markdown",
   "metadata": {},
   "source": [
    "좋습니다. 이제 이전에 정의한 준비 파이프라인과 특성 선택기를 추가한 새로운 파이프라인을 만듭니다:"
   ]
  },
  {
   "cell_type": "code",
   "execution_count": 129,
   "metadata": {},
   "outputs": [],
   "source": [
    "preparation_and_feature_selection_pipeline = Pipeline([\n",
    "    ('preparation', full_pipeline),\n",
    "    ('feature_selection', TopFeatureSelector(feature_importances, k))\n",
    "])"
   ]
  },
  {
   "cell_type": "code",
   "execution_count": 130,
   "metadata": {},
   "outputs": [],
   "source": [
    "housing_prepared_top_k_features = preparation_and_feature_selection_pipeline.fit_transform(housing)"
   ]
  },
  {
   "cell_type": "markdown",
   "metadata": {},
   "source": [
    "처음 3개 샘플의 특성을 확인해 보겠습니다:"
   ]
  },
  {
   "cell_type": "code",
   "execution_count": 131,
   "metadata": {},
   "outputs": [
    {
     "data": {
      "text/plain": [
       "array([[-1.15604281,  0.77194962, -0.61493744, -0.08649871,  0.        ],\n",
       "       [-1.17602483,  0.6596948 ,  1.33645936, -0.03353391,  0.        ],\n",
       "       [ 1.18684903, -1.34218285, -0.5320456 , -0.09240499,  0.        ]])"
      ]
     },
     "execution_count": 131,
     "metadata": {},
     "output_type": "execute_result"
    }
   ],
   "source": [
    "housing_prepared_top_k_features[0:3]"
   ]
  },
  {
   "cell_type": "markdown",
   "metadata": {},
   "source": [
    "최상의 k개 특성이 맞는지 다시 확인합니다:"
   ]
  },
  {
   "cell_type": "code",
   "execution_count": 132,
   "metadata": {},
   "outputs": [
    {
     "data": {
      "text/plain": [
       "array([[-1.15604281,  0.77194962, -0.61493744, -0.08649871,  0.        ],\n",
       "       [-1.17602483,  0.6596948 ,  1.33645936, -0.03353391,  0.        ],\n",
       "       [ 1.18684903, -1.34218285, -0.5320456 , -0.09240499,  0.        ]])"
      ]
     },
     "execution_count": 132,
     "metadata": {},
     "output_type": "execute_result"
    }
   ],
   "source": [
    "housing_prepared[0:3, top_k_feature_indices]"
   ]
  },
  {
   "cell_type": "markdown",
   "metadata": {},
   "source": [
    "성공입니다!  :)"
   ]
  },
  {
   "cell_type": "markdown",
   "metadata": {},
   "source": [
    "## 4."
   ]
  },
  {
   "cell_type": "markdown",
   "metadata": {},
   "source": [
    "질문: 전체 데이터 준비 과정과 최종 예측을 하나의 파이프라인으로 만들어보세요."
   ]
  },
  {
   "cell_type": "code",
   "execution_count": 133,
   "metadata": {},
   "outputs": [],
   "source": [
    "prepare_select_and_predict_pipeline = Pipeline([\n",
    "    ('preparation', full_pipeline),\n",
    "    ('feature_selection', TopFeatureSelector(feature_importances, k)),\n",
    "    ('svm_reg', SVR(**rnd_search.best_params_))\n",
    "])"
   ]
  },
  {
   "cell_type": "code",
   "execution_count": 134,
   "metadata": {},
   "outputs": [
    {
     "data": {
      "text/plain": [
       "Pipeline(steps=[('preparation',\n",
       "                 ColumnTransformer(transformers=[('num',\n",
       "                                                  Pipeline(steps=[('imputer',\n",
       "                                                                   SimpleImputer(strategy='median')),\n",
       "                                                                  ('attribs_adder',\n",
       "                                                                   CombinedAttributesAdder()),\n",
       "                                                                  ('std_scaler',\n",
       "                                                                   StandardScaler())]),\n",
       "                                                  ['longitude', 'latitude',\n",
       "                                                   'housing_median_age',\n",
       "                                                   'total_rooms',\n",
       "                                                   'total_bedrooms',\n",
       "                                                   'population', 'households',\n",
       "                                                   'median_income']),\n",
       "                                                 ('cat', OneHotEncoder(...\n",
       "                 TopFeatureSelector(feature_importances=array([7.33442355e-02, 6.29090705e-02, 4.11437985e-02, 1.46726854e-02,\n",
       "       1.41064835e-02, 1.48742809e-02, 1.42575993e-02, 3.66158981e-01,\n",
       "       5.64191792e-02, 1.08792957e-01, 5.33510773e-02, 1.03114883e-02,\n",
       "       1.64780994e-01, 6.02803867e-05, 1.96041560e-03, 2.85647464e-03]),\n",
       "                                    k=5)),\n",
       "                ('svm_reg',\n",
       "                 SVR(C=157055.10989448498, gamma=0.26497040005002437))])"
      ]
     },
     "execution_count": 134,
     "metadata": {},
     "output_type": "execute_result"
    }
   ],
   "source": [
    "prepare_select_and_predict_pipeline.fit(housing, housing_labels)"
   ]
  },
  {
   "cell_type": "markdown",
   "metadata": {},
   "source": [
    "몇 개의 샘플에 전체 파이프라인을 적용해 보겠습니다:"
   ]
  },
  {
   "cell_type": "code",
   "execution_count": 135,
   "metadata": {},
   "outputs": [
    {
     "name": "stdout",
     "output_type": "stream",
     "text": [
      "Predictions:\t [203214.28978849 371846.88152572 173295.65441611  47328.3970888 ]\n",
      "Labels:\t\t [286600.0, 340600.0, 196900.0, 46300.0]\n"
     ]
    }
   ],
   "source": [
    "some_data = housing.iloc[:4]\n",
    "some_labels = housing_labels.iloc[:4]\n",
    "\n",
    "print(\"Predictions:\\t\", prepare_select_and_predict_pipeline.predict(some_data))\n",
    "print(\"Labels:\\t\\t\", list(some_labels))"
   ]
  },
  {
   "cell_type": "markdown",
   "metadata": {},
   "source": [
    "전체 파이프라인이 잘 작동하는 것 같습니다. 물론 예측 성능이 아주 좋지는 않습니다. `SVR`보다 `RandomForestRegressor`가 더 나은 것 같습니다."
   ]
  },
  {
   "cell_type": "markdown",
   "metadata": {},
   "source": [
    "## 5."
   ]
  },
  {
   "cell_type": "markdown",
   "metadata": {},
   "source": [
    "질문: `GridSearchCV`를 사용해 준비 단계의 옵션을 자동으로 탐색해보세요.\n",
    "\n",
    "**경고**: 사용하는 하드웨어에 따라 다음 셀을 실행하는데 45분 또는 그 이상 걸릴 수 있습니다."
   ]
  },
  {
   "cell_type": "code",
   "execution_count": 136,
   "metadata": {
    "collapsed": true,
    "jupyter": {
     "outputs_hidden": true
    },
    "tags": []
   },
   "outputs": [
    {
     "name": "stdout",
     "output_type": "stream",
     "text": [
      "Fitting 5 folds for each of 48 candidates, totalling 240 fits\n",
      "[CV] END feature_selection__k=1, preparation__num__imputer__strategy=mean; total time=  13.6s\n",
      "[CV] END feature_selection__k=1, preparation__num__imputer__strategy=mean; total time=  13.4s\n",
      "[CV] END feature_selection__k=1, preparation__num__imputer__strategy=mean; total time=  13.2s\n",
      "[CV] END feature_selection__k=1, preparation__num__imputer__strategy=mean; total time=  13.2s\n",
      "[CV] END feature_selection__k=1, preparation__num__imputer__strategy=mean; total time=  13.3s\n",
      "[CV] END feature_selection__k=1, preparation__num__imputer__strategy=median; total time=  13.1s\n",
      "[CV] END feature_selection__k=1, preparation__num__imputer__strategy=median; total time=  13.5s\n",
      "[CV] END feature_selection__k=1, preparation__num__imputer__strategy=median; total time=  13.7s\n",
      "[CV] END feature_selection__k=1, preparation__num__imputer__strategy=median; total time=  13.4s\n",
      "[CV] END feature_selection__k=1, preparation__num__imputer__strategy=median; total time=  13.2s\n",
      "[CV] END feature_selection__k=1, preparation__num__imputer__strategy=most_frequent; total time=  13.2s\n",
      "[CV] END feature_selection__k=1, preparation__num__imputer__strategy=most_frequent; total time=  13.5s\n",
      "[CV] END feature_selection__k=1, preparation__num__imputer__strategy=most_frequent; total time=  13.5s\n",
      "[CV] END feature_selection__k=1, preparation__num__imputer__strategy=most_frequent; total time=  13.2s\n",
      "[CV] END feature_selection__k=1, preparation__num__imputer__strategy=most_frequent; total time=  13.6s\n",
      "[CV] END feature_selection__k=2, preparation__num__imputer__strategy=mean; total time=  13.5s\n",
      "[CV] END feature_selection__k=2, preparation__num__imputer__strategy=mean; total time=  13.6s\n",
      "[CV] END feature_selection__k=2, preparation__num__imputer__strategy=mean; total time=  13.3s\n",
      "[CV] END feature_selection__k=2, preparation__num__imputer__strategy=mean; total time=  13.6s\n",
      "[CV] END feature_selection__k=2, preparation__num__imputer__strategy=mean; total time=  13.3s\n",
      "[CV] END feature_selection__k=2, preparation__num__imputer__strategy=median; total time=  13.4s\n",
      "[CV] END feature_selection__k=2, preparation__num__imputer__strategy=median; total time=  13.5s\n",
      "[CV] END feature_selection__k=2, preparation__num__imputer__strategy=median; total time=  13.4s\n",
      "[CV] END feature_selection__k=2, preparation__num__imputer__strategy=median; total time=  13.8s\n",
      "[CV] END feature_selection__k=2, preparation__num__imputer__strategy=median; total time=  14.0s\n",
      "[CV] END feature_selection__k=2, preparation__num__imputer__strategy=most_frequent; total time=  13.7s\n",
      "[CV] END feature_selection__k=2, preparation__num__imputer__strategy=most_frequent; total time=  13.5s\n",
      "[CV] END feature_selection__k=2, preparation__num__imputer__strategy=most_frequent; total time=  13.5s\n",
      "[CV] END feature_selection__k=2, preparation__num__imputer__strategy=most_frequent; total time=  13.3s\n",
      "[CV] END feature_selection__k=2, preparation__num__imputer__strategy=most_frequent; total time=  13.4s\n",
      "[CV] END feature_selection__k=3, preparation__num__imputer__strategy=mean; total time=  13.5s\n",
      "[CV] END feature_selection__k=3, preparation__num__imputer__strategy=mean; total time=  13.3s\n",
      "[CV] END feature_selection__k=3, preparation__num__imputer__strategy=mean; total time=  13.5s\n",
      "[CV] END feature_selection__k=3, preparation__num__imputer__strategy=mean; total time=  13.6s\n",
      "[CV] END feature_selection__k=3, preparation__num__imputer__strategy=mean; total time=  13.7s\n",
      "[CV] END feature_selection__k=3, preparation__num__imputer__strategy=median; total time=  13.4s\n",
      "[CV] END feature_selection__k=3, preparation__num__imputer__strategy=median; total time=  13.2s\n",
      "[CV] END feature_selection__k=3, preparation__num__imputer__strategy=median; total time=  13.7s\n",
      "[CV] END feature_selection__k=3, preparation__num__imputer__strategy=median; total time=  13.8s\n",
      "[CV] END feature_selection__k=3, preparation__num__imputer__strategy=median; total time=  13.7s\n",
      "[CV] END feature_selection__k=3, preparation__num__imputer__strategy=most_frequent; total time=  13.3s\n",
      "[CV] END feature_selection__k=3, preparation__num__imputer__strategy=most_frequent; total time=  13.2s\n",
      "[CV] END feature_selection__k=3, preparation__num__imputer__strategy=most_frequent; total time=  13.4s\n",
      "[CV] END feature_selection__k=3, preparation__num__imputer__strategy=most_frequent; total time=  14.0s\n",
      "[CV] END feature_selection__k=3, preparation__num__imputer__strategy=most_frequent; total time=  13.6s\n",
      "[CV] END feature_selection__k=4, preparation__num__imputer__strategy=mean; total time=  14.1s\n",
      "[CV] END feature_selection__k=4, preparation__num__imputer__strategy=mean; total time=  13.7s\n",
      "[CV] END feature_selection__k=4, preparation__num__imputer__strategy=mean; total time=  14.3s\n",
      "[CV] END feature_selection__k=4, preparation__num__imputer__strategy=mean; total time=  14.2s\n",
      "[CV] END feature_selection__k=4, preparation__num__imputer__strategy=mean; total time=  14.1s\n",
      "[CV] END feature_selection__k=4, preparation__num__imputer__strategy=median; total time=  14.1s\n",
      "[CV] END feature_selection__k=4, preparation__num__imputer__strategy=median; total time=  13.9s\n",
      "[CV] END feature_selection__k=4, preparation__num__imputer__strategy=median; total time=  14.4s\n",
      "[CV] END feature_selection__k=4, preparation__num__imputer__strategy=median; total time=  14.3s\n",
      "[CV] END feature_selection__k=4, preparation__num__imputer__strategy=median; total time=  14.0s\n",
      "[CV] END feature_selection__k=4, preparation__num__imputer__strategy=most_frequent; total time=  14.1s\n",
      "[CV] END feature_selection__k=4, preparation__num__imputer__strategy=most_frequent; total time=  13.4s\n",
      "[CV] END feature_selection__k=4, preparation__num__imputer__strategy=most_frequent; total time=  14.5s\n",
      "[CV] END feature_selection__k=4, preparation__num__imputer__strategy=most_frequent; total time=  14.0s\n",
      "[CV] END feature_selection__k=4, preparation__num__imputer__strategy=most_frequent; total time=  14.0s\n",
      "[CV] END feature_selection__k=5, preparation__num__imputer__strategy=mean; total time=  14.3s\n",
      "[CV] END feature_selection__k=5, preparation__num__imputer__strategy=mean; total time=  14.1s\n",
      "[CV] END feature_selection__k=5, preparation__num__imputer__strategy=mean; total time=  14.4s\n",
      "[CV] END feature_selection__k=5, preparation__num__imputer__strategy=mean; total time=  14.3s\n",
      "[CV] END feature_selection__k=5, preparation__num__imputer__strategy=mean; total time=  14.6s\n",
      "[CV] END feature_selection__k=5, preparation__num__imputer__strategy=median; total time=  14.3s\n",
      "[CV] END feature_selection__k=5, preparation__num__imputer__strategy=median; total time=  14.3s\n",
      "[CV] END feature_selection__k=5, preparation__num__imputer__strategy=median; total time=  14.1s\n",
      "[CV] END feature_selection__k=5, preparation__num__imputer__strategy=median; total time=  14.3s\n",
      "[CV] END feature_selection__k=5, preparation__num__imputer__strategy=median; total time=  14.1s\n",
      "[CV] END feature_selection__k=5, preparation__num__imputer__strategy=most_frequent; total time=  13.9s\n",
      "[CV] END feature_selection__k=5, preparation__num__imputer__strategy=most_frequent; total time=  14.2s\n",
      "[CV] END feature_selection__k=5, preparation__num__imputer__strategy=most_frequent; total time=  14.0s\n",
      "[CV] END feature_selection__k=5, preparation__num__imputer__strategy=most_frequent; total time=  14.3s\n",
      "[CV] END feature_selection__k=5, preparation__num__imputer__strategy=most_frequent; total time=  14.2s\n",
      "[CV] END feature_selection__k=6, preparation__num__imputer__strategy=mean; total time=  14.4s\n",
      "[CV] END feature_selection__k=6, preparation__num__imputer__strategy=mean; total time=  14.2s\n",
      "[CV] END feature_selection__k=6, preparation__num__imputer__strategy=mean; total time=  14.3s\n",
      "[CV] END feature_selection__k=6, preparation__num__imputer__strategy=mean; total time=  14.1s\n",
      "[CV] END feature_selection__k=6, preparation__num__imputer__strategy=mean; total time=  14.2s\n",
      "[CV] END feature_selection__k=6, preparation__num__imputer__strategy=median; total time=  14.2s\n",
      "[CV] END feature_selection__k=6, preparation__num__imputer__strategy=median; total time=  14.2s\n",
      "[CV] END feature_selection__k=6, preparation__num__imputer__strategy=median; total time=  14.5s\n",
      "[CV] END feature_selection__k=6, preparation__num__imputer__strategy=median; total time=  14.1s\n",
      "[CV] END feature_selection__k=6, preparation__num__imputer__strategy=median; total time=  14.4s\n",
      "[CV] END feature_selection__k=6, preparation__num__imputer__strategy=most_frequent; total time=  14.6s\n",
      "[CV] END feature_selection__k=6, preparation__num__imputer__strategy=most_frequent; total time=  14.6s\n",
      "[CV] END feature_selection__k=6, preparation__num__imputer__strategy=most_frequent; total time=  14.8s\n",
      "[CV] END feature_selection__k=6, preparation__num__imputer__strategy=most_frequent; total time=  14.7s\n",
      "[CV] END feature_selection__k=6, preparation__num__imputer__strategy=most_frequent; total time=  14.8s\n",
      "[CV] END feature_selection__k=7, preparation__num__imputer__strategy=mean; total time=  14.8s\n",
      "[CV] END feature_selection__k=7, preparation__num__imputer__strategy=mean; total time=  15.2s\n",
      "[CV] END feature_selection__k=7, preparation__num__imputer__strategy=mean; total time=  15.0s\n",
      "[CV] END feature_selection__k=7, preparation__num__imputer__strategy=mean; total time=  14.9s\n",
      "[CV] END feature_selection__k=7, preparation__num__imputer__strategy=mean; total time=  15.0s\n",
      "[CV] END feature_selection__k=7, preparation__num__imputer__strategy=median; total time=  15.8s\n",
      "[CV] END feature_selection__k=7, preparation__num__imputer__strategy=median; total time=  14.9s\n",
      "[CV] END feature_selection__k=7, preparation__num__imputer__strategy=median; total time=  14.9s\n",
      "[CV] END feature_selection__k=7, preparation__num__imputer__strategy=median; total time=  14.6s\n",
      "[CV] END feature_selection__k=7, preparation__num__imputer__strategy=median; total time=  15.0s\n",
      "[CV] END feature_selection__k=7, preparation__num__imputer__strategy=most_frequent; total time=  15.5s\n",
      "[CV] END feature_selection__k=7, preparation__num__imputer__strategy=most_frequent; total time=  14.9s\n",
      "[CV] END feature_selection__k=7, preparation__num__imputer__strategy=most_frequent; total time=  15.3s\n",
      "[CV] END feature_selection__k=7, preparation__num__imputer__strategy=most_frequent; total time=  14.7s\n",
      "[CV] END feature_selection__k=7, preparation__num__imputer__strategy=most_frequent; total time=  15.2s\n",
      "[CV] END feature_selection__k=8, preparation__num__imputer__strategy=mean; total time=  15.3s\n",
      "[CV] END feature_selection__k=8, preparation__num__imputer__strategy=mean; total time=  15.5s\n",
      "[CV] END feature_selection__k=8, preparation__num__imputer__strategy=mean; total time=  16.3s\n",
      "[CV] END feature_selection__k=8, preparation__num__imputer__strategy=mean; total time=  15.8s\n",
      "[CV] END feature_selection__k=8, preparation__num__imputer__strategy=mean; total time=  16.8s\n",
      "[CV] END feature_selection__k=8, preparation__num__imputer__strategy=median; total time=  16.0s\n",
      "[CV] END feature_selection__k=8, preparation__num__imputer__strategy=median; total time=  15.6s\n",
      "[CV] END feature_selection__k=8, preparation__num__imputer__strategy=median; total time=  16.6s\n",
      "[CV] END feature_selection__k=8, preparation__num__imputer__strategy=median; total time=  16.4s\n",
      "[CV] END feature_selection__k=8, preparation__num__imputer__strategy=median; total time=  16.3s\n",
      "[CV] END feature_selection__k=8, preparation__num__imputer__strategy=most_frequent; total time=  15.8s\n",
      "[CV] END feature_selection__k=8, preparation__num__imputer__strategy=most_frequent; total time=  15.3s\n",
      "[CV] END feature_selection__k=8, preparation__num__imputer__strategy=most_frequent; total time=  15.9s\n",
      "[CV] END feature_selection__k=8, preparation__num__imputer__strategy=most_frequent; total time=  15.3s\n",
      "[CV] END feature_selection__k=8, preparation__num__imputer__strategy=most_frequent; total time=  15.9s\n",
      "[CV] END feature_selection__k=9, preparation__num__imputer__strategy=mean; total time=  20.5s\n",
      "[CV] END feature_selection__k=9, preparation__num__imputer__strategy=mean; total time=  21.0s\n",
      "[CV] END feature_selection__k=9, preparation__num__imputer__strategy=mean; total time=  20.2s\n",
      "[CV] END feature_selection__k=9, preparation__num__imputer__strategy=mean; total time=  20.6s\n",
      "[CV] END feature_selection__k=9, preparation__num__imputer__strategy=mean; total time=  19.5s\n",
      "[CV] END feature_selection__k=9, preparation__num__imputer__strategy=median; total time=  20.8s\n",
      "[CV] END feature_selection__k=9, preparation__num__imputer__strategy=median; total time=  21.2s\n",
      "[CV] END feature_selection__k=9, preparation__num__imputer__strategy=median; total time=  19.1s\n",
      "[CV] END feature_selection__k=9, preparation__num__imputer__strategy=median; total time=  20.4s\n",
      "[CV] END feature_selection__k=9, preparation__num__imputer__strategy=median; total time=  19.2s\n",
      "[CV] END feature_selection__k=9, preparation__num__imputer__strategy=most_frequent; total time=  20.7s\n",
      "[CV] END feature_selection__k=9, preparation__num__imputer__strategy=most_frequent; total time=  21.3s\n",
      "[CV] END feature_selection__k=9, preparation__num__imputer__strategy=most_frequent; total time=  20.4s\n",
      "[CV] END feature_selection__k=9, preparation__num__imputer__strategy=most_frequent; total time=  20.2s\n",
      "[CV] END feature_selection__k=9, preparation__num__imputer__strategy=most_frequent; total time=  20.0s\n",
      "[CV] END feature_selection__k=10, preparation__num__imputer__strategy=mean; total time=  20.8s\n",
      "[CV] END feature_selection__k=10, preparation__num__imputer__strategy=mean; total time=  21.7s\n",
      "[CV] END feature_selection__k=10, preparation__num__imputer__strategy=mean; total time=  25.3s\n",
      "[CV] END feature_selection__k=10, preparation__num__imputer__strategy=mean; total time=  22.7s\n",
      "[CV] END feature_selection__k=10, preparation__num__imputer__strategy=mean; total time=  22.1s\n",
      "[CV] END feature_selection__k=10, preparation__num__imputer__strategy=median; total time=  21.1s\n",
      "[CV] END feature_selection__k=10, preparation__num__imputer__strategy=median; total time=  23.5s\n",
      "[CV] END feature_selection__k=10, preparation__num__imputer__strategy=median; total time=  22.4s\n",
      "[CV] END feature_selection__k=10, preparation__num__imputer__strategy=median; total time=  22.4s\n",
      "[CV] END feature_selection__k=10, preparation__num__imputer__strategy=median; total time=  21.3s\n",
      "[CV] END feature_selection__k=10, preparation__num__imputer__strategy=most_frequent; total time=  21.3s\n",
      "[CV] END feature_selection__k=10, preparation__num__imputer__strategy=most_frequent; total time=  21.6s\n",
      "[CV] END feature_selection__k=10, preparation__num__imputer__strategy=most_frequent; total time=  20.9s\n",
      "[CV] END feature_selection__k=10, preparation__num__imputer__strategy=most_frequent; total time=  22.9s\n",
      "[CV] END feature_selection__k=10, preparation__num__imputer__strategy=most_frequent; total time=  22.9s\n",
      "[CV] END feature_selection__k=11, preparation__num__imputer__strategy=mean; total time=  25.2s\n",
      "[CV] END feature_selection__k=11, preparation__num__imputer__strategy=mean; total time=  23.5s\n",
      "[CV] END feature_selection__k=11, preparation__num__imputer__strategy=mean; total time=  23.6s\n",
      "[CV] END feature_selection__k=11, preparation__num__imputer__strategy=mean; total time=  25.6s\n",
      "[CV] END feature_selection__k=11, preparation__num__imputer__strategy=mean; total time=  24.2s\n",
      "[CV] END feature_selection__k=11, preparation__num__imputer__strategy=median; total time=  23.7s\n",
      "[CV] END feature_selection__k=11, preparation__num__imputer__strategy=median; total time=  22.4s\n",
      "[CV] END feature_selection__k=11, preparation__num__imputer__strategy=median; total time=  22.7s\n",
      "[CV] END feature_selection__k=11, preparation__num__imputer__strategy=median; total time=  25.5s\n",
      "[CV] END feature_selection__k=11, preparation__num__imputer__strategy=median; total time=  24.8s\n",
      "[CV] END feature_selection__k=11, preparation__num__imputer__strategy=most_frequent; total time=  25.6s\n",
      "[CV] END feature_selection__k=11, preparation__num__imputer__strategy=most_frequent; total time=  22.2s\n",
      "[CV] END feature_selection__k=11, preparation__num__imputer__strategy=most_frequent; total time=  22.9s\n",
      "[CV] END feature_selection__k=11, preparation__num__imputer__strategy=most_frequent; total time=  24.0s\n",
      "[CV] END feature_selection__k=11, preparation__num__imputer__strategy=most_frequent; total time=  27.4s\n",
      "[CV] END feature_selection__k=12, preparation__num__imputer__strategy=mean; total time=  25.1s\n",
      "[CV] END feature_selection__k=12, preparation__num__imputer__strategy=mean; total time=  24.7s\n",
      "[CV] END feature_selection__k=12, preparation__num__imputer__strategy=mean; total time=  24.9s\n",
      "[CV] END feature_selection__k=12, preparation__num__imputer__strategy=mean; total time=  25.1s\n",
      "[CV] END feature_selection__k=12, preparation__num__imputer__strategy=mean; total time=  25.7s\n",
      "[CV] END feature_selection__k=12, preparation__num__imputer__strategy=median; total time=  23.8s\n",
      "[CV] END feature_selection__k=12, preparation__num__imputer__strategy=median; total time=  24.8s\n",
      "[CV] END feature_selection__k=12, preparation__num__imputer__strategy=median; total time=  26.0s\n",
      "[CV] END feature_selection__k=12, preparation__num__imputer__strategy=median; total time=  24.8s\n",
      "[CV] END feature_selection__k=12, preparation__num__imputer__strategy=median; total time=  24.8s\n",
      "[CV] END feature_selection__k=12, preparation__num__imputer__strategy=most_frequent; total time=  23.4s\n",
      "[CV] END feature_selection__k=12, preparation__num__imputer__strategy=most_frequent; total time=  24.2s\n",
      "[CV] END feature_selection__k=12, preparation__num__imputer__strategy=most_frequent; total time=  27.8s\n",
      "[CV] END feature_selection__k=12, preparation__num__imputer__strategy=most_frequent; total time=  23.7s\n",
      "[CV] END feature_selection__k=12, preparation__num__imputer__strategy=most_frequent; total time=  24.0s\n",
      "[CV] END feature_selection__k=13, preparation__num__imputer__strategy=mean; total time=  29.2s\n",
      "[CV] END feature_selection__k=13, preparation__num__imputer__strategy=mean; total time=  27.7s\n",
      "[CV] END feature_selection__k=13, preparation__num__imputer__strategy=mean; total time=  29.0s\n",
      "[CV] END feature_selection__k=13, preparation__num__imputer__strategy=mean; total time=  27.5s\n",
      "[CV] END feature_selection__k=13, preparation__num__imputer__strategy=mean; total time=  23.9s\n",
      "[CV] END feature_selection__k=13, preparation__num__imputer__strategy=median; total time=  25.3s\n",
      "[CV] END feature_selection__k=13, preparation__num__imputer__strategy=median; total time=  28.9s\n",
      "[CV] END feature_selection__k=13, preparation__num__imputer__strategy=median; total time=  29.5s\n",
      "[CV] END feature_selection__k=13, preparation__num__imputer__strategy=median; total time=  29.2s\n",
      "[CV] END feature_selection__k=13, preparation__num__imputer__strategy=median; total time=  28.0s\n",
      "[CV] END feature_selection__k=13, preparation__num__imputer__strategy=most_frequent; total time=  26.3s\n",
      "[CV] END feature_selection__k=13, preparation__num__imputer__strategy=most_frequent; total time=  29.4s\n",
      "[CV] END feature_selection__k=13, preparation__num__imputer__strategy=most_frequent; total time=  29.8s\n",
      "[CV] END feature_selection__k=13, preparation__num__imputer__strategy=most_frequent; total time=  29.8s\n",
      "[CV] END feature_selection__k=13, preparation__num__imputer__strategy=most_frequent; total time=  27.6s\n",
      "[CV] END feature_selection__k=14, preparation__num__imputer__strategy=mean; total time=  25.5s\n",
      "[CV] END feature_selection__k=14, preparation__num__imputer__strategy=mean; total time=  29.6s\n",
      "[CV] END feature_selection__k=14, preparation__num__imputer__strategy=mean; total time=  30.1s\n",
      "[CV] END feature_selection__k=14, preparation__num__imputer__strategy=mean; total time=  29.3s\n",
      "[CV] END feature_selection__k=14, preparation__num__imputer__strategy=mean; total time=  27.1s\n",
      "[CV] END feature_selection__k=14, preparation__num__imputer__strategy=median; total time=  29.6s\n",
      "[CV] END feature_selection__k=14, preparation__num__imputer__strategy=median; total time=  29.3s\n",
      "[CV] END feature_selection__k=14, preparation__num__imputer__strategy=median; total time=  29.4s\n",
      "[CV] END feature_selection__k=14, preparation__num__imputer__strategy=median; total time=  29.1s\n",
      "[CV] END feature_selection__k=14, preparation__num__imputer__strategy=median; total time=  26.5s\n",
      "[CV] END feature_selection__k=14, preparation__num__imputer__strategy=most_frequent; total time=  28.5s\n",
      "[CV] END feature_selection__k=14, preparation__num__imputer__strategy=most_frequent; total time=  26.5s\n",
      "[CV] END feature_selection__k=14, preparation__num__imputer__strategy=most_frequent; total time=  27.1s\n",
      "[CV] END feature_selection__k=14, preparation__num__imputer__strategy=most_frequent; total time=  28.2s\n",
      "[CV] END feature_selection__k=14, preparation__num__imputer__strategy=most_frequent; total time=  33.6s\n",
      "[CV] END feature_selection__k=15, preparation__num__imputer__strategy=mean; total time=  29.4s\n",
      "[CV] END feature_selection__k=15, preparation__num__imputer__strategy=mean; total time=  28.2s\n",
      "[CV] END feature_selection__k=15, preparation__num__imputer__strategy=mean; total time=  30.4s\n",
      "[CV] END feature_selection__k=15, preparation__num__imputer__strategy=mean; total time=  24.9s\n",
      "[CV] END feature_selection__k=15, preparation__num__imputer__strategy=mean; total time=  26.1s\n",
      "[CV] END feature_selection__k=15, preparation__num__imputer__strategy=median; total time=  24.1s\n",
      "[CV] END feature_selection__k=15, preparation__num__imputer__strategy=median; total time=  26.0s\n",
      "[CV] END feature_selection__k=15, preparation__num__imputer__strategy=median; total time=  28.0s\n",
      "[CV] END feature_selection__k=15, preparation__num__imputer__strategy=median; total time=  27.6s\n",
      "[CV] END feature_selection__k=15, preparation__num__imputer__strategy=median; total time=  26.2s\n",
      "[CV] END feature_selection__k=15, preparation__num__imputer__strategy=most_frequent; total time=  27.9s\n",
      "[CV] END feature_selection__k=15, preparation__num__imputer__strategy=most_frequent; total time=  27.8s\n",
      "[CV] END feature_selection__k=15, preparation__num__imputer__strategy=most_frequent; total time=  28.4s\n",
      "[CV] END feature_selection__k=15, preparation__num__imputer__strategy=most_frequent; total time=  24.0s\n",
      "[CV] END feature_selection__k=15, preparation__num__imputer__strategy=most_frequent; total time=  28.4s\n",
      "[CV] END feature_selection__k=16, preparation__num__imputer__strategy=mean; total time=  26.1s\n",
      "[CV] END feature_selection__k=16, preparation__num__imputer__strategy=mean; total time=  26.2s\n",
      "[CV] END feature_selection__k=16, preparation__num__imputer__strategy=mean; total time=  25.6s\n",
      "[CV] END feature_selection__k=16, preparation__num__imputer__strategy=mean; total time=  26.9s\n",
      "[CV] END feature_selection__k=16, preparation__num__imputer__strategy=mean; total time=  23.7s\n",
      "[CV] END feature_selection__k=16, preparation__num__imputer__strategy=median; total time=  24.3s\n",
      "[CV] END feature_selection__k=16, preparation__num__imputer__strategy=median; total time=  26.5s\n",
      "[CV] END feature_selection__k=16, preparation__num__imputer__strategy=median; total time=  25.6s\n",
      "[CV] END feature_selection__k=16, preparation__num__imputer__strategy=median; total time=  22.4s\n",
      "[CV] END feature_selection__k=16, preparation__num__imputer__strategy=median; total time=  25.5s\n",
      "[CV] END feature_selection__k=16, preparation__num__imputer__strategy=most_frequent; total time=  23.7s\n",
      "[CV] END feature_selection__k=16, preparation__num__imputer__strategy=most_frequent; total time=  26.8s\n",
      "[CV] END feature_selection__k=16, preparation__num__imputer__strategy=most_frequent; total time=  25.3s\n",
      "[CV] END feature_selection__k=16, preparation__num__imputer__strategy=most_frequent; total time=  24.8s\n",
      "[CV] END feature_selection__k=16, preparation__num__imputer__strategy=most_frequent; total time=  26.6s\n"
     ]
    },
    {
     "data": {
      "text/plain": [
       "GridSearchCV(cv=5,\n",
       "             estimator=Pipeline(steps=[('preparation',\n",
       "                                        ColumnTransformer(transformers=[('num',\n",
       "                                                                         Pipeline(steps=[('imputer',\n",
       "                                                                                          SimpleImputer(strategy='median')),\n",
       "                                                                                         ('attribs_adder',\n",
       "                                                                                          CombinedAttributesAdder()),\n",
       "                                                                                         ('std_scaler',\n",
       "                                                                                          StandardScaler())]),\n",
       "                                                                         ['longitude',\n",
       "                                                                          'latitude',\n",
       "                                                                          'housing_median_age',\n",
       "                                                                          'total_rooms',\n",
       "                                                                          'total_bedrooms',\n",
       "                                                                          'population',\n",
       "                                                                          'households',\n",
       "                                                                          'median_inc...\n",
       "       5.64191792e-02, 1.08792957e-01, 5.33510773e-02, 1.03114883e-02,\n",
       "       1.64780994e-01, 6.02803867e-05, 1.96041560e-03, 2.85647464e-03]),\n",
       "                                                           k=5)),\n",
       "                                       ('svm_reg',\n",
       "                                        SVR(C=157055.10989448498,\n",
       "                                            gamma=0.26497040005002437))]),\n",
       "             param_grid=[{'feature_selection__k': [1, 2, 3, 4, 5, 6, 7, 8, 9,\n",
       "                                                   10, 11, 12, 13, 14, 15, 16],\n",
       "                          'preparation__num__imputer__strategy': ['mean',\n",
       "                                                                  'median',\n",
       "                                                                  'most_frequent']}],\n",
       "             scoring='neg_mean_squared_error', verbose=2)"
      ]
     },
     "execution_count": 136,
     "metadata": {},
     "output_type": "execute_result"
    }
   ],
   "source": [
    "param_grid = [{\n",
    "    'preparation__num__imputer__strategy': ['mean', 'median', 'most_frequent'],\n",
    "    'feature_selection__k': list(range(1, len(feature_importances) + 1))\n",
    "}]\n",
    "\n",
    "grid_search_prep = GridSearchCV(prepare_select_and_predict_pipeline, param_grid, cv=5,\n",
    "                                scoring='neg_mean_squared_error', verbose=2)\n",
    "grid_search_prep.fit(housing, housing_labels)"
   ]
  },
  {
   "cell_type": "code",
   "execution_count": 137,
   "metadata": {},
   "outputs": [
    {
     "data": {
      "text/plain": [
       "{'feature_selection__k': 15,\n",
       " 'preparation__num__imputer__strategy': 'most_frequent'}"
      ]
     },
     "execution_count": 137,
     "metadata": {},
     "output_type": "execute_result"
    }
   ],
   "source": [
    "grid_search_prep.best_params_"
   ]
  },
  {
   "cell_type": "markdown",
   "metadata": {},
   "source": [
    "최상의 `Imputer` 정책은 `most_frequent`이고 거의 모든 특성이 유용합니다(16개 중 15개). 마지막 특성(`ISLAND`)은 잡음이 추가될 뿐입니다."
   ]
  },
  {
   "cell_type": "markdown",
   "metadata": {},
   "source": [
    "축하합니다! 이제 머신러닝에 대해 꽤 많은 것을 알게 되었습니다. :)"
   ]
  }
 ],
 "metadata": {
  "kernelspec": {
   "display_name": "Python 3",
   "language": "python",
   "name": "python3"
  },
  "language_info": {
   "codemirror_mode": {
    "name": "ipython",
    "version": 3
   },
   "file_extension": ".py",
   "mimetype": "text/x-python",
   "name": "python",
   "nbconvert_exporter": "python",
   "pygments_lexer": "ipython3",
   "version": "3.6.12"
  },
  "nav_menu": {
   "height": "279px",
   "width": "309px"
  },
  "toc": {
   "nav_menu": {},
   "number_sections": true,
   "sideBar": true,
   "skip_h1_title": false,
   "toc_cell": false,
   "toc_position": {},
   "toc_section_display": "block",
   "toc_window_display": false
  },
  "widgets": {
   "application/vnd.jupyter.widget-state+json": {
    "state": {},
    "version_major": 2,
    "version_minor": 0
   }
  }
 },
 "nbformat": 4,
 "nbformat_minor": 4
}
