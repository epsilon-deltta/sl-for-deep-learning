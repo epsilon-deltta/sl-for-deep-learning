{
 "cells": [
  {
   "cell_type": "code",
   "execution_count": null,
   "id": "portuguese-cologne",
   "metadata": {},
   "outputs": [],
   "source": [
    "import torch\n",
    "from torch.utils.data import DataLoader as dl\n",
    "from torch import nn\n",
    "\n",
    "from torchvision import datasets as dt\n",
    "from torchvision.transforms import ToTensor,Lambda,Compose\n",
    "import matplotlib.pyplot as plt\n",
    "\n",
    "tr = dt.FashionMNIST(root='fa',download=True,train=True ,transform =ToTensor() )\n",
    "te = dt.FashionMNIST(root='fa',download=True,train=False,transform =ToTensor() )\n",
    "\n",
    "trdl = dl(tr,128)\n",
    "tedl = dl(te,128)\n",
    "\n",
    "class ypnet(nn.Module):\n",
    "    def __init__(self):\n",
    "        super(ypnet,self).__init__()\n",
    "        self.net = nn.Sequential(\n",
    "            nn.Flatten(),\n",
    "            nn.Linear(784,392),\n",
    "            nn.ReLU(),\n",
    "            nn.Linear(392,156),\n",
    "            nn.ReLU(),\n",
    "            nn.Linear(156,78),\n",
    "            nn.ReLU(),\n",
    "            nn.Linear(78,10),\n",
    "            nn.Softmax(dim=1)\n",
    "        )\n",
    "    def forward(self,x):\n",
    "        return self.net(x)\n",
    "\n",
    "device = 'cuda' if torch.cuda.is_available() else 'cpu'\n",
    "yp = ypnet().to(device)\n",
    "loss = nn.CrossEntropyLoss()\n",
    "opt = torch.optim.Adam(yp.parameters() )\n",
    "\n",
    "def train(dl,model,lossf,opt):\n",
    "    for x,y in dl:\n",
    "        x,y = x.to(device),y.to(device)\n",
    "        pre = model(x)\n",
    "        loss = lossf(pre,y)\n",
    "\n",
    "        opt.zero_grad()\n",
    "        loss.backward()\n",
    "        opt.step()\n",
    "\n",
    "def test(dl,model,lossf):\n",
    "    model.eval() # eval scope\n",
    "    size,losses,corrects = len(dl.dataset),0,0\n",
    "\n",
    "    with torch.no_grad():\n",
    "        for x,y in dl:\n",
    "            x,y = x.to(device),y.to(device)\n",
    "            pre = model(x)\n",
    "            loss = lossf(pre,y)\n",
    "\n",
    "            losses += loss.item()\n",
    "            corrects += (pre.argmax(1)==y).type(torch.float).sum().item()\n",
    "    print(f'accuracy {corrects/size} loss {losses/size}')\n",
    "for _ in range(10):\n",
    "    train(trdl,yp,loss,opt)\n",
    "    test(tedl,yp,loss)"
   ]
  }
 ],
 "metadata": {
  "kernelspec": {
   "display_name": "kera",
   "language": "python",
   "name": "kera"
  },
  "language_info": {
   "codemirror_mode": {
    "name": "ipython",
    "version": 3
   },
   "file_extension": ".py",
   "mimetype": "text/x-python",
   "name": "python",
   "nbconvert_exporter": "python",
   "pygments_lexer": "ipython3",
   "version": "3.6.12"
  },
  "widgets": {
   "application/vnd.jupyter.widget-state+json": {
    "state": {},
    "version_major": 2,
    "version_minor": 0
   }
  }
 },
 "nbformat": 4,
 "nbformat_minor": 5
}
