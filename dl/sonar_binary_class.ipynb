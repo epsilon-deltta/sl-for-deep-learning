{
 "cells": [
  {
   "cell_type": "markdown",
   "metadata": {},
   "source": [
    "#### sonar # to check how error backprogation works well\n",
    "#### 세즈노프스키 ?professor (러시아 사람인가....이노무스키)\n",
    "#### sonar 로 광석 인지 그냥 돌멩인지 binary classification 하는거임 (~~돌맹이 by 한현우~~ 노래 좋음)"
   ]
  },
  {
   "cell_type": "code",
   "execution_count": 172,
   "metadata": {},
   "outputs": [],
   "source": [
    "import  matplotlib.pyplot as plt\n",
    "\n",
    "from keras.models import Sequential\n",
    "from keras.layers.core import Dense\n",
    "from sklearn.preprocessing import LabelEncoder\n",
    "from sklearn.model_selection import train_test_split\n",
    "\n",
    "import pandas as pd\n",
    "import numpy\n",
    "import tensorflow as tf"
   ]
  },
  {
   "cell_type": "markdown",
   "metadata": {},
   "source": [
    "### data preprocessing"
   ]
  },
  {
   "cell_type": "code",
   "execution_count": 173,
   "metadata": {},
   "outputs": [],
   "source": [
    "# seed 값 설정\n",
    "seed = 0\n",
    "numpy.random.seed(seed)\n",
    "tf.random.set_seed(3)\n",
    "\n",
    "df = pd.read_csv('../dataset/sonar.csv', header=None)\n",
    "\n",
    "dataset = df.values\n",
    "X = dataset[:,0:60]\n",
    "Y_obj = dataset[:,60]\n",
    "X = X.astype(numpy.float)\n",
    "\n",
    "e = LabelEncoder()\n",
    "e.fit(Y_obj)\n",
    "Y = e.transform(Y_obj)"
   ]
  },
  {
   "cell_type": "code",
   "execution_count": 174,
   "metadata": {},
   "outputs": [],
   "source": [
    "# 학습 셋과 테스트 셋의 구분\n",
    "X_train, X_test, Y_train, Y_test = train_test_split(X, Y, test_size=0.3, random_state=seed)"
   ]
  },
  {
   "cell_type": "code",
   "execution_count": 175,
   "metadata": {},
   "outputs": [
    {
     "name": "stdout",
     "output_type": "stream",
     "text": [
      "The tensorboard extension is already loaded. To reload it, use:\n",
      "  %reload_ext tensorboard\n"
     ]
    }
   ],
   "source": [
    "%load_ext tensorboard"
   ]
  },
  {
   "cell_type": "code",
   "execution_count": 176,
   "metadata": {},
   "outputs": [],
   "source": [
    "from keras.callbacks import TensorBoard\n",
    "import datetime\n",
    "\n",
    "log_dir = \"logs/fit/\" + datetime.datetime.now().strftime(\"%Y%m%d-%H%M%S\")\n",
    "tensorboard_callback = TensorBoard(log_dir=log_dir, histogram_freq=1)"
   ]
  },
  {
   "cell_type": "code",
   "execution_count": 178,
   "metadata": {
    "collapsed": true,
    "jupyter": {
     "outputs_hidden": true
    }
   },
   "outputs": [
    {
     "name": "stdout",
     "output_type": "stream",
     "text": [
      "Epoch 1/100\n",
      "2/5 [===========>..................] - ETA: 5s - loss: 0.6995 - accuracy: 0.4531WARNING:tensorflow:Method (on_train_batch_end) is slow compared to the batch update (1.933010). Check your callbacks.\n",
      "5/5 [==============================] - 4s 897ms/step - loss: 0.7040 - accuracy: 0.4138 - val_loss: 0.6938 - val_accuracy: 0.4921\n",
      "Epoch 2/100\n",
      "5/5 [==============================] - 0s 41ms/step - loss: 0.6968 - accuracy: 0.4621 - val_loss: 0.6897 - val_accuracy: 0.5079\n",
      "Epoch 3/100\n",
      "5/5 [==============================] - 0s 40ms/step - loss: 0.6933 - accuracy: 0.5448 - val_loss: 0.6858 - val_accuracy: 0.5556\n",
      "Epoch 4/100\n",
      "5/5 [==============================] - 0s 35ms/step - loss: 0.6882 - accuracy: 0.5586 - val_loss: 0.6823 - val_accuracy: 0.5714\n",
      "Epoch 5/100\n",
      "5/5 [==============================] - 0s 37ms/step - loss: 0.6846 - accuracy: 0.5586 - val_loss: 0.6787 - val_accuracy: 0.5714\n",
      "Epoch 6/100\n",
      "5/5 [==============================] - 0s 55ms/step - loss: 0.6806 - accuracy: 0.5793 - val_loss: 0.6750 - val_accuracy: 0.6032\n",
      "Epoch 7/100\n",
      "5/5 [==============================] - 0s 41ms/step - loss: 0.6768 - accuracy: 0.5793 - val_loss: 0.6716 - val_accuracy: 0.6032\n",
      "Epoch 8/100\n",
      "5/5 [==============================] - 0s 33ms/step - loss: 0.6729 - accuracy: 0.5724 - val_loss: 0.6684 - val_accuracy: 0.6190\n",
      "Epoch 9/100\n",
      "5/5 [==============================] - 0s 43ms/step - loss: 0.6686 - accuracy: 0.5724 - val_loss: 0.6645 - val_accuracy: 0.6190\n",
      "Epoch 10/100\n",
      "5/5 [==============================] - 0s 45ms/step - loss: 0.6636 - accuracy: 0.5862 - val_loss: 0.6603 - val_accuracy: 0.6190\n",
      "Epoch 11/100\n",
      "5/5 [==============================] - 0s 40ms/step - loss: 0.6580 - accuracy: 0.6276 - val_loss: 0.6546 - val_accuracy: 0.6349\n",
      "Epoch 12/100\n",
      "5/5 [==============================] - 0s 61ms/step - loss: 0.6537 - accuracy: 0.6552 - val_loss: 0.6503 - val_accuracy: 0.6825\n",
      "Epoch 13/100\n",
      "5/5 [==============================] - 0s 47ms/step - loss: 0.6485 - accuracy: 0.6552 - val_loss: 0.6457 - val_accuracy: 0.6667\n",
      "Epoch 14/100\n",
      "5/5 [==============================] - 1s 117ms/step - loss: 0.6443 - accuracy: 0.6483 - val_loss: 0.6412 - val_accuracy: 0.6508\n",
      "Epoch 15/100\n",
      "5/5 [==============================] - 0s 91ms/step - loss: 0.6374 - accuracy: 0.6483 - val_loss: 0.6361 - val_accuracy: 0.6825\n",
      "Epoch 16/100\n",
      "5/5 [==============================] - 0s 55ms/step - loss: 0.6309 - accuracy: 0.6759 - val_loss: 0.6313 - val_accuracy: 0.6825\n",
      "Epoch 17/100\n",
      "5/5 [==============================] - 0s 67ms/step - loss: 0.6237 - accuracy: 0.6828 - val_loss: 0.6253 - val_accuracy: 0.6984\n",
      "Epoch 18/100\n",
      "5/5 [==============================] - 0s 47ms/step - loss: 0.6147 - accuracy: 0.6897 - val_loss: 0.6160 - val_accuracy: 0.7143\n",
      "Epoch 19/100\n",
      "5/5 [==============================] - 0s 53ms/step - loss: 0.5996 - accuracy: 0.7310 - val_loss: 0.5995 - val_accuracy: 0.7937\n",
      "Epoch 20/100\n",
      "5/5 [==============================] - 0s 51ms/step - loss: 0.5813 - accuracy: 0.7724 - val_loss: 0.5850 - val_accuracy: 0.7460\n",
      "Epoch 21/100\n",
      "5/5 [==============================] - 0s 43ms/step - loss: 0.5667 - accuracy: 0.8000 - val_loss: 0.5683 - val_accuracy: 0.7460\n",
      "Epoch 22/100\n",
      "5/5 [==============================] - 0s 89ms/step - loss: 0.5523 - accuracy: 0.8000 - val_loss: 0.5545 - val_accuracy: 0.7937\n",
      "Epoch 23/100\n",
      "5/5 [==============================] - 0s 92ms/step - loss: 0.5381 - accuracy: 0.8069 - val_loss: 0.5404 - val_accuracy: 0.8095\n",
      "Epoch 24/100\n",
      "5/5 [==============================] - 0s 64ms/step - loss: 0.5257 - accuracy: 0.8000 - val_loss: 0.5311 - val_accuracy: 0.7460\n",
      "Epoch 25/100\n",
      "5/5 [==============================] - 0s 95ms/step - loss: 0.5114 - accuracy: 0.8207 - val_loss: 0.5175 - val_accuracy: 0.8095\n",
      "Epoch 26/100\n",
      "5/5 [==============================] - 0s 51ms/step - loss: 0.4969 - accuracy: 0.8207 - val_loss: 0.5079 - val_accuracy: 0.8095\n",
      "Epoch 27/100\n",
      "5/5 [==============================] - 0s 35ms/step - loss: 0.4873 - accuracy: 0.7931 - val_loss: 0.5015 - val_accuracy: 0.8254\n",
      "Epoch 28/100\n",
      "5/5 [==============================] - 0s 37ms/step - loss: 0.4776 - accuracy: 0.8207 - val_loss: 0.4926 - val_accuracy: 0.7937\n",
      "Epoch 29/100\n",
      "5/5 [==============================] - 0s 39ms/step - loss: 0.4676 - accuracy: 0.8345 - val_loss: 0.4850 - val_accuracy: 0.8254\n",
      "Epoch 30/100\n",
      "5/5 [==============================] - 0s 39ms/step - loss: 0.4588 - accuracy: 0.8069 - val_loss: 0.4798 - val_accuracy: 0.8254\n",
      "Epoch 31/100\n",
      "5/5 [==============================] - 0s 50ms/step - loss: 0.4514 - accuracy: 0.8276 - val_loss: 0.4722 - val_accuracy: 0.8254\n",
      "Epoch 32/100\n",
      "5/5 [==============================] - 0s 54ms/step - loss: 0.4437 - accuracy: 0.8345 - val_loss: 0.4681 - val_accuracy: 0.8095\n",
      "Epoch 33/100\n",
      "5/5 [==============================] - 0s 36ms/step - loss: 0.4385 - accuracy: 0.8552 - val_loss: 0.4650 - val_accuracy: 0.8254\n",
      "Epoch 34/100\n",
      "5/5 [==============================] - 0s 38ms/step - loss: 0.4301 - accuracy: 0.8552 - val_loss: 0.4603 - val_accuracy: 0.7937\n",
      "Epoch 35/100\n",
      "5/5 [==============================] - 0s 40ms/step - loss: 0.4243 - accuracy: 0.8621 - val_loss: 0.4567 - val_accuracy: 0.7937\n",
      "Epoch 36/100\n",
      "5/5 [==============================] - 0s 38ms/step - loss: 0.4196 - accuracy: 0.8483 - val_loss: 0.4556 - val_accuracy: 0.8254\n",
      "Epoch 37/100\n",
      "5/5 [==============================] - 0s 71ms/step - loss: 0.4115 - accuracy: 0.8621 - val_loss: 0.4481 - val_accuracy: 0.7937\n",
      "Epoch 38/100\n",
      "5/5 [==============================] - 0s 70ms/step - loss: 0.4068 - accuracy: 0.8483 - val_loss: 0.4438 - val_accuracy: 0.7937\n",
      "Epoch 39/100\n",
      "5/5 [==============================] - 0s 56ms/step - loss: 0.4001 - accuracy: 0.8759 - val_loss: 0.4409 - val_accuracy: 0.8254\n",
      "Epoch 40/100\n",
      "5/5 [==============================] - 0s 53ms/step - loss: 0.3975 - accuracy: 0.8621 - val_loss: 0.4386 - val_accuracy: 0.8254\n",
      "Epoch 41/100\n",
      "5/5 [==============================] - 0s 53ms/step - loss: 0.3925 - accuracy: 0.8690 - val_loss: 0.4349 - val_accuracy: 0.8095\n",
      "Epoch 42/100\n",
      "5/5 [==============================] - 0s 49ms/step - loss: 0.3866 - accuracy: 0.8828 - val_loss: 0.4352 - val_accuracy: 0.8095\n",
      "Epoch 43/100\n",
      "5/5 [==============================] - 0s 52ms/step - loss: 0.3819 - accuracy: 0.8828 - val_loss: 0.4323 - val_accuracy: 0.8095\n",
      "Epoch 44/100\n",
      "5/5 [==============================] - 0s 37ms/step - loss: 0.3783 - accuracy: 0.8759 - val_loss: 0.4304 - val_accuracy: 0.8095\n",
      "Epoch 45/100\n",
      "5/5 [==============================] - 0s 74ms/step - loss: 0.3744 - accuracy: 0.8828 - val_loss: 0.4268 - val_accuracy: 0.8413\n",
      "Epoch 46/100\n",
      "5/5 [==============================] - 0s 54ms/step - loss: 0.3700 - accuracy: 0.8828 - val_loss: 0.4240 - val_accuracy: 0.8095\n",
      "Epoch 47/100\n",
      "5/5 [==============================] - 0s 62ms/step - loss: 0.3645 - accuracy: 0.8759 - val_loss: 0.4251 - val_accuracy: 0.8413\n",
      "Epoch 48/100\n",
      "5/5 [==============================] - 0s 42ms/step - loss: 0.3615 - accuracy: 0.8759 - val_loss: 0.4222 - val_accuracy: 0.8095\n",
      "Epoch 49/100\n",
      "5/5 [==============================] - 0s 40ms/step - loss: 0.3574 - accuracy: 0.8690 - val_loss: 0.4226 - val_accuracy: 0.8254\n",
      "Epoch 50/100\n",
      "5/5 [==============================] - 0s 38ms/step - loss: 0.3557 - accuracy: 0.8690 - val_loss: 0.4219 - val_accuracy: 0.8254\n",
      "Epoch 51/100\n",
      "5/5 [==============================] - 0s 26ms/step - loss: 0.3507 - accuracy: 0.8828 - val_loss: 0.4178 - val_accuracy: 0.8254\n",
      "Epoch 52/100\n",
      "5/5 [==============================] - 0s 40ms/step - loss: 0.3487 - accuracy: 0.8759 - val_loss: 0.4163 - val_accuracy: 0.8254\n",
      "Epoch 53/100\n",
      "5/5 [==============================] - 0s 42ms/step - loss: 0.3435 - accuracy: 0.8828 - val_loss: 0.4132 - val_accuracy: 0.8254\n",
      "Epoch 54/100\n",
      "5/5 [==============================] - 0s 40ms/step - loss: 0.3408 - accuracy: 0.8897 - val_loss: 0.4128 - val_accuracy: 0.8254\n",
      "Epoch 55/100\n",
      "5/5 [==============================] - 0s 41ms/step - loss: 0.3404 - accuracy: 0.8690 - val_loss: 0.4153 - val_accuracy: 0.8571\n",
      "Epoch 56/100\n",
      "5/5 [==============================] - 0s 33ms/step - loss: 0.3355 - accuracy: 0.8759 - val_loss: 0.4073 - val_accuracy: 0.8413\n",
      "Epoch 57/100\n",
      "5/5 [==============================] - 0s 43ms/step - loss: 0.3325 - accuracy: 0.8897 - val_loss: 0.4078 - val_accuracy: 0.8095\n",
      "Epoch 58/100\n",
      "5/5 [==============================] - 0s 52ms/step - loss: 0.3277 - accuracy: 0.8759 - val_loss: 0.4052 - val_accuracy: 0.8095\n",
      "Epoch 59/100\n",
      "5/5 [==============================] - 0s 31ms/step - loss: 0.3255 - accuracy: 0.8897 - val_loss: 0.4052 - val_accuracy: 0.8413\n",
      "Epoch 60/100\n",
      "5/5 [==============================] - 0s 41ms/step - loss: 0.3219 - accuracy: 0.8966 - val_loss: 0.4041 - val_accuracy: 0.8413\n",
      "Epoch 61/100\n",
      "5/5 [==============================] - 0s 65ms/step - loss: 0.3198 - accuracy: 0.8897 - val_loss: 0.4073 - val_accuracy: 0.8571\n",
      "Epoch 62/100\n",
      "5/5 [==============================] - 0s 61ms/step - loss: 0.3163 - accuracy: 0.8828 - val_loss: 0.4037 - val_accuracy: 0.8254\n",
      "Epoch 63/100\n",
      "5/5 [==============================] - 0s 68ms/step - loss: 0.3147 - accuracy: 0.8966 - val_loss: 0.4029 - val_accuracy: 0.8413\n",
      "Epoch 64/100\n",
      "5/5 [==============================] - 0s 67ms/step - loss: 0.3102 - accuracy: 0.8966 - val_loss: 0.4058 - val_accuracy: 0.8413\n",
      "Epoch 65/100\n",
      "5/5 [==============================] - 0s 87ms/step - loss: 0.3075 - accuracy: 0.9034 - val_loss: 0.4069 - val_accuracy: 0.8413\n",
      "Epoch 66/100\n",
      "5/5 [==============================] - 0s 91ms/step - loss: 0.3050 - accuracy: 0.9034 - val_loss: 0.4050 - val_accuracy: 0.8413\n",
      "Epoch 67/100\n",
      "5/5 [==============================] - 0s 70ms/step - loss: 0.3022 - accuracy: 0.9034 - val_loss: 0.4076 - val_accuracy: 0.8571\n",
      "Epoch 68/100\n",
      "5/5 [==============================] - 0s 47ms/step - loss: 0.2996 - accuracy: 0.9034 - val_loss: 0.4028 - val_accuracy: 0.8413\n",
      "Epoch 69/100\n",
      "5/5 [==============================] - 0s 57ms/step - loss: 0.3004 - accuracy: 0.9034 - val_loss: 0.4015 - val_accuracy: 0.8413\n",
      "Epoch 70/100\n",
      "5/5 [==============================] - 0s 47ms/step - loss: 0.2926 - accuracy: 0.8966 - val_loss: 0.4069 - val_accuracy: 0.8413\n",
      "Epoch 71/100\n",
      "5/5 [==============================] - 0s 58ms/step - loss: 0.2943 - accuracy: 0.8828 - val_loss: 0.4051 - val_accuracy: 0.8571\n",
      "Epoch 72/100\n",
      "5/5 [==============================] - 0s 48ms/step - loss: 0.2875 - accuracy: 0.8966 - val_loss: 0.4013 - val_accuracy: 0.8413\n",
      "Epoch 73/100\n",
      "5/5 [==============================] - 0s 44ms/step - loss: 0.2898 - accuracy: 0.8897 - val_loss: 0.4036 - val_accuracy: 0.8413\n",
      "Epoch 74/100\n",
      "5/5 [==============================] - 0s 40ms/step - loss: 0.2810 - accuracy: 0.9034 - val_loss: 0.4080 - val_accuracy: 0.8571\n",
      "Epoch 75/100\n",
      "5/5 [==============================] - 0s 62ms/step - loss: 0.2822 - accuracy: 0.9034 - val_loss: 0.4100 - val_accuracy: 0.8571\n",
      "Epoch 76/100\n",
      "5/5 [==============================] - 0s 49ms/step - loss: 0.2791 - accuracy: 0.9034 - val_loss: 0.4027 - val_accuracy: 0.8571\n",
      "Epoch 77/100\n",
      "5/5 [==============================] - 0s 65ms/step - loss: 0.2748 - accuracy: 0.9034 - val_loss: 0.4013 - val_accuracy: 0.8413\n",
      "Epoch 78/100\n",
      "5/5 [==============================] - 0s 66ms/step - loss: 0.2739 - accuracy: 0.8966 - val_loss: 0.4036 - val_accuracy: 0.8730\n",
      "Epoch 79/100\n",
      "5/5 [==============================] - 0s 75ms/step - loss: 0.2722 - accuracy: 0.9103 - val_loss: 0.4035 - val_accuracy: 0.8730\n",
      "Epoch 80/100\n",
      "5/5 [==============================] - 0s 67ms/step - loss: 0.2687 - accuracy: 0.9034 - val_loss: 0.4019 - val_accuracy: 0.8413\n",
      "Epoch 81/100\n",
      "5/5 [==============================] - 0s 81ms/step - loss: 0.2668 - accuracy: 0.9034 - val_loss: 0.4023 - val_accuracy: 0.8730\n",
      "Epoch 82/100\n",
      "5/5 [==============================] - 0s 77ms/step - loss: 0.2674 - accuracy: 0.9034 - val_loss: 0.4084 - val_accuracy: 0.8571\n",
      "Epoch 83/100\n",
      "5/5 [==============================] - 0s 68ms/step - loss: 0.2643 - accuracy: 0.9034 - val_loss: 0.4053 - val_accuracy: 0.8730\n",
      "Epoch 84/100\n",
      "5/5 [==============================] - 0s 65ms/step - loss: 0.2609 - accuracy: 0.9034 - val_loss: 0.4015 - val_accuracy: 0.8254\n",
      "Epoch 85/100\n",
      "5/5 [==============================] - 0s 49ms/step - loss: 0.2616 - accuracy: 0.9034 - val_loss: 0.4039 - val_accuracy: 0.8254\n",
      "Epoch 86/100\n",
      "5/5 [==============================] - 0s 61ms/step - loss: 0.2539 - accuracy: 0.9103 - val_loss: 0.4098 - val_accuracy: 0.8730\n",
      "Epoch 87/100\n",
      "5/5 [==============================] - 0s 50ms/step - loss: 0.2619 - accuracy: 0.9103 - val_loss: 0.4189 - val_accuracy: 0.8413\n",
      "Epoch 88/100\n",
      "5/5 [==============================] - 0s 89ms/step - loss: 0.2557 - accuracy: 0.8966 - val_loss: 0.4058 - val_accuracy: 0.8254\n",
      "Epoch 89/100\n",
      "5/5 [==============================] - 0s 99ms/step - loss: 0.2571 - accuracy: 0.9034 - val_loss: 0.4079 - val_accuracy: 0.8254\n",
      "Epoch 90/100\n",
      "5/5 [==============================] - 0s 75ms/step - loss: 0.2461 - accuracy: 0.9103 - val_loss: 0.4168 - val_accuracy: 0.8730\n",
      "Epoch 91/100\n",
      "5/5 [==============================] - 1s 102ms/step - loss: 0.2503 - accuracy: 0.9103 - val_loss: 0.4250 - val_accuracy: 0.8254\n",
      "Epoch 92/100\n",
      "5/5 [==============================] - 1s 115ms/step - loss: 0.2483 - accuracy: 0.9034 - val_loss: 0.4105 - val_accuracy: 0.8413\n",
      "Epoch 93/100\n",
      "5/5 [==============================] - 0s 79ms/step - loss: 0.2433 - accuracy: 0.9103 - val_loss: 0.4092 - val_accuracy: 0.8413\n",
      "Epoch 94/100\n",
      "5/5 [==============================] - 0s 43ms/step - loss: 0.2416 - accuracy: 0.9172 - val_loss: 0.4126 - val_accuracy: 0.8571\n",
      "Epoch 95/100\n",
      "5/5 [==============================] - 0s 50ms/step - loss: 0.2382 - accuracy: 0.9172 - val_loss: 0.4139 - val_accuracy: 0.8571\n",
      "Epoch 96/100\n",
      "5/5 [==============================] - 1s 107ms/step - loss: 0.2362 - accuracy: 0.9103 - val_loss: 0.4133 - val_accuracy: 0.8571\n",
      "Epoch 97/100\n",
      "5/5 [==============================] - 0s 54ms/step - loss: 0.2343 - accuracy: 0.9103 - val_loss: 0.4119 - val_accuracy: 0.8571\n",
      "Epoch 98/100\n",
      "5/5 [==============================] - 0s 29ms/step - loss: 0.2330 - accuracy: 0.9103 - val_loss: 0.4091 - val_accuracy: 0.8571\n",
      "Epoch 99/100\n",
      "5/5 [==============================] - 0s 35ms/step - loss: 0.2307 - accuracy: 0.9034 - val_loss: 0.4132 - val_accuracy: 0.8571\n",
      "Epoch 100/100\n",
      "5/5 [==============================] - 0s 41ms/step - loss: 0.2301 - accuracy: 0.9103 - val_loss: 0.4112 - val_accuracy: 0.8571\n"
     ]
    }
   ],
   "source": [
    "model = Sequential()\n",
    "model.add(Dense(24,  input_dim=60, activation='relu'))\n",
    "model.add(Dense(10, activation='relu'))\n",
    "model.add(Dense(1, activation='sigmoid'))\n",
    "\n",
    "model.compile(loss='binary_crossentropy',\n",
    "            optimizer='adam',\n",
    "            metrics=['accuracy'])\n",
    "\n",
    "history = model.fit(X_train, Y_train, epochs=100,verbose=1,validation_data=(X_test, Y_test)\n",
    "          ,callbacks=[tensorboard_callback]) # batch_size=5,verbose=0"
   ]
  },
  {
   "cell_type": "code",
   "execution_count": 179,
   "metadata": {},
   "outputs": [
    {
     "name": "stdout",
     "output_type": "stream",
     "text": [
      "2/2 [==============================] - 0s 11ms/step - loss: 0.4112 - accuracy: 0.8571\n",
      "\n",
      " Test Accuracy: 0.8571\n"
     ]
    }
   ],
   "source": [
    "# 테스트셋에 모델 적용\n",
    "print(\"\\n Test Accuracy: %.4f\" % (model.evaluate(X_test, Y_test)[1]))"
   ]
  },
  {
   "cell_type": "code",
   "execution_count": 146,
   "metadata": {},
   "outputs": [
    {
     "data": {
      "text/plain": [
       "0.1786634152567618"
      ]
     },
     "execution_count": 146,
     "metadata": {},
     "output_type": "execute_result"
    }
   ],
   "source": [
    "numpy.mean((model.predict(X_test).reshape(-1)-Y_test)**2)"
   ]
  },
  {
   "cell_type": "code",
   "execution_count": 167,
   "metadata": {},
   "outputs": [],
   "source": [
    "bc_loss = bc(model.predict(X_test),Y_test.reshape(-1,1) )"
   ]
  },
  {
   "cell_type": "code",
   "execution_count": 162,
   "metadata": {},
   "outputs": [
    {
     "data": {
      "text/plain": [
       "['__call__',\n",
       " '__class__',\n",
       " '__delattr__',\n",
       " '__dict__',\n",
       " '__dir__',\n",
       " '__doc__',\n",
       " '__eq__',\n",
       " '__format__',\n",
       " '__ge__',\n",
       " '__getattribute__',\n",
       " '__gt__',\n",
       " '__hash__',\n",
       " '__init__',\n",
       " '__init_subclass__',\n",
       " '__le__',\n",
       " '__lt__',\n",
       " '__module__',\n",
       " '__ne__',\n",
       " '__new__',\n",
       " '__reduce__',\n",
       " '__reduce_ex__',\n",
       " '__repr__',\n",
       " '__setattr__',\n",
       " '__sizeof__',\n",
       " '__str__',\n",
       " '__subclasshook__',\n",
       " '__weakref__',\n",
       " '_get_reduction',\n",
       " '_keras_api_names',\n",
       " '_keras_api_names_v1',\n",
       " '_set_name_scope',\n",
       " 'call',\n",
       " 'from_config',\n",
       " 'get_config']"
      ]
     },
     "execution_count": 162,
     "metadata": {},
     "output_type": "execute_result"
    }
   ],
   "source": [
    "dir(bc)"
   ]
  },
  {
   "cell_type": "code",
   "execution_count": 166,
   "metadata": {},
   "outputs": [
    {
     "data": {
      "text/plain": [
       "<tensorflow.python.keras.losses.BinaryCrossentropy at 0x177c6c42ac8>"
      ]
     },
     "execution_count": 166,
     "metadata": {},
     "output_type": "execute_result"
    }
   ],
   "source": [
    "bc(model.predict(X_test).reshape(-1),Y_test.reshape(-1,1))"
   ]
  },
  {
   "cell_type": "code",
   "execution_count": 111,
   "metadata": {},
   "outputs": [],
   "source": [
    "from keras import losses"
   ]
  },
  {
   "cell_type": "code",
   "execution_count": 114,
   "metadata": {},
   "outputs": [],
   "source": [
    "from keras.losses import mse "
   ]
  },
  {
   "cell_type": "code",
   "execution_count": 136,
   "metadata": {},
   "outputs": [],
   "source": [
    "from keras.losses import BinaryCrossentropy as bc"
   ]
  },
  {
   "cell_type": "code",
   "execution_count": null,
   "metadata": {},
   "outputs": [],
   "source": []
  },
  {
   "cell_type": "code",
   "execution_count": 112,
   "metadata": {},
   "outputs": [
    {
     "data": {
      "text/plain": [
       "['BinaryCrossentropy',\n",
       " 'CategoricalCrossentropy',\n",
       " 'CategoricalHinge',\n",
       " 'CosineSimilarity',\n",
       " 'Hinge',\n",
       " 'Huber',\n",
       " 'KLD',\n",
       " 'KLDivergence',\n",
       " 'LogCosh',\n",
       " 'Loss',\n",
       " 'MAE',\n",
       " 'MAPE',\n",
       " 'MSE',\n",
       " 'MSLE',\n",
       " 'MeanAbsoluteError',\n",
       " 'MeanAbsolutePercentageError',\n",
       " 'MeanSquaredError',\n",
       " 'MeanSquaredLogarithmicError',\n",
       " 'Poisson',\n",
       " 'Reduction',\n",
       " 'SparseCategoricalCrossentropy',\n",
       " 'SquaredHinge',\n",
       " '__builtins__',\n",
       " '__cached__',\n",
       " '__doc__',\n",
       " '__file__',\n",
       " '__loader__',\n",
       " '__name__',\n",
       " '__package__',\n",
       " '__spec__',\n",
       " 'binary_crossentropy',\n",
       " 'categorical_crossentropy',\n",
       " 'categorical_hinge',\n",
       " 'cosine_similarity',\n",
       " 'deserialize',\n",
       " 'get',\n",
       " 'hinge',\n",
       " 'kld',\n",
       " 'kullback_leibler_divergence',\n",
       " 'logcosh',\n",
       " 'mae',\n",
       " 'mape',\n",
       " 'mean_absolute_error',\n",
       " 'mean_absolute_percentage_error',\n",
       " 'mean_squared_error',\n",
       " 'mean_squared_logarithmic_error',\n",
       " 'mse',\n",
       " 'msle',\n",
       " 'poisson',\n",
       " 'serialize',\n",
       " 'sparse_categorical_crossentropy',\n",
       " 'squared_hinge']"
      ]
     },
     "execution_count": 112,
     "metadata": {},
     "output_type": "execute_result"
    }
   ],
   "source": [
    "dir(losses)"
   ]
  },
  {
   "cell_type": "code",
   "execution_count": 107,
   "metadata": {},
   "outputs": [],
   "source": [
    "model.save('test.h5')"
   ]
  },
  {
   "cell_type": "code",
   "execution_count": 180,
   "metadata": {},
   "outputs": [
    {
     "data": {
      "text/plain": [
       "Reusing TensorBoard on port 6006 (pid 4188), started 12:20:48 ago. (Use '!kill 4188' to kill it.)"
      ]
     },
     "metadata": {},
     "output_type": "display_data"
    },
    {
     "data": {
      "text/html": [
       "\n",
       "      <iframe id=\"tensorboard-frame-bc003158b0a79ca3\" width=\"100%\" height=\"800\" frameborder=\"0\">\n",
       "      </iframe>\n",
       "      <script>\n",
       "        (function() {\n",
       "          const frame = document.getElementById(\"tensorboard-frame-bc003158b0a79ca3\");\n",
       "          const url = new URL(\"/\", window.location);\n",
       "          url.port = 6006;\n",
       "          frame.src = url;\n",
       "        })();\n",
       "      </script>\n",
       "  "
      ],
      "text/plain": [
       "<IPython.core.display.HTML object>"
      ]
     },
     "metadata": {},
     "output_type": "display_data"
    }
   ],
   "source": [
    "%tensorboard --logdir logs/fit #--host=localhsot"
   ]
  },
  {
   "cell_type": "code",
   "execution_count": 108,
   "metadata": {},
   "outputs": [
    {
     "name": "stderr",
     "output_type": "stream",
     "text": [
      "2021-01-25 04:38:43.325423: W tensorflow/stream_executor/platform/default/dso_loader.cc:55] Could not load dynamic library 'cudart64_101.dll'; dlerror: cudart64_101.dll not found\n",
      "2021-01-25 04:38:43.325447: I tensorflow/stream_executor/cuda/cudart_stub.cc:29] Ignore above cudart dlerror if you do not have a GPU set up on your machine.\n",
      "usage: tensorboard [-h] [--helpfull] {serve,dev} ...\n",
      "tensorboard: error: unrecognized arguments: --one_shot\n"
     ]
    }
   ],
   "source": [
    "!tensorboard dev upload \\\n",
    "  --logdir logs/fit \\\n",
    "  --name \"(optional) My latest experiment\" \\\n",
    "  --description \"(optional) Simple comparison of several hyperparameters\" \\\n",
    "  --one_shot"
   ]
  },
  {
   "cell_type": "code",
   "execution_count": 86,
   "metadata": {},
   "outputs": [
    {
     "name": "stdout",
     "output_type": "stream",
     "text": [
      "Requirement already satisfied: pydot in c:\\users\\epsilon\\dev\\anaconda\\envs\\fortf\\lib\\site-packages (1.4.1)\n",
      "Requirement already satisfied: graphviz in c:\\users\\epsilon\\dev\\anaconda\\envs\\fortf\\lib\\site-packages (0.16)\n",
      "Requirement already satisfied: pyparsing>=2.1.4 in c:\\users\\epsilon\\dev\\anaconda\\envs\\fortf\\lib\\site-packages (from pydot) (2.4.7)\n"
     ]
    }
   ],
   "source": [
    "!pip install pydot graphviz"
   ]
  },
  {
   "cell_type": "code",
   "execution_count": 88,
   "metadata": {},
   "outputs": [
    {
     "name": "stdout",
     "output_type": "stream",
     "text": [
      "Failed to import pydot. You must install pydot and graphviz for `pydotprint` to work.\n"
     ]
    },
    {
     "data": {
      "text/plain": [
       "<IPython.core.display.SVG object>"
      ]
     },
     "execution_count": 88,
     "metadata": {},
     "output_type": "execute_result"
    }
   ],
   "source": [
    "from IPython.display import SVG\n",
    "from keras.utils.vis_utils import model_to_dot\n",
    "\n",
    "%matplotlib inline\n",
    "\n",
    "SVG(model_to_dot(model, show_shapes=True)) # .create(prog='dot', format='svg')"
   ]
  },
  {
   "cell_type": "code",
   "execution_count": 83,
   "metadata": {},
   "outputs": [
    {
     "data": {
      "text/plain": [
       "<tensorflow.python.keras.callbacks.History at 0x177bfdcddd8>"
      ]
     },
     "execution_count": 83,
     "metadata": {},
     "output_type": "execute_result"
    }
   ],
   "source": [
    "model = Sequential()\n",
    "model.add(Dense(24,  input_dim=60, activation='relu'))\n",
    "model.add(Dense(10, activation='relu'))\n",
    "model.add(Dense(1, activation='sigmoid'))\n",
    "\n",
    "model.compile(loss='mean_squared_error',\n",
    "            optimizer='adam',\n",
    "            metrics=['accuracy'])\n",
    "\n",
    "model.fit(X_train, Y_train, epochs=130, batch_size=5,verbose=0)"
   ]
  },
  {
   "cell_type": "code",
   "execution_count": 5,
   "metadata": {},
   "outputs": [],
   "source": [
    "# 테스트셋에 모델 적용\n",
    "print(\"\\n Test Accuracy: %.4f\" % (model.evaluate(X_test, Y_test)[1]))"
   ]
  }
 ],
 "metadata": {
  "kernelspec": {
   "display_name": "Python 3",
   "language": "python",
   "name": "python3"
  },
  "language_info": {
   "codemirror_mode": {
    "name": "ipython",
    "version": 3
   },
   "file_extension": ".py",
   "mimetype": "text/x-python",
   "name": "python",
   "nbconvert_exporter": "python",
   "pygments_lexer": "ipython3",
   "version": "3.8.5"
  }
 },
 "nbformat": 4,
 "nbformat_minor": 4
}
