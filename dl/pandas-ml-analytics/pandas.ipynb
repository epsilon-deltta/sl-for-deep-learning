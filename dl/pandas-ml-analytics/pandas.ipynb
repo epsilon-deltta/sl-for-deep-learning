{
 "cells": [
  {
   "cell_type": "code",
   "execution_count": 1,
   "id": "rough-compact",
   "metadata": {},
   "outputs": [],
   "source": [
    "import pandas as pd\n",
    "import numpy as np\n",
    "import seaborn as sns\n",
    "import matplotlib.pyplot as plt"
   ]
  },
  {
   "cell_type": "markdown",
   "id": "registered-printer",
   "metadata": {},
   "source": [
    "#### Series "
   ]
  },
  {
   "cell_type": "code",
   "execution_count": 17,
   "id": "surprised-criminal",
   "metadata": {},
   "outputs": [
    {
     "data": {
      "text/plain": [
       "b    1\n",
       "d    3\n",
       "dtype: int64"
      ]
     },
     "execution_count": 17,
     "metadata": {},
     "output_type": "execute_result"
    }
   ],
   "source": [
    "# dict > series\n",
    "dd =dict(zip(list('abcdefg'),range(7) )  )\n",
    "\n",
    "sr = pd.Series(dd)\n",
    "\n",
    "idx = sr.index\n",
    "val = sr.values\n",
    "sr[:3]\n",
    "sr[[1,3]]"
   ]
  },
  {
   "cell_type": "markdown",
   "id": "supposed-michael",
   "metadata": {},
   "source": [
    "#### pandas "
   ]
  },
  {
   "cell_type": "code",
   "execution_count": 61,
   "id": "significant-pursuit",
   "metadata": {},
   "outputs": [],
   "source": [
    "# 열이름을 key로 하고, 리스트를 value로 갖는 딕셔너리 정의(2차원 배열)\n",
    "dict_data = {'c0':[1,2,3], 'c1':[4,5,6], 'c2':[7,8,9], 'c3':[10,11,12], 'c4':[13,14,15]}\n",
    "\n",
    "# 판다스 DataFrame() 함수로 딕셔너리를 데이터프레임으로 변환. 변수 df에 저장. \n",
    "df = pd.DataFrame(dict_data)\n",
    "\n",
    "df = pd.DataFrame([[15, '남', '덕영중'], [17, '여', '수리중']], \n",
    "                   index=['준서', '예은'],\n",
    "                   columns=['나이', '성별', '학교'])\n",
    "\n",
    "df.index=['학생1', '학생2']\n",
    "df.columns=['연령', '남녀', '소속']\n",
    "\n",
    "df.rename(columns={'나이':'연령', '성별':'남녀', '학교':'소속'}, inplace=True)\n",
    "\n",
    "df.drop(['학생1'])\n",
    "df.drop(['연령','남녀'],axis=1)\n",
    "\n",
    "dfr = pd.DataFrame(np.random.randint(0,10,(6,5) ),\n",
    "                   columns=['a','b','c','d','e']  )\n",
    "\n",
    "# index\n",
    "dfr.set_index('a')\n",
    "dfr.reset_index()\n",
    "dfr.sort_index()\n",
    "dfr.sort_values(['a','c'])"
   ]
  },
  {
   "cell_type": "markdown",
   "id": "equipped-solid",
   "metadata": {},
   "source": [
    "#### read_* (csv ,html, json ..) "
   ]
  },
  {
   "cell_type": "code",
   "execution_count": null,
   "id": "imposed-notion",
   "metadata": {},
   "outputs": [],
   "source": [
    "df2 = pd.read_csv(file_path, header=None)\n",
    "df3 = pd.read_csv(file_path, index_col=None)\n",
    "df4 = pd.read_csv(file_path, index_col='c0')"
   ]
  },
  {
   "cell_type": "code",
   "execution_count": null,
   "id": "human-model",
   "metadata": {},
   "outputs": [],
   "source": [
    "df = pd.read_csv('./read_json_sample.json')  \n",
    "df = pd.read_excel('./read_json_sample.json')\n",
    "df = pd.read_html('./read_json_sample.json')\n",
    "\n",
    "df = pd.read_json('./read_json_sample.json')  \n",
    "\n",
    "writer = pd.ExcelWriter(\"./df_excelwriter.xlsx\")\n",
    "df1.to_excel(writer, sheet_name=\"sheet1\")\n",
    "df2.to_excel(writer, sheet_name=\"sheet2\")\n",
    "writer.save()"
   ]
  },
  {
   "cell_type": "markdown",
   "id": "every-casino",
   "metadata": {},
   "source": [
    "#### Requests & Beautiful Soup   "
   ]
  },
  {
   "cell_type": "code",
   "execution_count": null,
   "id": "binding-jesus",
   "metadata": {},
   "outputs": [],
   "source": [
    "from bs4 import BeautifulSoup\n",
    "import requests\n",
    "url = \"https://en.wikipedia.org/wiki/List_of_American_exchange-traded_funds\"\n",
    "resp = requests.get(url)\n",
    "soup = BeautifulSoup(resp.text, 'lxml')   \n",
    "rows = soup.select('div > ul > li')   \n",
    "\n",
    "etfs = {}\n",
    "for row in rows:\n",
    "    \n",
    "    try:\n",
    "        etf_name = re.findall('^(.*) \\(NYSE', row.text)\n",
    "        etf_market = re.findall('\\((.*)\\|', row.text)\n",
    "        etf_ticker = re.findall('NYSE Arca\\|(.*)\\)', row.text)\n",
    "        \n",
    "        if (len(etf_ticker) > 0) & (len(etf_market) > 0):\n",
    "            etfs[etf_ticker[0]] = [etf_market[0], etf_name[0]]\n",
    "\n",
    "    except AttributeError as err:\n",
    "        pass   "
   ]
  },
  {
   "cell_type": "code",
   "execution_count": 86,
   "id": "outdoor-genesis",
   "metadata": {},
   "outputs": [
    {
     "data": {
      "text/plain": [
       "a    5\n",
       "b    6\n",
       "c    6\n",
       "d    6\n",
       "e    6\n",
       "dtype: int64"
      ]
     },
     "execution_count": 86,
     "metadata": {},
     "output_type": "execute_result"
    }
   ],
   "source": [
    "dfr.count()"
   ]
  }
 ],
 "metadata": {
  "kernelspec": {
   "display_name": "kera",
   "language": "python",
   "name": "kera"
  },
  "language_info": {
   "codemirror_mode": {
    "name": "ipython",
    "version": 3
   },
   "file_extension": ".py",
   "mimetype": "text/x-python",
   "name": "python",
   "nbconvert_exporter": "python",
   "pygments_lexer": "ipython3",
   "version": "3.6.12"
  },
  "widgets": {
   "application/vnd.jupyter.widget-state+json": {
    "state": {},
    "version_major": 2,
    "version_minor": 0
   }
  }
 },
 "nbformat": 4,
 "nbformat_minor": 5
}
