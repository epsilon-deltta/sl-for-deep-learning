{
 "cells": [
  {
   "cell_type": "code",
   "execution_count": null,
   "id": "47a22cbc-f66b-4d34-a92f-87e92e3183a0",
   "metadata": {},
   "outputs": [],
   "source": [
    "# BICUBIC ,BILINEAR,NEAREST\n",
    "from torchvision.transforms import InterpolationMode\n",
    "fc.to_pil_image(torchvision.transforms.Resize((300,300),InterpolationMode.BILINEAR)(img) )"
   ]
  },
  {
   "cell_type": "code",
   "execution_count": null,
   "id": "426535c1-9af8-4653-a8a2-e69dcabe4a9d",
   "metadata": {},
   "outputs": [],
   "source": [
    "# torchvision utils make_grid\n",
    "import torchvision\n",
    "from torchvision.transforms import functional as fc\n",
    "%matplotlib inline\n",
    "from matplotlib import pyplot as plt\n",
    "plt.imshow(fc.to_pil_image(torchvision.utils.make_grid(images) )  )\n",
    "[56]:\n",
    "<matplotlib.image.AxesImage at 0x7f3af02fe8d0>"
   ]
  },
  {
   "cell_type": "code",
   "execution_count": null,
   "id": "3fa63f63-0f80-4169-8936-92101751a0ee",
   "metadata": {},
   "outputs": [],
   "source": [
    "# netron in python\n",
    "from IPython.core.display import HTML\n",
    "import netron\n",
    "netron.start('./squeezenet1.0-3.onnx')\n",
    "HTML(\"<iframe src='http://localhost:8080/' width='100%%' height='600px' />\")"
   ]
  },
  {
   "cell_type": "code",
   "execution_count": null,
   "id": "bf4749ed-e21a-4456-96c6-681c9e91dcca",
   "metadata": {},
   "outputs": [],
   "source": [
    "# save as a onnx model  \n",
    "torch.onnx.export(model, dummy_data, \"output.onnx\")"
   ]
  },
  {
   "cell_type": "markdown",
   "id": "0f70db70-c679-40f6-a5a6-9e0e2c0eb1d7",
   "metadata": {},
   "source": [
    "#### tensorboard "
   ]
  },
  {
   "cell_type": "code",
   "execution_count": null,
   "id": "96c32b4e-8b53-459c-89b0-8736df7577a0",
   "metadata": {},
   "outputs": [],
   "source": [
    "from tensorboard import notebook\n",
    "notebook.list() # View open TensorBoard instances"
   ]
  },
  {
   "cell_type": "markdown",
   "id": "d1ba22fb-4c8b-4075-b921-5f6d3c50d79f",
   "metadata": {},
   "source": [
    "#### split info"
   ]
  },
  {
   "cell_type": "code",
   "execution_count": null,
   "id": "55fa73ac-5100-4537-85e5-cf2396f712bf",
   "metadata": {},
   "outputs": [],
   "source": [
    "path       = 'k-fashion/train.json'\n",
    "coco       = COCO(path)\n",
    "\n",
    "xid = list(coco.imgToAnns.keys())\n",
    "\n",
    "xfiles = [x['file_name'] for x in coco.loadImgs(xid)]\n",
    "\n",
    "train,test = sel.train_test_split(xfiles,train_size=0.095)\n",
    "val,test   = sel.train_test_split(xfiles,train_size=0.074)\n",
    "test,rest  = sel.train_test_split(xfiles,train_size=0.1)\n",
    "len(train),len(val),len(test)\n",
    "\n",
    "with open(os.path.join('k-fashion','train_split_path.txt'),'wt')  as f: \n",
    "    f.write('\\n'.join(train))\n",
    "\n",
    "with open(os.path.join('k-fashion','val_split_path.txt') ,'wt')  as f: \n",
    "    f.write('\\n'.join(val))\n",
    "\n",
    "with open(os.path.join('k-fashion','test_split_path.txt') ,'wt')  as f: \n",
    "    f.write('\\n'.join(test))\n",
    "\n",
    "# transform file names to ids\n",
    "name2id = {x['file_name']:x['id'] for x in coco.loadImgs(xid)}\n",
    "\n",
    "with open(os.path.join('k-fashion','train_split_path.txt') ,'r')  as f: \n",
    "    t  = [fname.replace('\\n','') for fname in f.readlines()]\n",
    "    with open(os.path.join('k-fashion','train_split.txt') ,'w')  as p: \n",
    "        ids = [str(name2id[fname]) for fname in t]\n",
    "        p.write('\\n'.join(ids))\n",
    "        \n",
    "with open(os.path.join('k-fashion','val_split_path.txt'  ) ,'r')  as f: \n",
    "    v  = [fname.replace('\\n','') for fname in f.readlines()]\n",
    "    with open(os.path.join('k-fashion','val_split.txt') ,'w')  as p: \n",
    "        ids = [str(name2id[fname]) for fname in v]\n",
    "        p.write('\\n'.join(ids))\n",
    "        \n",
    "with open(os.path.join('k-fashion','test_split_path.txt' ) ,'r')  as f: \n",
    "    te = [fname.replace('\\n','') for fname in f.readlines()]\n",
    "    with open(os.path.join('k-fashion','test_split.txt') ,'w')  as p: \n",
    "        ids = [str(name2id[fname]) for fname in te]\n",
    "        p.write('\\n'.join(ids))"
   ]
  },
  {
   "cell_type": "markdown",
   "id": "c2748420-53fb-4e73-b7c8-5f8339017e73",
   "metadata": {},
   "source": [
    "### model save&load "
   ]
  },
  {
   "cell_type": "code",
   "execution_count": null,
   "id": "16cf7cbb-980e-408f-a5c2-aabd9d4f91c5",
   "metadata": {},
   "outputs": [],
   "source": [
    "# total model\n",
    "torch.save(model,path)\n",
    "model = torch.load(path)"
   ]
  },
  {
   "cell_type": "code",
   "execution_count": null,
   "id": "fa9d59b9-6354-49e5-81ec-b904b560ad27",
   "metadata": {},
   "outputs": [],
   "source": [
    "# weight (simple)\n",
    "torch.save(model1.state_dict(),'./model/weight_test.pth')\n",
    "modelw.load_state_dict(torch.load('./model/weight_test.pth') )"
   ]
  },
  {
   "cell_type": "code",
   "execution_count": null,
   "id": "da92a985-dfbe-4020-8250-cecb461b4c65",
   "metadata": {},
   "outputs": [],
   "source": [
    "# weight (detail)\n",
    "torch.save({\n",
    "            'epoch': epoch,\n",
    "            'model_state_dict': model.state_dict(),\n",
    "            'optimizer_state_dict': optimizer.state_dict(),\n",
    "            'loss': loss,\n",
    "            ...\n",
    "            }, PATH)\n",
    "model = TheModelClass(*args, **kwargs)\n",
    "optimizer = TheOptimizerClass(*args, **kwargs)\n",
    "\n",
    "checkpoint = torch.load(PATH)\n",
    "model.load_state_dict(checkpoint['model_state_dict'])\n",
    "optimizer.load_state_dict(checkpoint['optimizer_state_dict'])\n",
    "epoch = checkpoint['epoch']\n",
    "loss = checkpoint['loss']"
   ]
  },
  {
   "cell_type": "markdown",
   "id": "ad939b5d-d505-4bc3-8258-a8b4f93f4f29",
   "metadata": {},
   "source": [
    "### image handle (PIL)"
   ]
  },
  {
   "cell_type": "code",
   "execution_count": null,
   "id": "6e9467f9-f019-4c07-9e2d-3dad80ba6e76",
   "metadata": {},
   "outputs": [],
   "source": [
    "# url image\n",
    "from PIL import Image \n",
    "import requests as rq\n",
    "import io\n",
    "url = 'https://www.inews365.com/data/photos/20191144/art_15727556161757.jpg'\n",
    "bimg = rq.get(url).content\n",
    "img = Image.open(io.BytesIO(bimg))\n",
    "\n",
    "url = 'http://www.cbiz.kr/news/photo/202008/19386_25763_5725.jpg'\n",
    "bimg0 = rq.get(url).content\n",
    "img0 = Image.open(io.BytesIO(bimg0))\n",
    "\n",
    "url = 'https://www.cju.ac.kr/DATA/editor/images/20200330/202003301606046080gD.jpg'\n",
    "bimg1 = rq.get(url).content\n",
    "img1 = Image.open(io.BytesIO(bimg1))\n",
    "\n",
    "from torchvision.transforms import ToTensor as tt\n",
    "import torchvision.transforms.functional as FT\n",
    "from PIL import ImageFilter\n",
    "img0 = img.filter(ImageFilter.BLUR)\n",
    "box = (180,75,210,118)\n",
    "img.crop(box)\n",
    "box = (180,75,210,118)\n",
    "hj = img.crop(box)\n",
    "img.paste(hj,(40,86))\n",
    "img.split()[0]\n",
    "a.point(lambda x : 0.5*x)\n",
    "i = 0\n",
    "a = img.split()[i] ; b = img00.split()[i]; c = img11.split()[i]\n",
    "mr = Image.merge('RGB',(c,c,a.point(lambda x: 0.5*x) )  )\n",
    "\n",
    "# convert between img modes\n",
    "mr.convert('L')"
   ]
  },
  {
   "cell_type": "code",
   "execution_count": null,
   "id": "52300dd7-94af-4b12-9802-521e05f42e7e",
   "metadata": {},
   "outputs": [],
   "source": [
    "#  draw rectangles ,text on picture\n",
    "from PIL import Image \n",
    "from PIL import ImageDraw as imd\n",
    "url = 'https://www.cju.ac.kr/DATA/editor/images/20191104/201911041020121314xL.png'\n",
    "import requests as rq\n",
    "import io\n",
    "img = Image.open(io.BytesIO(rq.get(url).content)  )\n",
    "\n",
    "hg_box = 240,75,273,130\n",
    "hj = img.crop(hg_box)\n",
    "\n",
    "img.paste(hj,(40,20))\n",
    "img.paste(hj,(490,20))\n",
    "\n",
    "dr = imd.Draw(img)\n",
    "dr.rectangle(hg_box)\n",
    "dr.text((30,30),'celebrate')"
   ]
  }
 ],
 "metadata": {
  "kernelspec": {
   "display_name": "p36_kernel",
   "language": "python",
   "name": "p36"
  },
  "language_info": {
   "codemirror_mode": {
    "name": "ipython",
    "version": 3
   },
   "file_extension": ".py",
   "mimetype": "text/x-python",
   "name": "python",
   "nbconvert_exporter": "python",
   "pygments_lexer": "ipython3",
   "version": "3.6.13"
  }
 },
 "nbformat": 4,
 "nbformat_minor": 5
}
