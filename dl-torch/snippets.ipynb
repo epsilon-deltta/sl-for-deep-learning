{
 "cells": [
  {
   "cell_type": "code",
   "execution_count": null,
   "id": "47a22cbc-f66b-4d34-a92f-87e92e3183a0",
   "metadata": {},
   "outputs": [],
   "source": [
    "# BICUBIC ,BILINEAR,NEAREST\n",
    "from torchvision.transforms import InterpolationMode\n",
    "fc.to_pil_image(torchvision.transforms.Resize((300,300),InterpolationMode.BILINEAR)(img) )"
   ]
  },
  {
   "cell_type": "code",
   "execution_count": null,
   "id": "426535c1-9af8-4653-a8a2-e69dcabe4a9d",
   "metadata": {},
   "outputs": [],
   "source": [
    "# torchvision utils make_grid\n",
    "import torchvision\n",
    "from torchvision.transforms import functional as fc\n",
    "%matplotlib inline\n",
    "from matplotlib import pyplot as plt\n",
    "plt.imshow(fc.to_pil_image(torchvision.utils.make_grid(images) )  )\n",
    "[56]:\n",
    "<matplotlib.image.AxesImage at 0x7f3af02fe8d0>"
   ]
  },
  {
   "cell_type": "code",
   "execution_count": null,
   "id": "3fa63f63-0f80-4169-8936-92101751a0ee",
   "metadata": {},
   "outputs": [],
   "source": [
    "# netron in python\n",
    "from IPython.core.display import HTML\n",
    "import netron\n",
    "netron.start('./squeezenet1.0-3.onnx')\n",
    "HTML(\"<iframe src='http://localhost:8080/' width='100%%' height='600px' />\")"
   ]
  },
  {
   "cell_type": "code",
   "execution_count": null,
   "id": "bf4749ed-e21a-4456-96c6-681c9e91dcca",
   "metadata": {},
   "outputs": [],
   "source": [
    "# save as a onnx model  \n",
    "torch.onnx.export(model, dummy_data, \"output.onnx\")"
   ]
  },
  {
   "cell_type": "markdown",
   "id": "0f70db70-c679-40f6-a5a6-9e0e2c0eb1d7",
   "metadata": {},
   "source": [
    "#### tensorboard "
   ]
  },
  {
   "cell_type": "code",
   "execution_count": null,
   "id": "96c32b4e-8b53-459c-89b0-8736df7577a0",
   "metadata": {},
   "outputs": [],
   "source": [
    "from tensorboard import notebook\n",
    "notebook.list() # View open TensorBoard instances"
   ]
  }
 ],
 "metadata": {
  "kernelspec": {
   "display_name": "p36_kernel",
   "language": "python",
   "name": "p36"
  },
  "language_info": {
   "codemirror_mode": {
    "name": "ipython",
    "version": 3
   },
   "file_extension": ".py",
   "mimetype": "text/x-python",
   "name": "python",
   "nbconvert_exporter": "python",
   "pygments_lexer": "ipython3",
   "version": "3.6.13"
  }
 },
 "nbformat": 4,
 "nbformat_minor": 5
}
