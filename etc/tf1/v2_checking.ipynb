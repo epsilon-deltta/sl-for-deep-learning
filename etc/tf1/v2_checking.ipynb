{
 "cells": [
  {
   "cell_type": "code",
   "execution_count": 1,
   "id": "short-seeker",
   "metadata": {},
   "outputs": [],
   "source": [
    "import tensorflow as tf"
   ]
  },
  {
   "cell_type": "code",
   "execution_count": 5,
   "id": "caroline-aluminum",
   "metadata": {},
   "outputs": [],
   "source": [
    "import tensorflow as tf\n",
    "(xtr, ytr), (xte, yte) = tf.keras.datasets.mnist.load_data()"
   ]
  },
  {
   "cell_type": "code",
   "execution_count": null,
   "id": "chemical-premium",
   "metadata": {},
   "outputs": [],
   "source": [
    "from tensorflow.keras.models"
   ]
  },
  {
   "cell_type": "code",
   "execution_count": 53,
   "id": "handed-scholar",
   "metadata": {},
   "outputs": [],
   "source": [
    "import tensorflow as tf\n",
    "from tensorflow.keras.models import Sequential, Model\n",
    "from tensorflow.keras.layers import Conv2D,MaxPooling2D,Dropout,Flatten,Dense\n",
    "import numpy as np\n",
    "\n",
    "# seed 값 설정\n",
    "seed = 0\n",
    "np.random.seed(seed)\n",
    "tf.random.set_seed(3)\n",
    "\n",
    "# 데이터 불러오기\n",
    "\n",
    "(xtr, ytr), (xte, yte) = tf.keras.datasets.mnist.load_data()\n",
    "xtr = xtr.reshape(xtr.shape[0], 28, 28, 1).astype('float32') / 255\n",
    "xte = xte.reshape(xte.shape[0], 28, 28, 1).astype('float32') / 255\n",
    "ytr = tf.keras.utils.to_categorical(ytr)\n",
    "yte = tf.keras.utils.to_categorical(yte)"
   ]
  },
  {
   "cell_type": "code",
   "execution_count": 29,
   "id": "sustained-crown",
   "metadata": {},
   "outputs": [],
   "source": [
    "xtr = xtr.reshape(*xtr.shape,1)\n",
    "xte = xte.reshape(*xte.shape,1)\n",
    "\n",
    "no_classes = 10\n",
    "xtr = xtr.astype('float32')\n",
    "xte = xte.astype('float32')\n",
    "xtr /= 255\n",
    "xte /= 255\n",
    "ytr = tf.keras.utils.to_categorical(ytr, no_classes)\n",
    "yte = tf.keras.utils.to_categorical(yte, no_classes)"
   ]
  },
  {
   "cell_type": "code",
   "execution_count": 58,
   "id": "hourly-gilbert",
   "metadata": {},
   "outputs": [],
   "source": [
    "model = Sequential()\n",
    "model.add(Conv2D(32, kernel_size=(3, 3), input_shape=(28, 28, 1), activation='relu'))\n",
    "model.add(Conv2D(64, (3, 3), activation='relu'))\n",
    "model.add(MaxPooling2D(pool_size=2))\n",
    "model.add(Dropout(0.25))\n",
    "model.add(Flatten())\n",
    "model.add(Dense(128,  activation='relu'))\n",
    "model.add(Dropout(0.5))\n",
    "model.add(Dense(10, activation='softmax'))\n",
    "\n",
    "model.compile(loss='categorical_crossentropy',\n",
    "              optimizer='adam',\n",
    "              metrics=['accuracy'])\n",
    "# model.summary()\n",
    "\n",
    "history = model.fit(xtr,ytr ,epochs=2, batch_size=200)"
   ]
  },
  {
   "cell_type": "code",
   "execution_count": null,
   "id": "excited-grill",
   "metadata": {},
   "outputs": [],
   "source": [
    "\n"
   ]
  },
  {
   "cell_type": "code",
   "execution_count": null,
   "id": "bizarre-flooring",
   "metadata": {},
   "outputs": [],
   "source": []
  }
 ],
 "metadata": {
  "kernelspec": {
   "display_name": "kera",
   "language": "python",
   "name": "kera"
  },
  "language_info": {
   "codemirror_mode": {
    "name": "ipython",
    "version": 3
   },
   "file_extension": ".py",
   "mimetype": "text/x-python",
   "name": "python",
   "nbconvert_exporter": "python",
   "pygments_lexer": "ipython3",
   "version": "3.6.12"
  },
  "widgets": {
   "application/vnd.jupyter.widget-state+json": {
    "state": {},
    "version_major": 2,
    "version_minor": 0
   }
  }
 },
 "nbformat": 4,
 "nbformat_minor": 5
}
