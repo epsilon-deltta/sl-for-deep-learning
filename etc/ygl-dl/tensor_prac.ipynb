{
 "cells": [
  {
   "cell_type": "code",
   "execution_count": 1,
   "id": "rising-society",
   "metadata": {},
   "outputs": [],
   "source": [
    "import pandas as pd\n",
    "import numpy as np\n",
    "import tensorflow as tf"
   ]
  },
  {
   "cell_type": "code",
   "execution_count": null,
   "id": "honey-genesis",
   "metadata": {},
   "outputs": [],
   "source": [
    "# eager execution\n",
    "# 1. tf.Session() \n",
    "# 2. sess.run()"
   ]
  },
  {
   "cell_type": "code",
   "execution_count": 5,
   "id": "realistic-message",
   "metadata": {},
   "outputs": [],
   "source": [
    "a = tf.constant(10)\n",
    "b = tf.constant(10)\n",
    "c = tf.constant(10)"
   ]
  },
  {
   "cell_type": "code",
   "execution_count": 6,
   "id": "civilian-immune",
   "metadata": {},
   "outputs": [],
   "source": [
    "d = tf.multiply(a, b)  # a * b\n",
    "e = tf.add(c, b)  # c + b\n",
    "f = tf.subtract(d, e)  # d - e"
   ]
  },
  {
   "cell_type": "code",
   "execution_count": 7,
   "id": "sticky-beijing",
   "metadata": {},
   "outputs": [
    {
     "ename": "AttributeError",
     "evalue": "module 'tensorflow' has no attribute 'Session'",
     "output_type": "error",
     "traceback": [
      "\u001b[1;31m---------------------------------------------------------------------------\u001b[0m",
      "\u001b[1;31mAttributeError\u001b[0m                            Traceback (most recent call last)",
      "\u001b[1;32m<ipython-input-7-aa587c0d1704>\u001b[0m in \u001b[0;36m<module>\u001b[1;34m\u001b[0m\n\u001b[0;32m      1\u001b[0m \u001b[1;31m# 세션을 만들고 연산그래프 실행\u001b[0m\u001b[1;33m\u001b[0m\u001b[1;33m\u001b[0m\u001b[1;33m\u001b[0m\u001b[0m\n\u001b[1;32m----> 2\u001b[1;33m \u001b[0msess\u001b[0m \u001b[1;33m=\u001b[0m \u001b[0mtf\u001b[0m\u001b[1;33m.\u001b[0m\u001b[0mSession\u001b[0m\u001b[1;33m(\u001b[0m\u001b[1;33m)\u001b[0m\u001b[1;33m\u001b[0m\u001b[1;33m\u001b[0m\u001b[0m\n\u001b[0m\u001b[0;32m      3\u001b[0m \u001b[0mouts\u001b[0m \u001b[1;33m=\u001b[0m \u001b[0msess\u001b[0m\u001b[1;33m.\u001b[0m\u001b[0mrun\u001b[0m\u001b[1;33m(\u001b[0m\u001b[0mf\u001b[0m\u001b[1;33m)\u001b[0m\u001b[1;33m\u001b[0m\u001b[1;33m\u001b[0m\u001b[0m\n\u001b[0;32m      4\u001b[0m \u001b[0msess\u001b[0m\u001b[1;33m.\u001b[0m\u001b[0mclose\u001b[0m\u001b[1;33m(\u001b[0m\u001b[1;33m)\u001b[0m\u001b[1;33m\u001b[0m\u001b[1;33m\u001b[0m\u001b[0m\n\u001b[0;32m      5\u001b[0m \u001b[0mprint\u001b[0m\u001b[1;33m(\u001b[0m\u001b[1;34m\"outs = {}\"\u001b[0m\u001b[1;33m.\u001b[0m\u001b[0mformat\u001b[0m\u001b[1;33m(\u001b[0m\u001b[0mouts\u001b[0m\u001b[1;33m)\u001b[0m\u001b[1;33m)\u001b[0m\u001b[1;33m\u001b[0m\u001b[1;33m\u001b[0m\u001b[0m\n",
      "\u001b[1;31mAttributeError\u001b[0m: module 'tensorflow' has no attribute 'Session'"
     ]
    }
   ],
   "source": [
    "# 세션을 만들고 연산그래프 실행\n",
    "sess = tf.Session()\n",
    "outs = sess.run(f)\n",
    "sess.close()\n",
    "print(\"outs = {}\".format(outs))\n"
   ]
  },
  {
   "cell_type": "code",
   "execution_count": 2,
   "id": "south-short",
   "metadata": {},
   "outputs": [],
   "source": [
    "# 새 그래프(Graph) 생성\n",
    "g = tf.Graph()"
   ]
  },
  {
   "cell_type": "code",
   "execution_count": 20,
   "id": "alert-friend",
   "metadata": {},
   "outputs": [
    {
     "ename": "AttributeError",
     "evalue": "module 'tensorflow' has no attribute 'get_default_graph'",
     "output_type": "error",
     "traceback": [
      "\u001b[1;31m---------------------------------------------------------------------------\u001b[0m",
      "\u001b[1;31mAttributeError\u001b[0m                            Traceback (most recent call last)",
      "\u001b[1;32m<ipython-input-20-52b6cfc48120>\u001b[0m in \u001b[0;36m<module>\u001b[1;34m\u001b[0m\n\u001b[1;32m----> 1\u001b[1;33m \u001b[0mprint\u001b[0m\u001b[1;33m(\u001b[0m\u001b[1;34m'default graph :'\u001b[0m\u001b[1;33m,\u001b[0m \u001b[0mtf\u001b[0m\u001b[1;33m.\u001b[0m\u001b[0mget_default_graph\u001b[0m\u001b[1;33m(\u001b[0m\u001b[1;33m)\u001b[0m\u001b[1;33m)\u001b[0m  \u001b[1;31m# default graph\u001b[0m\u001b[1;33m\u001b[0m\u001b[1;33m\u001b[0m\u001b[0m\n\u001b[0m\u001b[0;32m      2\u001b[0m \u001b[0mprint\u001b[0m\u001b[1;33m(\u001b[0m\u001b[1;34m'new graph :'\u001b[0m\u001b[1;33m,\u001b[0m \u001b[0mg\u001b[0m\u001b[1;33m)\u001b[0m  \u001b[1;31m# new graph\u001b[0m\u001b[1;33m\u001b[0m\u001b[1;33m\u001b[0m\u001b[0m\n\u001b[0;32m      3\u001b[0m \u001b[0ma\u001b[0m \u001b[1;33m=\u001b[0m \u001b[0mtf\u001b[0m\u001b[1;33m.\u001b[0m\u001b[0mconstant\u001b[0m\u001b[1;33m(\u001b[0m\u001b[1;36m5\u001b[0m\u001b[1;33m)\u001b[0m  \u001b[1;31m# a 노드 생성\u001b[0m\u001b[1;33m\u001b[0m\u001b[1;33m\u001b[0m\u001b[0m\n\u001b[0;32m      4\u001b[0m \u001b[0mprint\u001b[0m\u001b[1;33m(\u001b[0m\u001b[1;34m'a 노드가 g 그래프와 연결 되어 있나? :'\u001b[0m\u001b[1;33m,\u001b[0m \u001b[0ma\u001b[0m\u001b[1;33m.\u001b[0m\u001b[0mgraph\u001b[0m \u001b[1;32mis\u001b[0m \u001b[0mg\u001b[0m\u001b[1;33m)\u001b[0m\u001b[1;33m\u001b[0m\u001b[1;33m\u001b[0m\u001b[0m\n\u001b[0;32m      5\u001b[0m \u001b[0mprint\u001b[0m\u001b[1;33m(\u001b[0m\u001b[1;34m'a 노드가 기본 그래프와 연결 되어 있나? :'\u001b[0m\u001b[1;33m,\u001b[0m \u001b[0ma\u001b[0m\u001b[1;33m.\u001b[0m\u001b[0mgraph\u001b[0m \u001b[1;32mis\u001b[0m \u001b[0mtf\u001b[0m\u001b[1;33m.\u001b[0m\u001b[0mget_default_graph\u001b[0m\u001b[1;33m(\u001b[0m\u001b[1;33m)\u001b[0m\u001b[1;33m)\u001b[0m\u001b[1;33m\u001b[0m\u001b[1;33m\u001b[0m\u001b[0m\n",
      "\u001b[1;31mAttributeError\u001b[0m: module 'tensorflow' has no attribute 'get_default_graph'"
     ]
    }
   ],
   "source": [
    "print('default graph :', tf.get_default_graph())  # default graph \n",
    "print('new graph :', g)  # new graph\n",
    "a = tf.constant(5)  # a 노드 생성\n",
    "print('a 노드가 g 그래프와 연결 되어 있나? :', a.graph is g)\n",
    "print('a 노드가 기본 그래프와 연결 되어 있나? :', a.graph is tf.get_default_graph())"
   ]
  },
  {
   "cell_type": "code",
   "execution_count": 10,
   "id": "reduced-moore",
   "metadata": {},
   "outputs": [],
   "source": [
    "with tf.Graph().as_default():\n",
    "    c1 = tf.constant(4, dtype=tf.float64, name='c')\n",
    "    c2 = tf.constant(4, dtype=tf.int32, name='c')\n"
   ]
  },
  {
   "cell_type": "code",
   "execution_count": null,
   "id": "neural-grove",
   "metadata": {},
   "outputs": [],
   "source": [
    "g1 = tf.get_default_graph()\n",
    "g2 = tf.Graph()\n",
    "# g2 그래프가 기본 그래프인지 확인\n",
    "print('g2가 기본 그래프인가? : ', g2 is tf.get_default_graph())\n",
    "# with 구문을 이용한 \n",
    "# g2를 기본 그래프로 지정하기\n",
    "with g2.as_default():\n",
    "    print('g2가 기본 그래프인가? : ', g2 is tf.get_default_graph())\n",
    "# with 구문이 끝났으므로 \n",
    "# g2를 기본 그래프에서 해제\n",
    "print('g2가 기본 그래프인가? : ', g2 is tf.get_default_graph())\n"
   ]
  },
  {
   "cell_type": "code",
   "execution_count": null,
   "id": "unknown-brother",
   "metadata": {},
   "outputs": [],
   "source": [
    "with tf.Session() as sess:\n",
    "      fetches = [a, b, c, d, e, f]\n",
    "      outs = sess.run(fetches)\n",
    "      \n",
    "  print(\"outs = {}\".format(outs))\n",
    "  print(type(outs[0]))\n",
    "\n",
    "\n",
    "출처: https://excelsior-cjh.tistory.com/151?category=940399 [EXCELSIOR]"
   ]
  },
  {
   "cell_type": "code",
   "execution_count": null,
   "id": "acknowledged-history",
   "metadata": {},
   "outputs": [],
   "source": [
    "tensor_a = tf.constant([[1, 2], [3, 4]])\n",
    "    print('Session이 실행되기 전 :', tensor_a)\n",
    "    sess = tf.Session()\n",
    "    out = sess.run(tensor_a)\n",
    "    print('Session이 실행된 후 :\\n', out)\n"
   ]
  },
  {
   "cell_type": "markdown",
   "id": "polished-lambda",
   "metadata": {},
   "source": [
    "#### 추억의 tensorflow v 1 "
   ]
  },
  {
   "cell_type": "code",
   "execution_count": null,
   "id": "mexican-kitchen",
   "metadata": {},
   "outputs": [],
   "source": [
    "x_data = [1,2,3,4]\n",
    "y_data = [5,8,11,14]\n",
    "\n",
    "x = tf.placeholder(tf.float32)\n",
    "y = tf.placeholder(tf.float32)\n",
    "W = tf.Variable([1], dtype=tf.float32) # 가중치, 편향치 모두 경험적으로 1로 세팅했다\n",
    "b = tf.Variable([1], dtype=tf.float32)\n",
    "hypothesis = W * x + b\n",
    "cost = tf.reduce_mean(tf.square(hypothesis-y))\n",
    "optimizer = tf.train.GradientDescentOptimizer(learning_rate = 0.1)\n",
    "\n",
    "train_op = optimizer.minimize(cost)\n",
    "\n",
    "sess = tf.Session()\n",
    "sess.run(tf.global_variables_initializer()) # tensor를 선언하고 초기화 하지 않았기 때문에\n",
    "                                            # 초기화를 한 후 실행해야 한다\n",
    "for step in range(100):\n",
    "    _, cost_val = sess.run([train_op, cost], feed_dict={x: x_data, y: y_data})\n",
    "    print(\"Epoch: \",step, \"loss: \",cost_val,\" weight: \", sess.run(W),\" bias: \", sess.run(b))\n",
    "\n",
    "sess.run(hypothesis, feed_dict={x:5})"
   ]
  },
  {
   "cell_type": "markdown",
   "id": "brutal-worker",
   "metadata": {},
   "source": [
    "#### decorator "
   ]
  },
  {
   "cell_type": "code",
   "execution_count": null,
   "id": "acceptable-panel",
   "metadata": {},
   "outputs": [],
   "source": [
    "def nami(func):\n",
    "    for x in dir(func) :\n",
    "        if x.startswith('_'):\n",
    "            continue\n",
    "        print(x)\n",
    "    \n",
    "            "
   ]
  },
  {
   "cell_type": "code",
   "execution_count": 1,
   "id": "exotic-postage",
   "metadata": {},
   "outputs": [],
   "source": [
    "import streamlit as st"
   ]
  },
  {
   "cell_type": "code",
   "execution_count": null,
   "id": "developing-trigger",
   "metadata": {},
   "outputs": [],
   "source": [
    "st.checkbox()"
   ]
  }
 ],
 "metadata": {
  "kernelspec": {
   "display_name": "Python 3",
   "language": "python",
   "name": "python3"
  },
  "language_info": {
   "codemirror_mode": {
    "name": "ipython",
    "version": 3
   },
   "file_extension": ".py",
   "mimetype": "text/x-python",
   "name": "python",
   "nbconvert_exporter": "python",
   "pygments_lexer": "ipython3",
   "version": "3.6.12"
  },
  "widgets": {
   "application/vnd.jupyter.widget-state+json": {
    "state": {},
    "version_major": 2,
    "version_minor": 0
   }
  }
 },
 "nbformat": 4,
 "nbformat_minor": 5
}
